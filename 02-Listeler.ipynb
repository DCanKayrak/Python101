{
 "cells": [
  {
   "cell_type": "markdown",
   "id": "0ad89f91-811f-4f1f-abc9-7e942747f529",
   "metadata": {},
   "source": [
    "# Listeler"
   ]
  },
  {
   "cell_type": "code",
   "execution_count": 2,
   "id": "293e6f9b-111a-41f9-93c3-f837166b2ec6",
   "metadata": {},
   "outputs": [],
   "source": [
    "ad = \"Danyal Can\""
   ]
  },
  {
   "cell_type": "code",
   "execution_count": 3,
   "id": "f2d653d8-4bda-4880-8302-940644e32912",
   "metadata": {},
   "outputs": [
    {
     "data": {
      "text/plain": [
       "'D'"
      ]
     },
     "execution_count": 3,
     "metadata": {},
     "output_type": "execute_result"
    }
   ],
   "source": [
    "ad[0]"
   ]
  },
  {
   "cell_type": "code",
   "execution_count": 4,
   "id": "3373c2cb-93fc-4e8a-976a-9b28351a2522",
   "metadata": {},
   "outputs": [
    {
     "ename": "TypeError",
     "evalue": "'str' object does not support item assignment",
     "output_type": "error",
     "traceback": [
      "\u001b[1;31m---------------------------------------------------------------------------\u001b[0m",
      "\u001b[1;31mTypeError\u001b[0m                                 Traceback (most recent call last)",
      "Input \u001b[1;32mIn [4]\u001b[0m, in \u001b[0;36m<cell line: 2>\u001b[1;34m()\u001b[0m\n\u001b[0;32m      1\u001b[0m \u001b[38;5;66;03m# Hatalı işlem\u001b[39;00m\n\u001b[1;32m----> 2\u001b[0m ad[\u001b[38;5;241m0\u001b[39m] \u001b[38;5;241m=\u001b[39m \u001b[38;5;124m\"\u001b[39m\u001b[38;5;124mC\u001b[39m\u001b[38;5;124m\"\u001b[39m\n",
      "\u001b[1;31mTypeError\u001b[0m: 'str' object does not support item assignment"
     ]
    }
   ],
   "source": [
    "# Hatalı işlem\n",
    "# ad[0] = \"C\""
   ]
  },
  {
   "cell_type": "code",
   "execution_count": 4,
   "id": "ae202e0d-36c8-4b71-8798-1db0113c79e5",
   "metadata": {},
   "outputs": [],
   "source": [
    "liste = [10,20,30,40]"
   ]
  },
  {
   "cell_type": "code",
   "execution_count": 5,
   "id": "7f581082-c931-4a04-9fd9-017c6e1a749f",
   "metadata": {},
   "outputs": [
    {
     "data": {
      "text/plain": [
       "30"
      ]
     },
     "execution_count": 5,
     "metadata": {},
     "output_type": "execute_result"
    }
   ],
   "source": [
    "liste[2]"
   ]
  },
  {
   "cell_type": "code",
   "execution_count": 6,
   "id": "90400b85-9801-45f4-9bc2-68a23dfdb02c",
   "metadata": {},
   "outputs": [],
   "source": [
    "liste[3] = 100"
   ]
  },
  {
   "cell_type": "code",
   "execution_count": 7,
   "id": "49e5c7ce-467d-420e-8ac5-8263ac34d86f",
   "metadata": {},
   "outputs": [
    {
     "data": {
      "text/plain": [
       "[10, 20, 30, 100]"
      ]
     },
     "execution_count": 7,
     "metadata": {},
     "output_type": "execute_result"
    }
   ],
   "source": [
    "liste"
   ]
  },
  {
   "cell_type": "code",
   "execution_count": 8,
   "id": "ae611b9c-c368-4550-ba2f-2b2c83e63abd",
   "metadata": {},
   "outputs": [],
   "source": [
    "liste.append(50)"
   ]
  },
  {
   "cell_type": "code",
   "execution_count": 9,
   "id": "9040106a-ef46-4065-bdb1-1b9d83f90a28",
   "metadata": {},
   "outputs": [
    {
     "data": {
      "text/plain": [
       "[10, 20, 30, 100, 50]"
      ]
     },
     "execution_count": 9,
     "metadata": {},
     "output_type": "execute_result"
    }
   ],
   "source": [
    "liste"
   ]
  },
  {
   "cell_type": "code",
   "execution_count": 10,
   "id": "4838598c-7e62-4e65-92d0-9d4b9849a174",
   "metadata": {},
   "outputs": [
    {
     "data": {
      "text/plain": [
       "50"
      ]
     },
     "execution_count": 10,
     "metadata": {},
     "output_type": "execute_result"
    }
   ],
   "source": [
    "liste.pop()"
   ]
  },
  {
   "cell_type": "code",
   "execution_count": 11,
   "id": "9b79e884-fef8-4c00-b4ba-61f9c4746474",
   "metadata": {},
   "outputs": [
    {
     "data": {
      "text/plain": [
       "[10, 20, 30, 100]"
      ]
     },
     "execution_count": 11,
     "metadata": {},
     "output_type": "execute_result"
    }
   ],
   "source": [
    "liste"
   ]
  },
  {
   "cell_type": "code",
   "execution_count": 12,
   "id": "3849948a-edfb-455a-b098-19210d1c2d0e",
   "metadata": {},
   "outputs": [],
   "source": [
    "liste.remove(10)"
   ]
  },
  {
   "cell_type": "code",
   "execution_count": 13,
   "id": "79a05341-3d2b-4a16-8daa-503f28955365",
   "metadata": {},
   "outputs": [
    {
     "data": {
      "text/plain": [
       "[20, 30, 100]"
      ]
     },
     "execution_count": 13,
     "metadata": {},
     "output_type": "execute_result"
    }
   ],
   "source": [
    "liste"
   ]
  },
  {
   "cell_type": "code",
   "execution_count": 15,
   "id": "424a8e64-d112-4114-9ec5-e26b1c8f4726",
   "metadata": {},
   "outputs": [],
   "source": [
    "#liste.remove(5)\n",
    "#olmayan birşey çıkarırsak hata verecektir"
   ]
  },
  {
   "cell_type": "code",
   "execution_count": 16,
   "id": "8e0cb7f2-7847-4f2e-bf0a-e9ee1ac5908d",
   "metadata": {},
   "outputs": [
    {
     "data": {
      "text/plain": [
       "1"
      ]
     },
     "execution_count": 16,
     "metadata": {},
     "output_type": "execute_result"
    }
   ],
   "source": [
    "liste.count(20)"
   ]
  },
  {
   "cell_type": "code",
   "execution_count": 17,
   "id": "4796d5be-c2f0-4a31-8452-c3907d3c2987",
   "metadata": {},
   "outputs": [],
   "source": [
    "liste.append(20)"
   ]
  },
  {
   "cell_type": "code",
   "execution_count": 18,
   "id": "90d94761-8bfe-465f-9ba9-9bcea29c67aa",
   "metadata": {},
   "outputs": [
    {
     "data": {
      "text/plain": [
       "2"
      ]
     },
     "execution_count": 18,
     "metadata": {},
     "output_type": "execute_result"
    }
   ],
   "source": [
    "liste.count(20)"
   ]
  },
  {
   "cell_type": "code",
   "execution_count": 19,
   "id": "f7e2afe6-d4e9-4737-9a5a-eb3cc529c18c",
   "metadata": {},
   "outputs": [],
   "source": [
    "liste2 = [\"danyal\",\"can\",\"kayrak\"]"
   ]
  },
  {
   "cell_type": "code",
   "execution_count": 20,
   "id": "654a5597-d20a-4318-8b54-1897a6456839",
   "metadata": {},
   "outputs": [],
   "source": [
    "liste1 = [\"can\",\"cancan\",\"test\"]"
   ]
  },
  {
   "cell_type": "code",
   "execution_count": 21,
   "id": "c78a0410-84ca-4cd1-9fe0-401831cc4d6b",
   "metadata": {},
   "outputs": [],
   "source": [
    "benimToplamListem = liste1+liste2"
   ]
  },
  {
   "cell_type": "code",
   "execution_count": 22,
   "id": "481163da-3986-4d7f-aaa8-0ad62889df44",
   "metadata": {},
   "outputs": [
    {
     "data": {
      "text/plain": [
       "['can', 'cancan', 'test', 'danyal', 'can', 'kayrak']"
      ]
     },
     "execution_count": 22,
     "metadata": {},
     "output_type": "execute_result"
    }
   ],
   "source": [
    "benimToplamListem"
   ]
  },
  {
   "cell_type": "code",
   "execution_count": 23,
   "id": "a498d8a9-1e98-4e3c-b312-05ea5be2593f",
   "metadata": {},
   "outputs": [
    {
     "data": {
      "text/plain": [
       "['can',\n",
       " 'cancan',\n",
       " 'test',\n",
       " 'danyal',\n",
       " 'can',\n",
       " 'kayrak',\n",
       " 'can',\n",
       " 'cancan',\n",
       " 'test',\n",
       " 'danyal',\n",
       " 'can',\n",
       " 'kayrak',\n",
       " 'can',\n",
       " 'cancan',\n",
       " 'test',\n",
       " 'danyal',\n",
       " 'can',\n",
       " 'kayrak',\n",
       " 'can',\n",
       " 'cancan',\n",
       " 'test',\n",
       " 'danyal',\n",
       " 'can',\n",
       " 'kayrak',\n",
       " 'can',\n",
       " 'cancan',\n",
       " 'test',\n",
       " 'danyal',\n",
       " 'can',\n",
       " 'kayrak']"
      ]
     },
     "execution_count": 23,
     "metadata": {},
     "output_type": "execute_result"
    }
   ],
   "source": [
    "benimToplamListem * 5"
   ]
  },
  {
   "cell_type": "code",
   "execution_count": 25,
   "id": "b332d9f0-e89a-43f3-995f-8747dda74401",
   "metadata": {},
   "outputs": [],
   "source": [
    "#bölme ve çıkarma olmaz.\n",
    "#benimToplamListem / 5"
   ]
  },
  {
   "cell_type": "code",
   "execution_count": 26,
   "id": "e6a8703a-f8cd-491d-a1ad-3b9c1a4cd46e",
   "metadata": {},
   "outputs": [],
   "source": [
    "benimToplamListem.reverse()"
   ]
  },
  {
   "cell_type": "code",
   "execution_count": 27,
   "id": "60fdcc89-fa28-461b-a9b4-da2f09fa2fa5",
   "metadata": {},
   "outputs": [
    {
     "data": {
      "text/plain": [
       "['kayrak', 'can', 'danyal', 'test', 'cancan', 'can']"
      ]
     },
     "execution_count": 27,
     "metadata": {},
     "output_type": "execute_result"
    }
   ],
   "source": [
    "benimToplamListem"
   ]
  },
  {
   "cell_type": "code",
   "execution_count": 28,
   "id": "f9088e9e-b617-44aa-b4db-0b07ed6077ff",
   "metadata": {},
   "outputs": [],
   "source": [
    "karisikListe = [1,2,5,8,5,3,\"can\",3.4]"
   ]
  },
  {
   "cell_type": "code",
   "execution_count": 29,
   "id": "8af71082-ab8c-4b24-8d42-5a93f73a3449",
   "metadata": {},
   "outputs": [
    {
     "data": {
      "text/plain": [
       "[1, 2, 5, 8, 5, 3, 'can', 3.4]"
      ]
     },
     "execution_count": 29,
     "metadata": {},
     "output_type": "execute_result"
    }
   ],
   "source": [
    "karisikListe"
   ]
  },
  {
   "cell_type": "code",
   "execution_count": 30,
   "id": "d6593d3a-3166-4884-978f-eca99bbc511c",
   "metadata": {},
   "outputs": [
    {
     "data": {
      "text/plain": [
       "1"
      ]
     },
     "execution_count": 30,
     "metadata": {},
     "output_type": "execute_result"
    }
   ],
   "source": [
    "karisikListe[0]"
   ]
  },
  {
   "cell_type": "code",
   "execution_count": 31,
   "id": "6b59dbc0-5d8d-45ae-90e4-9f9bbbba11f4",
   "metadata": {},
   "outputs": [
    {
     "data": {
      "text/plain": [
       "int"
      ]
     },
     "execution_count": 31,
     "metadata": {},
     "output_type": "execute_result"
    }
   ],
   "source": [
    "type(karisikListe[0])"
   ]
  },
  {
   "cell_type": "code",
   "execution_count": 32,
   "id": "70a9c73e-b54a-4c50-b611-fb1a1ef8f6f8",
   "metadata": {},
   "outputs": [
    {
     "data": {
      "text/plain": [
       "float"
      ]
     },
     "execution_count": 32,
     "metadata": {},
     "output_type": "execute_result"
    }
   ],
   "source": [
    "type(karisikListe[7])"
   ]
  },
  {
   "cell_type": "code",
   "execution_count": 33,
   "id": "876b8f00-a231-45c7-86df-948ddfdf4745",
   "metadata": {},
   "outputs": [
    {
     "data": {
      "text/plain": [
       "str"
      ]
     },
     "execution_count": 33,
     "metadata": {},
     "output_type": "execute_result"
    }
   ],
   "source": [
    "type(karisikListe[6])"
   ]
  },
  {
   "cell_type": "code",
   "execution_count": 34,
   "id": "947bb043-8119-41d0-8bbc-5305900b999a",
   "metadata": {},
   "outputs": [],
   "source": [
    "# nested list"
   ]
  },
  {
   "cell_type": "code",
   "execution_count": 35,
   "id": "605080ff-afa7-46d7-ada1-c6652853a181",
   "metadata": {},
   "outputs": [],
   "source": [
    "nestedList = [2,3,6,karisikListe,\"z\"]"
   ]
  },
  {
   "cell_type": "code",
   "execution_count": 36,
   "id": "d55df31c-1ee1-426c-aaec-05c377703e8a",
   "metadata": {},
   "outputs": [
    {
     "data": {
      "text/plain": [
       "2"
      ]
     },
     "execution_count": 36,
     "metadata": {},
     "output_type": "execute_result"
    }
   ],
   "source": [
    "nestedList[0]"
   ]
  },
  {
   "cell_type": "code",
   "execution_count": 37,
   "id": "43a42973-c23b-4edb-881c-e8546f6aefdf",
   "metadata": {},
   "outputs": [
    {
     "data": {
      "text/plain": [
       "[1, 2, 5, 8, 5, 3, 'can', 3.4]"
      ]
     },
     "execution_count": 37,
     "metadata": {},
     "output_type": "execute_result"
    }
   ],
   "source": [
    "nestedList[3]"
   ]
  },
  {
   "cell_type": "code",
   "execution_count": 38,
   "id": "ef2e4d29-b808-43e5-8388-cd3acdc3793b",
   "metadata": {},
   "outputs": [],
   "source": [
    "yeniListe = [[3,5,7,[\"can\",\"test\"],[6,7,8]],[3,7,\"z\"]]"
   ]
  },
  {
   "cell_type": "code",
   "execution_count": 39,
   "id": "21736237-995a-4729-b538-cb5c099d58fa",
   "metadata": {},
   "outputs": [
    {
     "data": {
      "text/plain": [
       "'z'"
      ]
     },
     "execution_count": 39,
     "metadata": {},
     "output_type": "execute_result"
    }
   ],
   "source": [
    "yeniListe[1][2]"
   ]
  },
  {
   "cell_type": "code",
   "execution_count": null,
   "id": "5e769674-df2d-44d4-840e-e76c17dd47f2",
   "metadata": {},
   "outputs": [],
   "source": []
  },
  {
   "cell_type": "code",
   "execution_count": null,
   "id": "338d3e9b-7651-4cc3-a0eb-e968aa549265",
   "metadata": {},
   "outputs": [],
   "source": []
  },
  {
   "cell_type": "code",
   "execution_count": null,
   "id": "61882ba3-7b72-4dd8-85a3-d4e4627374ff",
   "metadata": {},
   "outputs": [],
   "source": []
  },
  {
   "cell_type": "code",
   "execution_count": null,
   "id": "e2f74510-8b58-4e9f-933a-ddb66370c3ca",
   "metadata": {},
   "outputs": [],
   "source": []
  }
 ],
 "metadata": {
  "kernelspec": {
   "display_name": "Python 3 (ipykernel)",
   "language": "python",
   "name": "python3"
  },
  "language_info": {
   "codemirror_mode": {
    "name": "ipython",
    "version": 3
   },
   "file_extension": ".py",
   "mimetype": "text/x-python",
   "name": "python",
   "nbconvert_exporter": "python",
   "pygments_lexer": "ipython3",
   "version": "3.9.12"
  }
 },
 "nbformat": 4,
 "nbformat_minor": 5
}
