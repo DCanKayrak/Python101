{
 "cells": [
  {
   "cell_type": "code",
   "execution_count": 1,
   "id": "4faeb476-dd71-4e78-ac53-910b9544df7d",
   "metadata": {},
   "outputs": [],
   "source": [
    "numara = [10,20,30,40,50]"
   ]
  },
  {
   "cell_type": "code",
   "execution_count": 4,
   "id": "ed769259-5080-4c3c-ba89-bc1bd0f146f8",
   "metadata": {},
   "outputs": [
    {
     "name": "stdout",
     "output_type": "stream",
     "text": [
      "döngü başlangıcı\n",
      "6.0\n",
      "12.0\n",
      "18.0\n",
      "24.0\n",
      "30.0\n",
      "döngü bitişi\n"
     ]
    }
   ],
   "source": [
    "print(\"döngü başlangıcı\")\n",
    "for i in numara:\n",
    "    print(i/5*3)\n",
    "print(\"döngü bitişi\")"
   ]
  },
  {
   "cell_type": "code",
   "execution_count": 6,
   "id": "5fa16b06-8925-41e2-b558-b3aa43d7139e",
   "metadata": {},
   "outputs": [
    {
     "name": "stdout",
     "output_type": "stream",
     "text": [
      "78\n",
      "6\n"
     ]
    }
   ],
   "source": [
    "for item in [3,5,78,9,6,3]:\n",
    "    if item % 2 == 0:\n",
    "        print(item)"
   ]
  },
  {
   "cell_type": "code",
   "execution_count": 7,
   "id": "b6245eb0-3457-4a5a-ae7e-e851e3ad4238",
   "metadata": {},
   "outputs": [],
   "source": [
    "# with strings"
   ]
  },
  {
   "cell_type": "code",
   "execution_count": 8,
   "id": "bc40906f-b74c-4254-abcf-4e414bb3f785",
   "metadata": {},
   "outputs": [],
   "source": [
    "name = \"DANYAL CAN KAYRAK\""
   ]
  },
  {
   "cell_type": "code",
   "execution_count": 9,
   "id": "149b9f87-8698-42a1-aed4-611bda25b76e",
   "metadata": {},
   "outputs": [
    {
     "name": "stdout",
     "output_type": "stream",
     "text": [
      "D\n",
      "A\n",
      "N\n",
      "Y\n",
      "A\n",
      "L\n",
      " \n",
      "C\n",
      "A\n",
      "N\n",
      " \n",
      "K\n",
      "A\n",
      "Y\n",
      "R\n",
      "A\n",
      "K\n"
     ]
    }
   ],
   "source": [
    "for letter in name:\n",
    "    print(letter)"
   ]
  },
  {
   "cell_type": "code",
   "execution_count": 10,
   "id": "17aeacbb-279b-40a2-a94a-7f2a29e0f9a6",
   "metadata": {},
   "outputs": [],
   "source": [
    "# with tuple"
   ]
  },
  {
   "cell_type": "code",
   "execution_count": 11,
   "id": "34d34fbb-4396-42e3-af3f-20c3f70763d9",
   "metadata": {},
   "outputs": [],
   "source": [
    "t = (3,5,7,9)"
   ]
  },
  {
   "cell_type": "code",
   "execution_count": 12,
   "id": "6d66c495-3808-406b-ab41-f6814a227039",
   "metadata": {},
   "outputs": [
    {
     "name": "stdout",
     "output_type": "stream",
     "text": [
      "-2\n",
      "0\n",
      "2\n",
      "4\n"
     ]
    }
   ],
   "source": [
    "for i in t:\n",
    "    print(i - 5)"
   ]
  },
  {
   "cell_type": "code",
   "execution_count": 13,
   "id": "ca261633-a509-436c-95f6-83981949c607",
   "metadata": {},
   "outputs": [],
   "source": [
    "koordinat = [(3,5),(4,9),(3,9)]"
   ]
  },
  {
   "cell_type": "code",
   "execution_count": 14,
   "id": "39fa1efb-ae30-47a3-b079-20cbc32a7886",
   "metadata": {},
   "outputs": [
    {
     "name": "stdout",
     "output_type": "stream",
     "text": [
      "3\n",
      "4\n",
      "3\n"
     ]
    }
   ],
   "source": [
    "for (x,y) in koordinat:\n",
    "    print(x)"
   ]
  },
  {
   "cell_type": "code",
   "execution_count": 15,
   "id": "13fea329-7325-44fe-bcb5-067b4d677f60",
   "metadata": {},
   "outputs": [
    {
     "name": "stdout",
     "output_type": "stream",
     "text": [
      "5\n",
      "9\n",
      "9\n"
     ]
    }
   ],
   "source": [
    "for (x,y) in koordinat:\n",
    "    print(y)"
   ]
  },
  {
   "cell_type": "code",
   "execution_count": 16,
   "id": "dff0e8a1-f9ae-4e54-8dff-e5e1229ee0b9",
   "metadata": {},
   "outputs": [],
   "source": [
    "myWeirdList = [(1,2,54),(3,5,8),(3,45,8)]"
   ]
  },
  {
   "cell_type": "code",
   "execution_count": 17,
   "id": "d54e8e24-7259-4ae2-b0b7-25d5ef75370a",
   "metadata": {},
   "outputs": [
    {
     "name": "stdout",
     "output_type": "stream",
     "text": [
      "54\n",
      "8\n",
      "8\n"
     ]
    }
   ],
   "source": [
    "for (x,y,z) in myWeirdList:\n",
    "    print(z)"
   ]
  },
  {
   "cell_type": "code",
   "execution_count": 18,
   "id": "e748be3c-591c-4efd-b21c-e9035467fa03",
   "metadata": {},
   "outputs": [],
   "source": [
    "dict = {\"key1\":50,\"key2\":100,\"key3\":150}"
   ]
  },
  {
   "cell_type": "code",
   "execution_count": 19,
   "id": "a2c54077-35fc-4a5f-9ed6-b2bff4a768b7",
   "metadata": {},
   "outputs": [
    {
     "data": {
      "text/plain": [
       "{'key1': 50, 'key2': 100, 'key3': 150}"
      ]
     },
     "execution_count": 19,
     "metadata": {},
     "output_type": "execute_result"
    }
   ],
   "source": [
    "dict"
   ]
  },
  {
   "cell_type": "code",
   "execution_count": 21,
   "id": "855f1c2e-a973-4c98-a88b-27a4a673c125",
   "metadata": {},
   "outputs": [
    {
     "name": "stdout",
     "output_type": "stream",
     "text": [
      "50\n",
      "100\n",
      "150\n"
     ]
    }
   ],
   "source": [
    "for (key,value) in dict.items():\n",
    "    print(value)"
   ]
  },
  {
   "cell_type": "code",
   "execution_count": 22,
   "id": "630222a4-fe4f-4281-8bd0-622c1acc40c6",
   "metadata": {},
   "outputs": [
    {
     "name": "stdout",
     "output_type": "stream",
     "text": [
      "key1\n",
      "key2\n",
      "key3\n"
     ]
    }
   ],
   "source": [
    "for (key,value) in dict.items():\n",
    "    print(key)"
   ]
  }
 ],
 "metadata": {
  "kernelspec": {
   "display_name": "Python 3 (ipykernel)",
   "language": "python",
   "name": "python3"
  },
  "language_info": {
   "codemirror_mode": {
    "name": "ipython",
    "version": 3
   },
   "file_extension": ".py",
   "mimetype": "text/x-python",
   "name": "python",
   "nbconvert_exporter": "python",
   "pygments_lexer": "ipython3",
   "version": "3.9.12"
  }
 },
 "nbformat": 4,
 "nbformat_minor": 5
}
