{
 "cells": [
  {
   "cell_type": "code",
   "execution_count": 1,
   "id": "285409d7-8cf1-48f6-90e1-6053a143476b",
   "metadata": {},
   "outputs": [],
   "source": [
    "x = 5\n",
    "y = 3"
   ]
  },
  {
   "cell_type": "code",
   "execution_count": 2,
   "id": "60997e78-bd0a-4013-a331-43fddb9ec21a",
   "metadata": {},
   "outputs": [
    {
     "name": "stdout",
     "output_type": "stream",
     "text": [
      "x y'den büyüktür.\n"
     ]
    }
   ],
   "source": [
    "if x > y:\n",
    "    print(\"x y'den büyüktür.\")\n",
    "elif x < y:\n",
    "    print(\"y x den büyüktür\")\n",
    "else:\n",
    "    print(\"eşittir\")"
   ]
  },
  {
   "cell_type": "code",
   "execution_count": 3,
   "id": "79e00177-bb9d-487a-8653-8b341d053708",
   "metadata": {},
   "outputs": [],
   "source": [
    "x = 5\n",
    "y = 5\n"
   ]
  },
  {
   "cell_type": "code",
   "execution_count": 4,
   "id": "c9486c34-c1ec-4467-90e4-1018d944339f",
   "metadata": {},
   "outputs": [
    {
     "name": "stdout",
     "output_type": "stream",
     "text": [
      "eşittir\n"
     ]
    }
   ],
   "source": [
    "if x > y:\n",
    "    print(\"x y'den büyüktür.\")\n",
    "elif x < y:\n",
    "    print(\"y x den büyüktür\")\n",
    "else:\n",
    "    print(\"eşittir\")"
   ]
  },
  {
   "cell_type": "code",
   "execution_count": 6,
   "id": "0a9c7b4a-c7fd-4db3-ad15-67839264ef4b",
   "metadata": {},
   "outputs": [],
   "source": [
    "x = 2\n",
    "y = 3"
   ]
  },
  {
   "cell_type": "code",
   "execution_count": 7,
   "id": "5cf00fcd-6593-4566-9d7b-80050ef9a43c",
   "metadata": {},
   "outputs": [
    {
     "name": "stdout",
     "output_type": "stream",
     "text": [
      "y x den büyüktür\n"
     ]
    }
   ],
   "source": [
    "if x > y:\n",
    "    print(\"x y'den büyüktür.\")\n",
    "elif x < y:\n",
    "    print(\"y x den büyüktür\")\n",
    "else:\n",
    "    print(\"eşittir\")"
   ]
  },
  {
   "cell_type": "code",
   "execution_count": 9,
   "id": "fa5a0d40-b2e1-4d8b-838f-01df945adf7a",
   "metadata": {},
   "outputs": [
    {
     "name": "stdout",
     "output_type": "stream",
     "text": [
      "hello\n"
     ]
    }
   ],
   "source": [
    "if True:\n",
    "    print(\"hello\")"
   ]
  },
  {
   "cell_type": "code",
   "execution_count": 10,
   "id": "9897e4da-b486-490a-9a38-d76b15f2bcce",
   "metadata": {},
   "outputs": [],
   "source": [
    "a = 5\n",
    "b = 2\n",
    "c = 3"
   ]
  },
  {
   "cell_type": "code",
   "execution_count": 11,
   "id": "1802ec92-2f46-42b7-8b8f-cc69cea6ca17",
   "metadata": {},
   "outputs": [
    {
     "name": "stdout",
     "output_type": "stream",
     "text": [
      "True\n"
     ]
    }
   ],
   "source": [
    "if a > b and c > b:\n",
    "    print(\"True\")"
   ]
  },
  {
   "cell_type": "code",
   "execution_count": 12,
   "id": "46f71acb-d7db-45e3-bf07-51257903ca3e",
   "metadata": {},
   "outputs": [
    {
     "name": "stdin",
     "output_type": "stream",
     "text": [
      "Araba Markanızı Giriniz BMW\n"
     ]
    }
   ],
   "source": [
    "araba = input(\"Araba Markanızı Giriniz\")"
   ]
  },
  {
   "cell_type": "code",
   "execution_count": 13,
   "id": "b09f5d7d-b10b-49bb-b9d9-11c1cca059cd",
   "metadata": {},
   "outputs": [
    {
     "name": "stdout",
     "output_type": "stream",
     "text": [
      "Sen işini biliyorsun :)\n"
     ]
    }
   ],
   "source": [
    "if araba == \"BMW\":\n",
    "    print(\"Sen işini biliyorsun :)\")\n",
    "elif araba == \"Mercedes\":\n",
    "    print(\"Para Gibisi Yok!\")\n",
    "elif araba == \"Tofaş\":\n",
    "    print(\"Olsa Da yanlasak...\")\n",
    "else:\n",
    "    print(\"Güzel Araba\")"
   ]
  },
  {
   "cell_type": "code",
   "execution_count": 14,
   "id": "ad656386-de75-427e-ade4-70e8c91b0b8d",
   "metadata": {},
   "outputs": [
    {
     "name": "stdin",
     "output_type": "stream",
     "text": [
      "Araba Markanızı Giriniz Tofaş\n"
     ]
    }
   ],
   "source": [
    "araba = input(\"Araba Markanızı Giriniz\")"
   ]
  },
  {
   "cell_type": "code",
   "execution_count": 15,
   "id": "0cca3a7c-57ab-4c3a-a555-977b8b2bb4eb",
   "metadata": {},
   "outputs": [
    {
     "name": "stdout",
     "output_type": "stream",
     "text": [
      "Olsa Da yanlasak...\n"
     ]
    }
   ],
   "source": [
    "if araba == \"BMW\":\n",
    "    print(\"Sen işini biliyorsun :)\")\n",
    "elif araba == \"Mercedes\":\n",
    "    print(\"Para Gibisi Yok!\")\n",
    "elif araba == \"Tofaş\":\n",
    "    print(\"Olsa Da yanlasak...\")\n",
    "else:\n",
    "    print(\"Güzel Araba\")"
   ]
  }
 ],
 "metadata": {
  "kernelspec": {
   "display_name": "Python 3 (ipykernel)",
   "language": "python",
   "name": "python3"
  },
  "language_info": {
   "codemirror_mode": {
    "name": "ipython",
    "version": 3
   },
   "file_extension": ".py",
   "mimetype": "text/x-python",
   "name": "python",
   "nbconvert_exporter": "python",
   "pygments_lexer": "ipython3",
   "version": "3.9.12"
  }
 },
 "nbformat": 4,
 "nbformat_minor": 5
}
