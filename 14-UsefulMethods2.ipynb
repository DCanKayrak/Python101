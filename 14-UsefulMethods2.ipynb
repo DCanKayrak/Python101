{
 "cells": [
  {
   "cell_type": "code",
   "execution_count": 2,
   "id": "3b43942b-2139-469e-ae71-f5f848aa6306",
   "metadata": {},
   "outputs": [
    {
     "data": {
      "text/plain": [
       "[0, 1, 2, 3, 4, 5, 6, 7, 8, 9]"
      ]
     },
     "execution_count": 2,
     "metadata": {},
     "output_type": "execute_result"
    }
   ],
   "source": [
    "myList = list(range(10))\n",
    "myList"
   ]
  },
  {
   "cell_type": "code",
   "execution_count": 3,
   "id": "c642e5ff-82f8-4d00-91cf-9876065700c1",
   "metadata": {},
   "outputs": [],
   "source": [
    "def subdivide(num):\n",
    "    return num / 2"
   ]
  },
  {
   "cell_type": "code",
   "execution_count": 4,
   "id": "6279f8cc-3aed-42b7-847f-614088e28bbf",
   "metadata": {},
   "outputs": [
    {
     "data": {
      "text/plain": [
       "[0.0, 0.5, 1.0, 1.5, 2.0, 2.5, 3.0, 3.5, 4.0, 4.5]"
      ]
     },
     "execution_count": 4,
     "metadata": {},
     "output_type": "execute_result"
    }
   ],
   "source": [
    "newList = []\n",
    "for i in myList:\n",
    "    newList.append(subdivide(i))\n",
    "newList"
   ]
  },
  {
   "cell_type": "markdown",
   "id": "891d89f7-ce23-41e4-a00d-9aa07d66613e",
   "metadata": {},
   "source": [
    "## map"
   ]
  },
  {
   "cell_type": "code",
   "execution_count": 5,
   "id": "6c1506b7-be2f-49f8-b644-4bee0e7fe6c6",
   "metadata": {},
   "outputs": [
    {
     "data": {
      "text/plain": [
       "<map at 0x22be2aadbb0>"
      ]
     },
     "execution_count": 5,
     "metadata": {},
     "output_type": "execute_result"
    }
   ],
   "source": [
    "map(subdivide,myList)"
   ]
  },
  {
   "cell_type": "code",
   "execution_count": 6,
   "id": "b40642cd-09ee-47a8-a8c4-5d5e90b5934f",
   "metadata": {},
   "outputs": [
    {
     "data": {
      "text/plain": [
       "[0.0, 0.5, 1.0, 1.5, 2.0, 2.5, 3.0, 3.5, 4.0, 4.5]"
      ]
     },
     "execution_count": 6,
     "metadata": {},
     "output_type": "execute_result"
    }
   ],
   "source": [
    "list(map(subdivide,myList))"
   ]
  },
  {
   "cell_type": "code",
   "execution_count": 13,
   "id": "60858bfb-a3e9-4b39-93a5-cb865de2bd03",
   "metadata": {},
   "outputs": [],
   "source": [
    "def CharControl(text):\n",
    "    return \"a\" in text"
   ]
  },
  {
   "cell_type": "code",
   "execution_count": 8,
   "id": "f67084b2-6441-45cd-a55c-233ae0256572",
   "metadata": {},
   "outputs": [
    {
     "data": {
      "text/plain": [
       "True"
      ]
     },
     "execution_count": 8,
     "metadata": {},
     "output_type": "execute_result"
    }
   ],
   "source": [
    "\"a\" in \"Danyal\""
   ]
  },
  {
   "cell_type": "code",
   "execution_count": 14,
   "id": "df53d253-c915-4a73-be13-0688aa87aa44",
   "metadata": {},
   "outputs": [
    {
     "data": {
      "text/plain": [
       "True"
      ]
     },
     "execution_count": 14,
     "metadata": {},
     "output_type": "execute_result"
    }
   ],
   "source": [
    "CharControl(\"Danyal\")"
   ]
  },
  {
   "cell_type": "code",
   "execution_count": 15,
   "id": "4f422a67-f524-4d30-a076-6e5560350b96",
   "metadata": {},
   "outputs": [
    {
     "data": {
      "text/plain": [
       "False"
      ]
     },
     "execution_count": 15,
     "metadata": {},
     "output_type": "execute_result"
    }
   ],
   "source": [
    "CharControl(\"Del\")"
   ]
  },
  {
   "cell_type": "code",
   "execution_count": 11,
   "id": "f794ecad-4479-4c5f-8a1b-7185235174a6",
   "metadata": {},
   "outputs": [],
   "source": [
    "strList = [\"Ali\",\"Ahmet\",\"Can\",\"Kaya\",\"Ayşe\"]"
   ]
  },
  {
   "cell_type": "code",
   "execution_count": 16,
   "id": "cd3b2cea-f64c-4dba-b379-6d28582cf54c",
   "metadata": {},
   "outputs": [
    {
     "data": {
      "text/plain": [
       "[False, False, True, True, False]"
      ]
     },
     "execution_count": 16,
     "metadata": {},
     "output_type": "execute_result"
    }
   ],
   "source": [
    "list(map(CharControl,strList))"
   ]
  },
  {
   "cell_type": "markdown",
   "id": "443ea1cb-614e-4868-9d33-4ad3929e2471",
   "metadata": {},
   "source": [
    "## filter"
   ]
  },
  {
   "cell_type": "code",
   "execution_count": 17,
   "id": "9762b19d-18a0-4356-9a02-7a39afa31462",
   "metadata": {},
   "outputs": [
    {
     "data": {
      "text/plain": [
       "['Can', 'Kaya']"
      ]
     },
     "execution_count": 17,
     "metadata": {},
     "output_type": "execute_result"
    }
   ],
   "source": [
    "list(filter(CharControl,strList))"
   ]
  },
  {
   "cell_type": "code",
   "execution_count": 18,
   "id": "1efd6cc6-64de-4c41-9e12-80029a59b74d",
   "metadata": {},
   "outputs": [],
   "source": [
    "carpma = lambda i : i*3"
   ]
  },
  {
   "cell_type": "code",
   "execution_count": 19,
   "id": "756b73a7-0848-47a6-ab8a-a4eda7bd9825",
   "metadata": {},
   "outputs": [
    {
     "data": {
      "text/plain": [
       "15"
      ]
     },
     "execution_count": 19,
     "metadata": {},
     "output_type": "execute_result"
    }
   ],
   "source": [
    "carpma(5)"
   ]
  },
  {
   "cell_type": "code",
   "execution_count": 20,
   "id": "a6df66ae-7b12-44d9-92a3-472bc459db63",
   "metadata": {},
   "outputs": [],
   "source": [
    "ListExample = list(range(7))"
   ]
  },
  {
   "cell_type": "code",
   "execution_count": 21,
   "id": "3ee9c09c-7c55-4416-8847-cae4b0a0a84e",
   "metadata": {},
   "outputs": [
    {
     "data": {
      "text/plain": [
       "[0, 1, 4, 9, 16, 25, 36]"
      ]
     },
     "execution_count": 21,
     "metadata": {},
     "output_type": "execute_result"
    }
   ],
   "source": [
    "power = lambda x : x **2\n",
    "list(map(power,ListExample))"
   ]
  },
  {
   "cell_type": "code",
   "execution_count": null,
   "id": "a7830ecc-e38b-40cf-9df5-9854cc719a1a",
   "metadata": {},
   "outputs": [],
   "source": []
  },
  {
   "cell_type": "code",
   "execution_count": null,
   "id": "3ad45ec9-4f94-4915-9568-589270d064e4",
   "metadata": {},
   "outputs": [],
   "source": []
  }
 ],
 "metadata": {
  "kernelspec": {
   "display_name": "Python 3 (ipykernel)",
   "language": "python",
   "name": "python3"
  },
  "language_info": {
   "codemirror_mode": {
    "name": "ipython",
    "version": 3
   },
   "file_extension": ".py",
   "mimetype": "text/x-python",
   "name": "python",
   "nbconvert_exporter": "python",
   "pygments_lexer": "ipython3",
   "version": "3.9.12"
  }
 },
 "nbformat": 4,
 "nbformat_minor": 5
}
