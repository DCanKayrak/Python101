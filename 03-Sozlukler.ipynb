{
 "cells": [
  {
   "cell_type": "code",
   "execution_count": 1,
   "id": "a6de7575-6423-4736-b8dc-ad2252dbecfb",
   "metadata": {},
   "outputs": [],
   "source": [
    "liste = [1,2,3]"
   ]
  },
  {
   "cell_type": "code",
   "execution_count": 2,
   "id": "1291761b-0010-43b6-97a3-cefc1ab7a26e",
   "metadata": {},
   "outputs": [
    {
     "data": {
      "text/plain": [
       "2"
      ]
     },
     "execution_count": 2,
     "metadata": {},
     "output_type": "execute_result"
    }
   ],
   "source": [
    "liste[1]"
   ]
  },
  {
   "cell_type": "markdown",
   "id": "ca8e6573-b9ed-48f6-ae39-f01cb7f1ea9a",
   "metadata": {},
   "source": [
    "## Key-value pairing (anahtar kelime - değer eşleşmesi)"
   ]
  },
  {
   "cell_type": "code",
   "execution_count": 3,
   "id": "b4f5f81f-099e-44a7-9100-78fad02e04c1",
   "metadata": {},
   "outputs": [],
   "source": [
    "yemek = [\"Elma\",\"Armut\",\"Muz\"]"
   ]
  },
  {
   "cell_type": "code",
   "execution_count": 4,
   "id": "fedd6c05-7ae6-4a41-81c0-fadeda8ddf17",
   "metadata": {},
   "outputs": [],
   "source": [
    "kalori = [100,200,300]"
   ]
  },
  {
   "cell_type": "code",
   "execution_count": 5,
   "id": "02a2424d-8f55-4821-abb1-8a37e1bdb2c2",
   "metadata": {},
   "outputs": [
    {
     "data": {
      "text/plain": [
       "'Armut'"
      ]
     },
     "execution_count": 5,
     "metadata": {},
     "output_type": "execute_result"
    }
   ],
   "source": [
    "yemek[1]"
   ]
  },
  {
   "cell_type": "code",
   "execution_count": 6,
   "id": "0848505d-b92e-4ad3-9114-16e016b1377f",
   "metadata": {},
   "outputs": [
    {
     "data": {
      "text/plain": [
       "200"
      ]
     },
     "execution_count": 6,
     "metadata": {},
     "output_type": "execute_result"
    }
   ],
   "source": [
    "kalori[1]"
   ]
  },
  {
   "cell_type": "code",
   "execution_count": 7,
   "id": "9bdf4a09-fe6a-4326-baf9-5e6789c808f0",
   "metadata": {},
   "outputs": [],
   "source": [
    "# dictionary"
   ]
  },
  {
   "cell_type": "code",
   "execution_count": 8,
   "id": "bf4b413a-9011-46e2-a505-835cc7a5112c",
   "metadata": {},
   "outputs": [],
   "source": [
    "sozluk = {\"Elma\":500,\"Armut\":200,\"Muz\":100}"
   ]
  },
  {
   "cell_type": "code",
   "execution_count": 9,
   "id": "4dae07fd-574d-4a18-9269-a1272e324c4c",
   "metadata": {},
   "outputs": [
    {
     "data": {
      "text/plain": [
       "dict"
      ]
     },
     "execution_count": 9,
     "metadata": {},
     "output_type": "execute_result"
    }
   ],
   "source": [
    "type(sozluk)"
   ]
  },
  {
   "cell_type": "code",
   "execution_count": 10,
   "id": "a0bc6fe4-39cb-4ed6-aa18-16f31d339f77",
   "metadata": {},
   "outputs": [
    {
     "data": {
      "text/plain": [
       "dict_keys(['Elma', 'Armut', 'Muz'])"
      ]
     },
     "execution_count": 10,
     "metadata": {},
     "output_type": "execute_result"
    }
   ],
   "source": [
    "sozluk.keys()"
   ]
  },
  {
   "cell_type": "code",
   "execution_count": 11,
   "id": "5d4e67e4-22c2-4a90-9eac-f22404527af8",
   "metadata": {},
   "outputs": [
    {
     "data": {
      "text/plain": [
       "dict_values([500, 200, 100])"
      ]
     },
     "execution_count": 11,
     "metadata": {},
     "output_type": "execute_result"
    }
   ],
   "source": [
    "sozluk.values()"
   ]
  },
  {
   "cell_type": "code",
   "execution_count": 13,
   "id": "eba08b3c-716d-46b8-af10-31df02491fdb",
   "metadata": {},
   "outputs": [
    {
     "data": {
      "text/plain": [
       "100"
      ]
     },
     "execution_count": 13,
     "metadata": {},
     "output_type": "execute_result"
    }
   ],
   "source": [
    "sozluk[\"Muz\"]"
   ]
  },
  {
   "cell_type": "code",
   "execution_count": 14,
   "id": "a3b6ed41-505e-445c-851e-b9b1a64a6962",
   "metadata": {},
   "outputs": [],
   "source": [
    "sozluk[\"Muz\"] = 50"
   ]
  },
  {
   "cell_type": "code",
   "execution_count": 15,
   "id": "78db133c-7211-455a-a0af-56ba73179919",
   "metadata": {},
   "outputs": [
    {
     "data": {
      "text/plain": [
       "{'Elma': 500, 'Armut': 200, 'Muz': 50}"
      ]
     },
     "execution_count": 15,
     "metadata": {},
     "output_type": "execute_result"
    }
   ],
   "source": [
    "sozluk"
   ]
  },
  {
   "cell_type": "code",
   "execution_count": 16,
   "id": "4ebafb4d-abcc-4949-98ac-95d490d8fc58",
   "metadata": {},
   "outputs": [],
   "source": [
    "karisik = {10:\"can\",100:\"kayrak\"}"
   ]
  },
  {
   "cell_type": "code",
   "execution_count": 17,
   "id": "7584197a-a8c2-4c88-8a41-8d389d885203",
   "metadata": {},
   "outputs": [
    {
     "data": {
      "text/plain": [
       "'can'"
      ]
     },
     "execution_count": 17,
     "metadata": {},
     "output_type": "execute_result"
    }
   ],
   "source": [
    "karisik[10]"
   ]
  },
  {
   "cell_type": "code",
   "execution_count": 18,
   "id": "e16b520f-73db-4561-bc61-465f2642559b",
   "metadata": {},
   "outputs": [],
   "source": [
    "yeniDict = {\"anahtar1\" : 100 , \"anahtar2\" : [10,20,30,40,4.5,\"can\"],\"anahtar3\":{\"anahtar9\":4}}"
   ]
  },
  {
   "cell_type": "code",
   "execution_count": 19,
   "id": "7a7857dc-7ef4-41c5-be1b-358248e45065",
   "metadata": {},
   "outputs": [
    {
     "data": {
      "text/plain": [
       "dict_values([100, [10, 20, 30, 40, 4.5, 'can'], {'anahtar9': 4}])"
      ]
     },
     "execution_count": 19,
     "metadata": {},
     "output_type": "execute_result"
    }
   ],
   "source": [
    "yeniDict.values()"
   ]
  },
  {
   "cell_type": "code",
   "execution_count": 20,
   "id": "dd80c637-aead-4246-95d9-9ce759553c58",
   "metadata": {},
   "outputs": [
    {
     "data": {
      "text/plain": [
       "100"
      ]
     },
     "execution_count": 20,
     "metadata": {},
     "output_type": "execute_result"
    }
   ],
   "source": [
    "yeniDict[\"anahtar1\"]"
   ]
  },
  {
   "cell_type": "code",
   "execution_count": 21,
   "id": "aef44691-407c-4703-b482-6b8c2de4ba17",
   "metadata": {},
   "outputs": [
    {
     "data": {
      "text/plain": [
       "dict_keys(['anahtar1', 'anahtar2', 'anahtar3'])"
      ]
     },
     "execution_count": 21,
     "metadata": {},
     "output_type": "execute_result"
    }
   ],
   "source": [
    "yeniDict.keys()"
   ]
  },
  {
   "cell_type": "code",
   "execution_count": 23,
   "id": "14fc1bc9-165d-4f26-a445-789fb97f8deb",
   "metadata": {},
   "outputs": [
    {
     "data": {
      "text/plain": [
       "4"
      ]
     },
     "execution_count": 23,
     "metadata": {},
     "output_type": "execute_result"
    }
   ],
   "source": [
    "yeniDict[\"anahtar3\"][\"anahtar9\"]"
   ]
  },
  {
   "cell_type": "code",
   "execution_count": 24,
   "id": "91e755bb-9690-4afa-8705-a6047a18ad63",
   "metadata": {},
   "outputs": [
    {
     "data": {
      "text/plain": [
       "30"
      ]
     },
     "execution_count": 24,
     "metadata": {},
     "output_type": "execute_result"
    }
   ],
   "source": [
    "yeniDict[\"anahtar2\"][2]"
   ]
  },
  {
   "cell_type": "code",
   "execution_count": null,
   "id": "c093e446-9e6b-41c5-9d5d-0b06868e606a",
   "metadata": {},
   "outputs": [],
   "source": []
  },
  {
   "cell_type": "code",
   "execution_count": null,
   "id": "3819b5e2-39d6-4bb4-8e5c-6a32998a49a3",
   "metadata": {},
   "outputs": [],
   "source": []
  },
  {
   "cell_type": "code",
   "execution_count": null,
   "id": "348c4c0f-d6ab-4f1f-a8c7-587a85abaa74",
   "metadata": {},
   "outputs": [],
   "source": []
  }
 ],
 "metadata": {
  "kernelspec": {
   "display_name": "Python 3 (ipykernel)",
   "language": "python",
   "name": "python3"
  },
  "language_info": {
   "codemirror_mode": {
    "name": "ipython",
    "version": 3
   },
   "file_extension": ".py",
   "mimetype": "text/x-python",
   "name": "python",
   "nbconvert_exporter": "python",
   "pygments_lexer": "ipython3",
   "version": "3.9.12"
  }
 },
 "nbformat": 4,
 "nbformat_minor": 5
}
