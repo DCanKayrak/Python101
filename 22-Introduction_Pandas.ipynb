{
 "cells": [
  {
   "cell_type": "code",
   "execution_count": 1,
   "id": "6148b89d-6322-45fb-a13f-089743f257b2",
   "metadata": {},
   "outputs": [],
   "source": [
    "import numpy as np\n",
    "import pandas as pd"
   ]
  },
  {
   "cell_type": "code",
   "execution_count": 2,
   "id": "e390658d-3848-4b24-aec9-3283025a5142",
   "metadata": {},
   "outputs": [],
   "source": [
    "# series"
   ]
  },
  {
   "cell_type": "code",
   "execution_count": 3,
   "id": "f1349075-3af8-48b2-9534-6218f20efc0e",
   "metadata": {},
   "outputs": [],
   "source": [
    "dictionary = {\"key1\":50,\"key2\":30,\"key3\":20}"
   ]
  },
  {
   "cell_type": "code",
   "execution_count": 4,
   "id": "dce8438a-fbc2-44df-a4c7-189e0958702e",
   "metadata": {},
   "outputs": [
    {
     "data": {
      "text/plain": [
       "key1    50\n",
       "key2    30\n",
       "key3    20\n",
       "dtype: int64"
      ]
     },
     "execution_count": 4,
     "metadata": {},
     "output_type": "execute_result"
    }
   ],
   "source": [
    "pd.Series(dictionary)"
   ]
  },
  {
   "cell_type": "code",
   "execution_count": 5,
   "id": "838c8abf-a649-488c-be80-e3a730ecfc30",
   "metadata": {},
   "outputs": [],
   "source": [
    "myList = np.array([10,20,30])"
   ]
  },
  {
   "cell_type": "code",
   "execution_count": 6,
   "id": "9068861b-f10f-42c2-8efe-49adeb0d1411",
   "metadata": {},
   "outputs": [],
   "source": [
    "myList2 = np.array([\"key1\",\"key2\",\"key3\"])"
   ]
  },
  {
   "cell_type": "code",
   "execution_count": 7,
   "id": "b444ca1b-9edb-4215-a06e-4d55f5201427",
   "metadata": {},
   "outputs": [
    {
     "data": {
      "text/plain": [
       "key1    10\n",
       "key2    20\n",
       "key3    30\n",
       "dtype: int32"
      ]
     },
     "execution_count": 7,
     "metadata": {},
     "output_type": "execute_result"
    }
   ],
   "source": [
    "pd.Series(myList,myList2)"
   ]
  },
  {
   "cell_type": "code",
   "execution_count": 8,
   "id": "e61914a8-de6e-4ad3-82b9-5a3b76113317",
   "metadata": {},
   "outputs": [
    {
     "data": {
      "text/plain": [
       "key1    10\n",
       "key2    20\n",
       "key3    30\n",
       "dtype: int32"
      ]
     },
     "execution_count": 8,
     "metadata": {},
     "output_type": "execute_result"
    }
   ],
   "source": [
    "pd.Series(data = myList,index = myList2)"
   ]
  },
  {
   "cell_type": "code",
   "execution_count": 9,
   "id": "dd53562a-e657-4beb-9e80-0dda6bd1b776",
   "metadata": {},
   "outputs": [],
   "source": [
    "yarisma1 = pd.Series([10,20,30],[\"a\",\"b\",\"c\"])"
   ]
  },
  {
   "cell_type": "code",
   "execution_count": 10,
   "id": "c1de367d-04d2-4f9a-8431-e1d7ac8f467d",
   "metadata": {},
   "outputs": [],
   "source": [
    "yarisma2 = pd.Series([3,5,7],[\"a\",\"b\",\"c\"])"
   ]
  },
  {
   "cell_type": "code",
   "execution_count": 11,
   "id": "b885c21e-a2bf-4027-8b55-8d1f7a5f1571",
   "metadata": {},
   "outputs": [
    {
     "data": {
      "text/plain": [
       "a    10\n",
       "b    20\n",
       "c    30\n",
       "dtype: int64"
      ]
     },
     "execution_count": 11,
     "metadata": {},
     "output_type": "execute_result"
    }
   ],
   "source": [
    "yarisma1"
   ]
  },
  {
   "cell_type": "code",
   "execution_count": 12,
   "id": "494de348-8c1d-465e-bd76-0b6311dfa37c",
   "metadata": {},
   "outputs": [
    {
     "data": {
      "text/plain": [
       "a    3\n",
       "b    5\n",
       "c    7\n",
       "dtype: int64"
      ]
     },
     "execution_count": 12,
     "metadata": {},
     "output_type": "execute_result"
    }
   ],
   "source": [
    "yarisma2"
   ]
  },
  {
   "cell_type": "code",
   "execution_count": 13,
   "id": "2ef123e3-d841-46ec-bffc-42cb3c284eba",
   "metadata": {},
   "outputs": [],
   "source": [
    "sonuc = yarisma1 + yarisma2"
   ]
  },
  {
   "cell_type": "code",
   "execution_count": 14,
   "id": "b51e3556-7515-49fa-b15b-8c59d2756307",
   "metadata": {},
   "outputs": [
    {
     "data": {
      "text/plain": [
       "a    13\n",
       "b    25\n",
       "c    37\n",
       "dtype: int64"
      ]
     },
     "execution_count": 14,
     "metadata": {},
     "output_type": "execute_result"
    }
   ],
   "source": [
    "sonuc"
   ]
  },
  {
   "cell_type": "code",
   "execution_count": 15,
   "id": "f46815ac-b517-4798-9c40-ef7f6d7ff922",
   "metadata": {},
   "outputs": [],
   "source": [
    "myList1 = pd.Series(np.linspace(0,20,2),[\"a\",\"f\"])"
   ]
  },
  {
   "cell_type": "code",
   "execution_count": 16,
   "id": "06b05d5a-c6b9-4d08-97e0-d0bc61899d0e",
   "metadata": {},
   "outputs": [
    {
     "data": {
      "text/plain": [
       "a     0.0\n",
       "f    20.0\n",
       "dtype: float64"
      ]
     },
     "execution_count": 16,
     "metadata": {},
     "output_type": "execute_result"
    }
   ],
   "source": [
    "myList1"
   ]
  },
  {
   "cell_type": "code",
   "execution_count": 17,
   "id": "e172ad2e-929d-4972-a3ee-2c2bcc4c42f5",
   "metadata": {},
   "outputs": [],
   "source": [
    "myList2 = pd.Series(np.arange(3,6),[\"a\",\"g\",\"d\"])"
   ]
  },
  {
   "cell_type": "code",
   "execution_count": 18,
   "id": "5bd27768-0582-4395-b4e8-106226f42173",
   "metadata": {},
   "outputs": [
    {
     "data": {
      "text/plain": [
       "a    3.0\n",
       "d    NaN\n",
       "f    NaN\n",
       "g    NaN\n",
       "dtype: float64"
      ]
     },
     "execution_count": 18,
     "metadata": {},
     "output_type": "execute_result"
    }
   ],
   "source": [
    "myList1 + myList2"
   ]
  },
  {
   "cell_type": "markdown",
   "id": "38d78f3c-e6f2-4a55-8057-f18ebd4b4204",
   "metadata": {},
   "source": [
    "## Dataframes"
   ]
  },
  {
   "cell_type": "code",
   "execution_count": 19,
   "id": "ad153b35-f41f-49c4-8080-742bb3d3f736",
   "metadata": {},
   "outputs": [],
   "source": [
    "import numpy as np\n",
    "import pandas as pd"
   ]
  },
  {
   "cell_type": "code",
   "execution_count": 20,
   "id": "aa9d7e4e-f5ac-4067-9ea3-fc6bc4b26069",
   "metadata": {},
   "outputs": [],
   "source": [
    "data = np.random.randn(4,4)"
   ]
  },
  {
   "cell_type": "code",
   "execution_count": 21,
   "id": "bddc8269-0d16-4130-9856-ba68da67c834",
   "metadata": {},
   "outputs": [
    {
     "data": {
      "text/plain": [
       "array([[-2.16144953, -0.9815679 , -0.20015127, -0.25605557],\n",
       "       [-0.04437622, -0.80567322,  0.33015753,  0.86236622],\n",
       "       [-0.1662799 ,  0.09437929,  1.03274208, -0.03106423],\n",
       "       [-1.38151568, -0.37897091, -0.96300346,  0.67894488]])"
      ]
     },
     "execution_count": 21,
     "metadata": {},
     "output_type": "execute_result"
    }
   ],
   "source": [
    "data"
   ]
  },
  {
   "cell_type": "code",
   "execution_count": 22,
   "id": "dd2ff77f-9d96-4bc0-b094-224f128f02d4",
   "metadata": {},
   "outputs": [],
   "source": [
    "df = pd.DataFrame(data)"
   ]
  },
  {
   "cell_type": "code",
   "execution_count": 23,
   "id": "7e9730ad-c8f1-4a4d-bbfe-0443a31c3c9c",
   "metadata": {},
   "outputs": [
    {
     "data": {
      "text/html": [
       "<div>\n",
       "<style scoped>\n",
       "    .dataframe tbody tr th:only-of-type {\n",
       "        vertical-align: middle;\n",
       "    }\n",
       "\n",
       "    .dataframe tbody tr th {\n",
       "        vertical-align: top;\n",
       "    }\n",
       "\n",
       "    .dataframe thead th {\n",
       "        text-align: right;\n",
       "    }\n",
       "</style>\n",
       "<table border=\"1\" class=\"dataframe\">\n",
       "  <thead>\n",
       "    <tr style=\"text-align: right;\">\n",
       "      <th></th>\n",
       "      <th>0</th>\n",
       "      <th>1</th>\n",
       "      <th>2</th>\n",
       "      <th>3</th>\n",
       "    </tr>\n",
       "  </thead>\n",
       "  <tbody>\n",
       "    <tr>\n",
       "      <th>0</th>\n",
       "      <td>-2.161450</td>\n",
       "      <td>-0.981568</td>\n",
       "      <td>-0.200151</td>\n",
       "      <td>-0.256056</td>\n",
       "    </tr>\n",
       "    <tr>\n",
       "      <th>1</th>\n",
       "      <td>-0.044376</td>\n",
       "      <td>-0.805673</td>\n",
       "      <td>0.330158</td>\n",
       "      <td>0.862366</td>\n",
       "    </tr>\n",
       "    <tr>\n",
       "      <th>2</th>\n",
       "      <td>-0.166280</td>\n",
       "      <td>0.094379</td>\n",
       "      <td>1.032742</td>\n",
       "      <td>-0.031064</td>\n",
       "    </tr>\n",
       "    <tr>\n",
       "      <th>3</th>\n",
       "      <td>-1.381516</td>\n",
       "      <td>-0.378971</td>\n",
       "      <td>-0.963003</td>\n",
       "      <td>0.678945</td>\n",
       "    </tr>\n",
       "  </tbody>\n",
       "</table>\n",
       "</div>"
      ],
      "text/plain": [
       "          0         1         2         3\n",
       "0 -2.161450 -0.981568 -0.200151 -0.256056\n",
       "1 -0.044376 -0.805673  0.330158  0.862366\n",
       "2 -0.166280  0.094379  1.032742 -0.031064\n",
       "3 -1.381516 -0.378971 -0.963003  0.678945"
      ]
     },
     "execution_count": 23,
     "metadata": {},
     "output_type": "execute_result"
    }
   ],
   "source": [
    "df"
   ]
  },
  {
   "cell_type": "code",
   "execution_count": 24,
   "id": "9504079e-5f5a-4f04-8222-482a5c74ff11",
   "metadata": {},
   "outputs": [
    {
     "data": {
      "text/plain": [
       "0   -2.161450\n",
       "1   -0.044376\n",
       "2   -0.166280\n",
       "3   -1.381516\n",
       "Name: 0, dtype: float64"
      ]
     },
     "execution_count": 24,
     "metadata": {},
     "output_type": "execute_result"
    }
   ],
   "source": [
    "df[0]"
   ]
  },
  {
   "cell_type": "code",
   "execution_count": 25,
   "id": "90fcc511-6dcb-4d98-bb6a-29a794915bfb",
   "metadata": {},
   "outputs": [
    {
     "data": {
      "text/html": [
       "<div>\n",
       "<style scoped>\n",
       "    .dataframe tbody tr th:only-of-type {\n",
       "        vertical-align: middle;\n",
       "    }\n",
       "\n",
       "    .dataframe tbody tr th {\n",
       "        vertical-align: top;\n",
       "    }\n",
       "\n",
       "    .dataframe thead th {\n",
       "        text-align: right;\n",
       "    }\n",
       "</style>\n",
       "<table border=\"1\" class=\"dataframe\">\n",
       "  <thead>\n",
       "    <tr style=\"text-align: right;\">\n",
       "      <th></th>\n",
       "      <th>Maas</th>\n",
       "      <th>Yas</th>\n",
       "      <th>CalismaSaati</th>\n",
       "      <th>Para</th>\n",
       "    </tr>\n",
       "  </thead>\n",
       "  <tbody>\n",
       "    <tr>\n",
       "      <th>Ali</th>\n",
       "      <td>-2.161450</td>\n",
       "      <td>-0.981568</td>\n",
       "      <td>-0.200151</td>\n",
       "      <td>-0.256056</td>\n",
       "    </tr>\n",
       "    <tr>\n",
       "      <th>Beyaz</th>\n",
       "      <td>-0.044376</td>\n",
       "      <td>-0.805673</td>\n",
       "      <td>0.330158</td>\n",
       "      <td>0.862366</td>\n",
       "    </tr>\n",
       "    <tr>\n",
       "      <th>Ceyhun</th>\n",
       "      <td>-0.166280</td>\n",
       "      <td>0.094379</td>\n",
       "      <td>1.032742</td>\n",
       "      <td>-0.031064</td>\n",
       "    </tr>\n",
       "    <tr>\n",
       "      <th>Derya</th>\n",
       "      <td>-1.381516</td>\n",
       "      <td>-0.378971</td>\n",
       "      <td>-0.963003</td>\n",
       "      <td>0.678945</td>\n",
       "    </tr>\n",
       "  </tbody>\n",
       "</table>\n",
       "</div>"
      ],
      "text/plain": [
       "            Maas       Yas  CalismaSaati      Para\n",
       "Ali    -2.161450 -0.981568     -0.200151 -0.256056\n",
       "Beyaz  -0.044376 -0.805673      0.330158  0.862366\n",
       "Ceyhun -0.166280  0.094379      1.032742 -0.031064\n",
       "Derya  -1.381516 -0.378971     -0.963003  0.678945"
      ]
     },
     "execution_count": 25,
     "metadata": {},
     "output_type": "execute_result"
    }
   ],
   "source": [
    "newDf = pd.DataFrame(data,index = [\"Ali\",\"Beyaz\",\"Ceyhun\",\"Derya\"],columns = [\"Maas\",\"Yas\",\"CalismaSaati\",\"Para\"])\n",
    "newDf"
   ]
  },
  {
   "cell_type": "code",
   "execution_count": 26,
   "id": "aa915485-1d29-4407-9321-f892d5e0c189",
   "metadata": {},
   "outputs": [
    {
     "data": {
      "text/plain": [
       "Ali      -0.981568\n",
       "Beyaz    -0.805673\n",
       "Ceyhun    0.094379\n",
       "Derya    -0.378971\n",
       "Name: Yas, dtype: float64"
      ]
     },
     "execution_count": 26,
     "metadata": {},
     "output_type": "execute_result"
    }
   ],
   "source": [
    "newDf[\"Yas\"]"
   ]
  },
  {
   "cell_type": "code",
   "execution_count": 27,
   "id": "cbd80a22-531c-4bc4-a949-8ef29a270de6",
   "metadata": {},
   "outputs": [
    {
     "data": {
      "text/plain": [
       "Maas           -1.381516\n",
       "Yas            -0.378971\n",
       "CalismaSaati   -0.963003\n",
       "Para            0.678945\n",
       "Name: Derya, dtype: float64"
      ]
     },
     "execution_count": 27,
     "metadata": {},
     "output_type": "execute_result"
    }
   ],
   "source": [
    "newDf.loc[\"Derya\"]"
   ]
  },
  {
   "cell_type": "code",
   "execution_count": 28,
   "id": "83f6d1fa-ef78-46ef-9ab3-69e0edcefbf6",
   "metadata": {},
   "outputs": [
    {
     "data": {
      "text/plain": [
       "Maas           -1.381516\n",
       "Yas            -0.378971\n",
       "CalismaSaati   -0.963003\n",
       "Para            0.678945\n",
       "Name: Derya, dtype: float64"
      ]
     },
     "execution_count": 28,
     "metadata": {},
     "output_type": "execute_result"
    }
   ],
   "source": [
    "newDf.iloc[3]"
   ]
  },
  {
   "cell_type": "code",
   "execution_count": 29,
   "id": "dc2a62f3-78ae-40a6-942c-3aecd9c3567c",
   "metadata": {},
   "outputs": [
    {
     "data": {
      "text/html": [
       "<div>\n",
       "<style scoped>\n",
       "    .dataframe tbody tr th:only-of-type {\n",
       "        vertical-align: middle;\n",
       "    }\n",
       "\n",
       "    .dataframe tbody tr th {\n",
       "        vertical-align: top;\n",
       "    }\n",
       "\n",
       "    .dataframe thead th {\n",
       "        text-align: right;\n",
       "    }\n",
       "</style>\n",
       "<table border=\"1\" class=\"dataframe\">\n",
       "  <thead>\n",
       "    <tr style=\"text-align: right;\">\n",
       "      <th></th>\n",
       "      <th>Maas</th>\n",
       "      <th>Yas</th>\n",
       "      <th>CalismaSaati</th>\n",
       "      <th>Para</th>\n",
       "    </tr>\n",
       "  </thead>\n",
       "  <tbody>\n",
       "    <tr>\n",
       "      <th>Ali</th>\n",
       "      <td>-2.161450</td>\n",
       "      <td>-0.981568</td>\n",
       "      <td>-0.200151</td>\n",
       "      <td>-0.256056</td>\n",
       "    </tr>\n",
       "    <tr>\n",
       "      <th>Beyaz</th>\n",
       "      <td>-0.044376</td>\n",
       "      <td>-0.805673</td>\n",
       "      <td>0.330158</td>\n",
       "      <td>0.862366</td>\n",
       "    </tr>\n",
       "    <tr>\n",
       "      <th>Ceyhun</th>\n",
       "      <td>-0.166280</td>\n",
       "      <td>0.094379</td>\n",
       "      <td>1.032742</td>\n",
       "      <td>-0.031064</td>\n",
       "    </tr>\n",
       "    <tr>\n",
       "      <th>Derya</th>\n",
       "      <td>-1.381516</td>\n",
       "      <td>-0.378971</td>\n",
       "      <td>-0.963003</td>\n",
       "      <td>0.678945</td>\n",
       "    </tr>\n",
       "  </tbody>\n",
       "</table>\n",
       "</div>"
      ],
      "text/plain": [
       "            Maas       Yas  CalismaSaati      Para\n",
       "Ali    -2.161450 -0.981568     -0.200151 -0.256056\n",
       "Beyaz  -0.044376 -0.805673      0.330158  0.862366\n",
       "Ceyhun -0.166280  0.094379      1.032742 -0.031064\n",
       "Derya  -1.381516 -0.378971     -0.963003  0.678945"
      ]
     },
     "execution_count": 29,
     "metadata": {},
     "output_type": "execute_result"
    }
   ],
   "source": [
    "newDf"
   ]
  },
  {
   "cell_type": "code",
   "execution_count": 30,
   "id": "5e2b64a1-0f1c-484f-a03d-aafef1147b80",
   "metadata": {},
   "outputs": [],
   "source": [
    "newDf[\"Emeklilik Yasi\"] = newDf[\"Yas\"] + newDf[\"Yas\"]"
   ]
  },
  {
   "cell_type": "code",
   "execution_count": 31,
   "id": "366de91a-b813-4d5e-9c6b-244069f16e3e",
   "metadata": {},
   "outputs": [
    {
     "data": {
      "text/html": [
       "<div>\n",
       "<style scoped>\n",
       "    .dataframe tbody tr th:only-of-type {\n",
       "        vertical-align: middle;\n",
       "    }\n",
       "\n",
       "    .dataframe tbody tr th {\n",
       "        vertical-align: top;\n",
       "    }\n",
       "\n",
       "    .dataframe thead th {\n",
       "        text-align: right;\n",
       "    }\n",
       "</style>\n",
       "<table border=\"1\" class=\"dataframe\">\n",
       "  <thead>\n",
       "    <tr style=\"text-align: right;\">\n",
       "      <th></th>\n",
       "      <th>Maas</th>\n",
       "      <th>Yas</th>\n",
       "      <th>CalismaSaati</th>\n",
       "      <th>Para</th>\n",
       "      <th>Emeklilik Yasi</th>\n",
       "    </tr>\n",
       "  </thead>\n",
       "  <tbody>\n",
       "    <tr>\n",
       "      <th>Ali</th>\n",
       "      <td>-2.161450</td>\n",
       "      <td>-0.981568</td>\n",
       "      <td>-0.200151</td>\n",
       "      <td>-0.256056</td>\n",
       "      <td>-1.963136</td>\n",
       "    </tr>\n",
       "    <tr>\n",
       "      <th>Beyaz</th>\n",
       "      <td>-0.044376</td>\n",
       "      <td>-0.805673</td>\n",
       "      <td>0.330158</td>\n",
       "      <td>0.862366</td>\n",
       "      <td>-1.611346</td>\n",
       "    </tr>\n",
       "    <tr>\n",
       "      <th>Ceyhun</th>\n",
       "      <td>-0.166280</td>\n",
       "      <td>0.094379</td>\n",
       "      <td>1.032742</td>\n",
       "      <td>-0.031064</td>\n",
       "      <td>0.188759</td>\n",
       "    </tr>\n",
       "    <tr>\n",
       "      <th>Derya</th>\n",
       "      <td>-1.381516</td>\n",
       "      <td>-0.378971</td>\n",
       "      <td>-0.963003</td>\n",
       "      <td>0.678945</td>\n",
       "      <td>-0.757942</td>\n",
       "    </tr>\n",
       "  </tbody>\n",
       "</table>\n",
       "</div>"
      ],
      "text/plain": [
       "            Maas       Yas  CalismaSaati      Para  Emeklilik Yasi\n",
       "Ali    -2.161450 -0.981568     -0.200151 -0.256056       -1.963136\n",
       "Beyaz  -0.044376 -0.805673      0.330158  0.862366       -1.611346\n",
       "Ceyhun -0.166280  0.094379      1.032742 -0.031064        0.188759\n",
       "Derya  -1.381516 -0.378971     -0.963003  0.678945       -0.757942"
      ]
     },
     "execution_count": 31,
     "metadata": {},
     "output_type": "execute_result"
    }
   ],
   "source": [
    "newDf"
   ]
  },
  {
   "cell_type": "code",
   "execution_count": 34,
   "id": "cc99817e-4db3-4b1a-8041-117600908950",
   "metadata": {},
   "outputs": [
    {
     "data": {
      "text/html": [
       "<div>\n",
       "<style scoped>\n",
       "    .dataframe tbody tr th:only-of-type {\n",
       "        vertical-align: middle;\n",
       "    }\n",
       "\n",
       "    .dataframe tbody tr th {\n",
       "        vertical-align: top;\n",
       "    }\n",
       "\n",
       "    .dataframe thead th {\n",
       "        text-align: right;\n",
       "    }\n",
       "</style>\n",
       "<table border=\"1\" class=\"dataframe\">\n",
       "  <thead>\n",
       "    <tr style=\"text-align: right;\">\n",
       "      <th></th>\n",
       "      <th>Maas</th>\n",
       "      <th>Yas</th>\n",
       "      <th>CalismaSaati</th>\n",
       "      <th>Para</th>\n",
       "    </tr>\n",
       "  </thead>\n",
       "  <tbody>\n",
       "    <tr>\n",
       "      <th>Ali</th>\n",
       "      <td>-2.161450</td>\n",
       "      <td>-0.981568</td>\n",
       "      <td>-0.200151</td>\n",
       "      <td>-0.256056</td>\n",
       "    </tr>\n",
       "    <tr>\n",
       "      <th>Beyaz</th>\n",
       "      <td>-0.044376</td>\n",
       "      <td>-0.805673</td>\n",
       "      <td>0.330158</td>\n",
       "      <td>0.862366</td>\n",
       "    </tr>\n",
       "    <tr>\n",
       "      <th>Ceyhun</th>\n",
       "      <td>-0.166280</td>\n",
       "      <td>0.094379</td>\n",
       "      <td>1.032742</td>\n",
       "      <td>-0.031064</td>\n",
       "    </tr>\n",
       "    <tr>\n",
       "      <th>Derya</th>\n",
       "      <td>-1.381516</td>\n",
       "      <td>-0.378971</td>\n",
       "      <td>-0.963003</td>\n",
       "      <td>0.678945</td>\n",
       "    </tr>\n",
       "  </tbody>\n",
       "</table>\n",
       "</div>"
      ],
      "text/plain": [
       "            Maas       Yas  CalismaSaati      Para\n",
       "Ali    -2.161450 -0.981568     -0.200151 -0.256056\n",
       "Beyaz  -0.044376 -0.805673      0.330158  0.862366\n",
       "Ceyhun -0.166280  0.094379      1.032742 -0.031064\n",
       "Derya  -1.381516 -0.378971     -0.963003  0.678945"
      ]
     },
     "execution_count": 34,
     "metadata": {},
     "output_type": "execute_result"
    }
   ],
   "source": [
    "newDf.drop(\"Emeklilik Yasi\",axis = 1)"
   ]
  },
  {
   "cell_type": "code",
   "execution_count": 35,
   "id": "19a1d795-7486-4abc-ac57-c73b20d178a3",
   "metadata": {},
   "outputs": [
    {
     "data": {
      "text/html": [
       "<div>\n",
       "<style scoped>\n",
       "    .dataframe tbody tr th:only-of-type {\n",
       "        vertical-align: middle;\n",
       "    }\n",
       "\n",
       "    .dataframe tbody tr th {\n",
       "        vertical-align: top;\n",
       "    }\n",
       "\n",
       "    .dataframe thead th {\n",
       "        text-align: right;\n",
       "    }\n",
       "</style>\n",
       "<table border=\"1\" class=\"dataframe\">\n",
       "  <thead>\n",
       "    <tr style=\"text-align: right;\">\n",
       "      <th></th>\n",
       "      <th>Maas</th>\n",
       "      <th>Yas</th>\n",
       "      <th>CalismaSaati</th>\n",
       "      <th>Para</th>\n",
       "      <th>Emeklilik Yasi</th>\n",
       "    </tr>\n",
       "  </thead>\n",
       "  <tbody>\n",
       "    <tr>\n",
       "      <th>Beyaz</th>\n",
       "      <td>-0.044376</td>\n",
       "      <td>-0.805673</td>\n",
       "      <td>0.330158</td>\n",
       "      <td>0.862366</td>\n",
       "      <td>-1.611346</td>\n",
       "    </tr>\n",
       "    <tr>\n",
       "      <th>Ceyhun</th>\n",
       "      <td>-0.166280</td>\n",
       "      <td>0.094379</td>\n",
       "      <td>1.032742</td>\n",
       "      <td>-0.031064</td>\n",
       "      <td>0.188759</td>\n",
       "    </tr>\n",
       "    <tr>\n",
       "      <th>Derya</th>\n",
       "      <td>-1.381516</td>\n",
       "      <td>-0.378971</td>\n",
       "      <td>-0.963003</td>\n",
       "      <td>0.678945</td>\n",
       "      <td>-0.757942</td>\n",
       "    </tr>\n",
       "  </tbody>\n",
       "</table>\n",
       "</div>"
      ],
      "text/plain": [
       "            Maas       Yas  CalismaSaati      Para  Emeklilik Yasi\n",
       "Beyaz  -0.044376 -0.805673      0.330158  0.862366       -1.611346\n",
       "Ceyhun -0.166280  0.094379      1.032742 -0.031064        0.188759\n",
       "Derya  -1.381516 -0.378971     -0.963003  0.678945       -0.757942"
      ]
     },
     "execution_count": 35,
     "metadata": {},
     "output_type": "execute_result"
    }
   ],
   "source": [
    "newDf.drop(\"Ali\")"
   ]
  },
  {
   "cell_type": "code",
   "execution_count": 36,
   "id": "e180b8db-3ba3-4e66-92b7-1129e5befdb0",
   "metadata": {},
   "outputs": [],
   "source": [
    "newDf.drop(\"Ali\",inplace=True)"
   ]
  },
  {
   "cell_type": "code",
   "execution_count": 37,
   "id": "c160cff7-8835-4119-9228-8d1e32db9a36",
   "metadata": {},
   "outputs": [
    {
     "data": {
      "text/html": [
       "<div>\n",
       "<style scoped>\n",
       "    .dataframe tbody tr th:only-of-type {\n",
       "        vertical-align: middle;\n",
       "    }\n",
       "\n",
       "    .dataframe tbody tr th {\n",
       "        vertical-align: top;\n",
       "    }\n",
       "\n",
       "    .dataframe thead th {\n",
       "        text-align: right;\n",
       "    }\n",
       "</style>\n",
       "<table border=\"1\" class=\"dataframe\">\n",
       "  <thead>\n",
       "    <tr style=\"text-align: right;\">\n",
       "      <th></th>\n",
       "      <th>Maas</th>\n",
       "      <th>Yas</th>\n",
       "      <th>CalismaSaati</th>\n",
       "      <th>Para</th>\n",
       "      <th>Emeklilik Yasi</th>\n",
       "    </tr>\n",
       "  </thead>\n",
       "  <tbody>\n",
       "    <tr>\n",
       "      <th>Beyaz</th>\n",
       "      <td>-0.044376</td>\n",
       "      <td>-0.805673</td>\n",
       "      <td>0.330158</td>\n",
       "      <td>0.862366</td>\n",
       "      <td>-1.611346</td>\n",
       "    </tr>\n",
       "    <tr>\n",
       "      <th>Ceyhun</th>\n",
       "      <td>-0.166280</td>\n",
       "      <td>0.094379</td>\n",
       "      <td>1.032742</td>\n",
       "      <td>-0.031064</td>\n",
       "      <td>0.188759</td>\n",
       "    </tr>\n",
       "    <tr>\n",
       "      <th>Derya</th>\n",
       "      <td>-1.381516</td>\n",
       "      <td>-0.378971</td>\n",
       "      <td>-0.963003</td>\n",
       "      <td>0.678945</td>\n",
       "      <td>-0.757942</td>\n",
       "    </tr>\n",
       "  </tbody>\n",
       "</table>\n",
       "</div>"
      ],
      "text/plain": [
       "            Maas       Yas  CalismaSaati      Para  Emeklilik Yasi\n",
       "Beyaz  -0.044376 -0.805673      0.330158  0.862366       -1.611346\n",
       "Ceyhun -0.166280  0.094379      1.032742 -0.031064        0.188759\n",
       "Derya  -1.381516 -0.378971     -0.963003  0.678945       -0.757942"
      ]
     },
     "execution_count": 37,
     "metadata": {},
     "output_type": "execute_result"
    }
   ],
   "source": [
    "newDf"
   ]
  },
  {
   "cell_type": "code",
   "execution_count": 38,
   "id": "4b70db3b-df56-484e-880c-9247c2dce8ed",
   "metadata": {},
   "outputs": [
    {
     "data": {
      "text/html": [
       "<div>\n",
       "<style scoped>\n",
       "    .dataframe tbody tr th:only-of-type {\n",
       "        vertical-align: middle;\n",
       "    }\n",
       "\n",
       "    .dataframe tbody tr th {\n",
       "        vertical-align: top;\n",
       "    }\n",
       "\n",
       "    .dataframe thead th {\n",
       "        text-align: right;\n",
       "    }\n",
       "</style>\n",
       "<table border=\"1\" class=\"dataframe\">\n",
       "  <thead>\n",
       "    <tr style=\"text-align: right;\">\n",
       "      <th></th>\n",
       "      <th>Maas</th>\n",
       "      <th>Yas</th>\n",
       "      <th>CalismaSaati</th>\n",
       "      <th>Para</th>\n",
       "      <th>Emeklilik Yasi</th>\n",
       "    </tr>\n",
       "  </thead>\n",
       "  <tbody>\n",
       "    <tr>\n",
       "      <th>Ceyhun</th>\n",
       "      <td>-0.16628</td>\n",
       "      <td>0.094379</td>\n",
       "      <td>1.032742</td>\n",
       "      <td>-0.031064</td>\n",
       "      <td>0.188759</td>\n",
       "    </tr>\n",
       "  </tbody>\n",
       "</table>\n",
       "</div>"
      ],
      "text/plain": [
       "           Maas       Yas  CalismaSaati      Para  Emeklilik Yasi\n",
       "Ceyhun -0.16628  0.094379      1.032742 -0.031064        0.188759"
      ]
     },
     "execution_count": 38,
     "metadata": {},
     "output_type": "execute_result"
    }
   ],
   "source": [
    "newDf[newDf[\"Yas\"] > 0]"
   ]
  },
  {
   "cell_type": "code",
   "execution_count": 40,
   "id": "e6983aed-d4a7-4f71-a5d6-458b617f8f71",
   "metadata": {},
   "outputs": [],
   "source": [
    "newDf.reset_index(inplace=True)"
   ]
  },
  {
   "cell_type": "code",
   "execution_count": 41,
   "id": "accd4845-0d62-4ae8-b1a5-0b00f3777c1d",
   "metadata": {},
   "outputs": [
    {
     "data": {
      "text/html": [
       "<div>\n",
       "<style scoped>\n",
       "    .dataframe tbody tr th:only-of-type {\n",
       "        vertical-align: middle;\n",
       "    }\n",
       "\n",
       "    .dataframe tbody tr th {\n",
       "        vertical-align: top;\n",
       "    }\n",
       "\n",
       "    .dataframe thead th {\n",
       "        text-align: right;\n",
       "    }\n",
       "</style>\n",
       "<table border=\"1\" class=\"dataframe\">\n",
       "  <thead>\n",
       "    <tr style=\"text-align: right;\">\n",
       "      <th></th>\n",
       "      <th>index</th>\n",
       "      <th>Maas</th>\n",
       "      <th>Yas</th>\n",
       "      <th>CalismaSaati</th>\n",
       "      <th>Para</th>\n",
       "      <th>Emeklilik Yasi</th>\n",
       "    </tr>\n",
       "  </thead>\n",
       "  <tbody>\n",
       "    <tr>\n",
       "      <th>0</th>\n",
       "      <td>Beyaz</td>\n",
       "      <td>-0.044376</td>\n",
       "      <td>-0.805673</td>\n",
       "      <td>0.330158</td>\n",
       "      <td>0.862366</td>\n",
       "      <td>-1.611346</td>\n",
       "    </tr>\n",
       "    <tr>\n",
       "      <th>1</th>\n",
       "      <td>Ceyhun</td>\n",
       "      <td>-0.166280</td>\n",
       "      <td>0.094379</td>\n",
       "      <td>1.032742</td>\n",
       "      <td>-0.031064</td>\n",
       "      <td>0.188759</td>\n",
       "    </tr>\n",
       "    <tr>\n",
       "      <th>2</th>\n",
       "      <td>Derya</td>\n",
       "      <td>-1.381516</td>\n",
       "      <td>-0.378971</td>\n",
       "      <td>-0.963003</td>\n",
       "      <td>0.678945</td>\n",
       "      <td>-0.757942</td>\n",
       "    </tr>\n",
       "  </tbody>\n",
       "</table>\n",
       "</div>"
      ],
      "text/plain": [
       "    index      Maas       Yas  CalismaSaati      Para  Emeklilik Yasi\n",
       "0   Beyaz -0.044376 -0.805673      0.330158  0.862366       -1.611346\n",
       "1  Ceyhun -0.166280  0.094379      1.032742 -0.031064        0.188759\n",
       "2   Derya -1.381516 -0.378971     -0.963003  0.678945       -0.757942"
      ]
     },
     "execution_count": 41,
     "metadata": {},
     "output_type": "execute_result"
    }
   ],
   "source": [
    "newDf"
   ]
  },
  {
   "cell_type": "code",
   "execution_count": 42,
   "id": "45545c09-88ec-4ec9-aa6f-8c9ffabc3748",
   "metadata": {},
   "outputs": [],
   "source": [
    "newDf[\"Indexes\"] = [\"a\",\"b\",\"c\"]"
   ]
  },
  {
   "cell_type": "code",
   "execution_count": 45,
   "id": "d998b1b2-1230-4a87-b874-1b8412633df0",
   "metadata": {},
   "outputs": [],
   "source": [
    "newDf.set_index(\"Indexes\",inplace=True)"
   ]
  },
  {
   "cell_type": "code",
   "execution_count": 46,
   "id": "363c40d5-1cb9-4446-9c2d-37b68811e354",
   "metadata": {},
   "outputs": [
    {
     "data": {
      "text/html": [
       "<div>\n",
       "<style scoped>\n",
       "    .dataframe tbody tr th:only-of-type {\n",
       "        vertical-align: middle;\n",
       "    }\n",
       "\n",
       "    .dataframe tbody tr th {\n",
       "        vertical-align: top;\n",
       "    }\n",
       "\n",
       "    .dataframe thead th {\n",
       "        text-align: right;\n",
       "    }\n",
       "</style>\n",
       "<table border=\"1\" class=\"dataframe\">\n",
       "  <thead>\n",
       "    <tr style=\"text-align: right;\">\n",
       "      <th></th>\n",
       "      <th>index</th>\n",
       "      <th>Maas</th>\n",
       "      <th>Yas</th>\n",
       "      <th>CalismaSaati</th>\n",
       "      <th>Para</th>\n",
       "      <th>Emeklilik Yasi</th>\n",
       "    </tr>\n",
       "    <tr>\n",
       "      <th>Indexes</th>\n",
       "      <th></th>\n",
       "      <th></th>\n",
       "      <th></th>\n",
       "      <th></th>\n",
       "      <th></th>\n",
       "      <th></th>\n",
       "    </tr>\n",
       "  </thead>\n",
       "  <tbody>\n",
       "    <tr>\n",
       "      <th>a</th>\n",
       "      <td>Beyaz</td>\n",
       "      <td>-0.044376</td>\n",
       "      <td>-0.805673</td>\n",
       "      <td>0.330158</td>\n",
       "      <td>0.862366</td>\n",
       "      <td>-1.611346</td>\n",
       "    </tr>\n",
       "    <tr>\n",
       "      <th>b</th>\n",
       "      <td>Ceyhun</td>\n",
       "      <td>-0.166280</td>\n",
       "      <td>0.094379</td>\n",
       "      <td>1.032742</td>\n",
       "      <td>-0.031064</td>\n",
       "      <td>0.188759</td>\n",
       "    </tr>\n",
       "    <tr>\n",
       "      <th>c</th>\n",
       "      <td>Derya</td>\n",
       "      <td>-1.381516</td>\n",
       "      <td>-0.378971</td>\n",
       "      <td>-0.963003</td>\n",
       "      <td>0.678945</td>\n",
       "      <td>-0.757942</td>\n",
       "    </tr>\n",
       "  </tbody>\n",
       "</table>\n",
       "</div>"
      ],
      "text/plain": [
       "          index      Maas       Yas  CalismaSaati      Para  Emeklilik Yasi\n",
       "Indexes                                                                    \n",
       "a         Beyaz -0.044376 -0.805673      0.330158  0.862366       -1.611346\n",
       "b        Ceyhun -0.166280  0.094379      1.032742 -0.031064        0.188759\n",
       "c         Derya -1.381516 -0.378971     -0.963003  0.678945       -0.757942"
      ]
     },
     "execution_count": 46,
     "metadata": {},
     "output_type": "execute_result"
    }
   ],
   "source": [
    "newDf"
   ]
  },
  {
   "cell_type": "code",
   "execution_count": 48,
   "id": "9f36de08-82b0-4f8c-863e-b8c0d962e90c",
   "metadata": {},
   "outputs": [
    {
     "data": {
      "text/plain": [
       "index                Beyaz\n",
       "Maas             -0.044376\n",
       "Yas              -0.805673\n",
       "CalismaSaati      0.330158\n",
       "Para              0.862366\n",
       "Emeklilik Yasi   -1.611346\n",
       "Name: a, dtype: object"
      ]
     },
     "execution_count": 48,
     "metadata": {},
     "output_type": "execute_result"
    }
   ],
   "source": [
    "newDf.loc[\"a\"]"
   ]
  },
  {
   "cell_type": "code",
   "execution_count": 50,
   "id": "805e336c-eea8-49a8-a799-e900ff2ac529",
   "metadata": {},
   "outputs": [],
   "source": [
    "firstIndexes = [\"Simpson\",\"Simpson\",\"Simpson\",\"South Park\",\"South Park\",\"South Park\"]"
   ]
  },
  {
   "cell_type": "code",
   "execution_count": 51,
   "id": "42081eb0-8a3a-42a8-a710-effab2c657da",
   "metadata": {},
   "outputs": [],
   "source": [
    "secondIndexes = [\"a\",\"b\",\"c\",\"d\",\"e\",\"f\"]"
   ]
  },
  {
   "cell_type": "code",
   "execution_count": 52,
   "id": "d1706829-4a02-4fa0-92d7-901b7f47d300",
   "metadata": {},
   "outputs": [],
   "source": [
    "myList = list(zip(firstIndexes,secondIndexes))"
   ]
  },
  {
   "cell_type": "code",
   "execution_count": 53,
   "id": "b658e7cb-8529-4962-a84b-3f17d9ddc73f",
   "metadata": {},
   "outputs": [],
   "source": [
    "df = pd.MultiIndex.from_tuples(myList)"
   ]
  },
  {
   "cell_type": "code",
   "execution_count": 54,
   "id": "0234f390-b88f-41c2-b8f9-d191151b7f63",
   "metadata": {},
   "outputs": [
    {
     "data": {
      "text/plain": [
       "MultiIndex([(   'Simpson', 'a'),\n",
       "            (   'Simpson', 'b'),\n",
       "            (   'Simpson', 'c'),\n",
       "            ('South Park', 'd'),\n",
       "            ('South Park', 'e'),\n",
       "            ('South Park', 'f')],\n",
       "           )"
      ]
     },
     "execution_count": 54,
     "metadata": {},
     "output_type": "execute_result"
    }
   ],
   "source": [
    "df"
   ]
  },
  {
   "cell_type": "code",
   "execution_count": 55,
   "id": "1db7e748-912f-411c-91fb-0160119c44f5",
   "metadata": {},
   "outputs": [],
   "source": [
    "myCartoon = [[40,\"A\"],[10,\"B\"],[30,\"C\"],[9,\"D\"],[13,\"E\"],[46,\"F\"]]"
   ]
  },
  {
   "cell_type": "code",
   "execution_count": 56,
   "id": "5f953b92-62f7-4ada-9137-9ef10195b13a",
   "metadata": {},
   "outputs": [
    {
     "data": {
      "text/plain": [
       "[[40, 'A'], [10, 'B'], [30, 'C'], [9, 'D'], [13, 'E'], [46, 'F']]"
      ]
     },
     "execution_count": 56,
     "metadata": {},
     "output_type": "execute_result"
    }
   ],
   "source": [
    "myCartoon"
   ]
  },
  {
   "cell_type": "code",
   "execution_count": 57,
   "id": "3c797869-5b97-4ba6-b53c-7289dbb913e5",
   "metadata": {},
   "outputs": [],
   "source": [
    "Cartoons = np.array(myCartoon)"
   ]
  },
  {
   "cell_type": "code",
   "execution_count": 58,
   "id": "bff21ba7-2a5e-4f3c-9364-ed5c4eadc4ce",
   "metadata": {},
   "outputs": [
    {
     "data": {
      "text/plain": [
       "array([['40', 'A'],\n",
       "       ['10', 'B'],\n",
       "       ['30', 'C'],\n",
       "       ['9', 'D'],\n",
       "       ['13', 'E'],\n",
       "       ['46', 'F']], dtype='<U11')"
      ]
     },
     "execution_count": 58,
     "metadata": {},
     "output_type": "execute_result"
    }
   ],
   "source": [
    "Cartoons"
   ]
  },
  {
   "cell_type": "code",
   "execution_count": 59,
   "id": "4713fbcd-f5bf-4078-9c58-93325c1fe770",
   "metadata": {},
   "outputs": [],
   "source": [
    "df = pd.DataFrame(Cartoons,index=df,columns = [\"Yas\",\"Meslek\"])"
   ]
  },
  {
   "cell_type": "code",
   "execution_count": 60,
   "id": "8217584d-ee87-4094-b883-8b4abc30a1a4",
   "metadata": {},
   "outputs": [
    {
     "data": {
      "text/html": [
       "<div>\n",
       "<style scoped>\n",
       "    .dataframe tbody tr th:only-of-type {\n",
       "        vertical-align: middle;\n",
       "    }\n",
       "\n",
       "    .dataframe tbody tr th {\n",
       "        vertical-align: top;\n",
       "    }\n",
       "\n",
       "    .dataframe thead th {\n",
       "        text-align: right;\n",
       "    }\n",
       "</style>\n",
       "<table border=\"1\" class=\"dataframe\">\n",
       "  <thead>\n",
       "    <tr style=\"text-align: right;\">\n",
       "      <th></th>\n",
       "      <th></th>\n",
       "      <th>Yas</th>\n",
       "      <th>Meslek</th>\n",
       "    </tr>\n",
       "  </thead>\n",
       "  <tbody>\n",
       "    <tr>\n",
       "      <th rowspan=\"3\" valign=\"top\">Simpson</th>\n",
       "      <th>a</th>\n",
       "      <td>40</td>\n",
       "      <td>A</td>\n",
       "    </tr>\n",
       "    <tr>\n",
       "      <th>b</th>\n",
       "      <td>10</td>\n",
       "      <td>B</td>\n",
       "    </tr>\n",
       "    <tr>\n",
       "      <th>c</th>\n",
       "      <td>30</td>\n",
       "      <td>C</td>\n",
       "    </tr>\n",
       "    <tr>\n",
       "      <th rowspan=\"3\" valign=\"top\">South Park</th>\n",
       "      <th>d</th>\n",
       "      <td>9</td>\n",
       "      <td>D</td>\n",
       "    </tr>\n",
       "    <tr>\n",
       "      <th>e</th>\n",
       "      <td>13</td>\n",
       "      <td>E</td>\n",
       "    </tr>\n",
       "    <tr>\n",
       "      <th>f</th>\n",
       "      <td>46</td>\n",
       "      <td>F</td>\n",
       "    </tr>\n",
       "  </tbody>\n",
       "</table>\n",
       "</div>"
      ],
      "text/plain": [
       "             Yas Meslek\n",
       "Simpson    a  40      A\n",
       "           b  10      B\n",
       "           c  30      C\n",
       "South Park d   9      D\n",
       "           e  13      E\n",
       "           f  46      F"
      ]
     },
     "execution_count": 60,
     "metadata": {},
     "output_type": "execute_result"
    }
   ],
   "source": [
    "df"
   ]
  },
  {
   "cell_type": "code",
   "execution_count": 61,
   "id": "0c61017b-64ef-4d85-aa6a-3482b7ddda4a",
   "metadata": {},
   "outputs": [
    {
     "data": {
      "text/html": [
       "<div>\n",
       "<style scoped>\n",
       "    .dataframe tbody tr th:only-of-type {\n",
       "        vertical-align: middle;\n",
       "    }\n",
       "\n",
       "    .dataframe tbody tr th {\n",
       "        vertical-align: top;\n",
       "    }\n",
       "\n",
       "    .dataframe thead th {\n",
       "        text-align: right;\n",
       "    }\n",
       "</style>\n",
       "<table border=\"1\" class=\"dataframe\">\n",
       "  <thead>\n",
       "    <tr style=\"text-align: right;\">\n",
       "      <th></th>\n",
       "      <th>Yas</th>\n",
       "      <th>Meslek</th>\n",
       "    </tr>\n",
       "  </thead>\n",
       "  <tbody>\n",
       "    <tr>\n",
       "      <th>a</th>\n",
       "      <td>40</td>\n",
       "      <td>A</td>\n",
       "    </tr>\n",
       "    <tr>\n",
       "      <th>b</th>\n",
       "      <td>10</td>\n",
       "      <td>B</td>\n",
       "    </tr>\n",
       "    <tr>\n",
       "      <th>c</th>\n",
       "      <td>30</td>\n",
       "      <td>C</td>\n",
       "    </tr>\n",
       "  </tbody>\n",
       "</table>\n",
       "</div>"
      ],
      "text/plain": [
       "  Yas Meslek\n",
       "a  40      A\n",
       "b  10      B\n",
       "c  30      C"
      ]
     },
     "execution_count": 61,
     "metadata": {},
     "output_type": "execute_result"
    }
   ],
   "source": [
    "df.loc[\"Simpson\"]"
   ]
  },
  {
   "cell_type": "code",
   "execution_count": 62,
   "id": "d433f51c-755a-45a1-940e-bd1428ab381d",
   "metadata": {},
   "outputs": [
    {
     "data": {
      "text/html": [
       "<div>\n",
       "<style scoped>\n",
       "    .dataframe tbody tr th:only-of-type {\n",
       "        vertical-align: middle;\n",
       "    }\n",
       "\n",
       "    .dataframe tbody tr th {\n",
       "        vertical-align: top;\n",
       "    }\n",
       "\n",
       "    .dataframe thead th {\n",
       "        text-align: right;\n",
       "    }\n",
       "</style>\n",
       "<table border=\"1\" class=\"dataframe\">\n",
       "  <thead>\n",
       "    <tr style=\"text-align: right;\">\n",
       "      <th></th>\n",
       "      <th>Yas</th>\n",
       "      <th>Meslek</th>\n",
       "    </tr>\n",
       "  </thead>\n",
       "  <tbody>\n",
       "    <tr>\n",
       "      <th>d</th>\n",
       "      <td>9</td>\n",
       "      <td>D</td>\n",
       "    </tr>\n",
       "    <tr>\n",
       "      <th>e</th>\n",
       "      <td>13</td>\n",
       "      <td>E</td>\n",
       "    </tr>\n",
       "    <tr>\n",
       "      <th>f</th>\n",
       "      <td>46</td>\n",
       "      <td>F</td>\n",
       "    </tr>\n",
       "  </tbody>\n",
       "</table>\n",
       "</div>"
      ],
      "text/plain": [
       "  Yas Meslek\n",
       "d   9      D\n",
       "e  13      E\n",
       "f  46      F"
      ]
     },
     "execution_count": 62,
     "metadata": {},
     "output_type": "execute_result"
    }
   ],
   "source": [
    "df.loc[\"South Park\"]"
   ]
  },
  {
   "cell_type": "code",
   "execution_count": 63,
   "id": "befebbbd-36bd-4597-92de-e90bfa9b247d",
   "metadata": {},
   "outputs": [],
   "source": [
    "df.index.names = [\"Cartoons\",\"Name\"]"
   ]
  },
  {
   "cell_type": "code",
   "execution_count": 64,
   "id": "62104550-665c-4573-8166-c39f6442421e",
   "metadata": {},
   "outputs": [
    {
     "data": {
      "text/html": [
       "<div>\n",
       "<style scoped>\n",
       "    .dataframe tbody tr th:only-of-type {\n",
       "        vertical-align: middle;\n",
       "    }\n",
       "\n",
       "    .dataframe tbody tr th {\n",
       "        vertical-align: top;\n",
       "    }\n",
       "\n",
       "    .dataframe thead th {\n",
       "        text-align: right;\n",
       "    }\n",
       "</style>\n",
       "<table border=\"1\" class=\"dataframe\">\n",
       "  <thead>\n",
       "    <tr style=\"text-align: right;\">\n",
       "      <th></th>\n",
       "      <th></th>\n",
       "      <th>Yas</th>\n",
       "      <th>Meslek</th>\n",
       "    </tr>\n",
       "    <tr>\n",
       "      <th>Cartoons</th>\n",
       "      <th>Name</th>\n",
       "      <th></th>\n",
       "      <th></th>\n",
       "    </tr>\n",
       "  </thead>\n",
       "  <tbody>\n",
       "    <tr>\n",
       "      <th rowspan=\"3\" valign=\"top\">Simpson</th>\n",
       "      <th>a</th>\n",
       "      <td>40</td>\n",
       "      <td>A</td>\n",
       "    </tr>\n",
       "    <tr>\n",
       "      <th>b</th>\n",
       "      <td>10</td>\n",
       "      <td>B</td>\n",
       "    </tr>\n",
       "    <tr>\n",
       "      <th>c</th>\n",
       "      <td>30</td>\n",
       "      <td>C</td>\n",
       "    </tr>\n",
       "    <tr>\n",
       "      <th rowspan=\"3\" valign=\"top\">South Park</th>\n",
       "      <th>d</th>\n",
       "      <td>9</td>\n",
       "      <td>D</td>\n",
       "    </tr>\n",
       "    <tr>\n",
       "      <th>e</th>\n",
       "      <td>13</td>\n",
       "      <td>E</td>\n",
       "    </tr>\n",
       "    <tr>\n",
       "      <th>f</th>\n",
       "      <td>46</td>\n",
       "      <td>F</td>\n",
       "    </tr>\n",
       "  </tbody>\n",
       "</table>\n",
       "</div>"
      ],
      "text/plain": [
       "                Yas Meslek\n",
       "Cartoons   Name           \n",
       "Simpson    a     40      A\n",
       "           b     10      B\n",
       "           c     30      C\n",
       "South Park d      9      D\n",
       "           e     13      E\n",
       "           f     46      F"
      ]
     },
     "execution_count": 64,
     "metadata": {},
     "output_type": "execute_result"
    }
   ],
   "source": [
    "df"
   ]
  }
 ],
 "metadata": {
  "kernelspec": {
   "display_name": "Python 3 (ipykernel)",
   "language": "python",
   "name": "python3"
  },
  "language_info": {
   "codemirror_mode": {
    "name": "ipython",
    "version": 3
   },
   "file_extension": ".py",
   "mimetype": "text/x-python",
   "name": "python",
   "nbconvert_exporter": "python",
   "pygments_lexer": "ipython3",
   "version": "3.9.12"
  }
 },
 "nbformat": 4,
 "nbformat_minor": 5
}
