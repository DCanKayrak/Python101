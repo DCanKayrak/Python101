{
 "cells": [
  {
   "cell_type": "code",
   "execution_count": 1,
   "id": "e7151def-55d5-4418-ad38-431d63f2bf68",
   "metadata": {},
   "outputs": [
    {
     "data": {
      "text/plain": [
       "'DANYAL CAN KAYRAK'"
      ]
     },
     "execution_count": 1,
     "metadata": {},
     "output_type": "execute_result"
    }
   ],
   "source": [
    "name = \"danyal can kayrak\"\n",
    "name.upper()"
   ]
  },
  {
   "cell_type": "code",
   "execution_count": 2,
   "id": "8d73e26f-9cd3-4de2-aa90-dbd282064e63",
   "metadata": {},
   "outputs": [
    {
     "data": {
      "text/plain": [
       "'danyal can kayrak'"
      ]
     },
     "execution_count": 2,
     "metadata": {},
     "output_type": "execute_result"
    }
   ],
   "source": [
    "name"
   ]
  },
  {
   "cell_type": "code",
   "execution_count": 3,
   "id": "2e5a453d-2231-4a1c-9935-40258c4571fb",
   "metadata": {},
   "outputs": [
    {
     "data": {
      "text/plain": [
       "'DANYAL CAN KAYRAK'"
      ]
     },
     "execution_count": 3,
     "metadata": {},
     "output_type": "execute_result"
    }
   ],
   "source": [
    "myNameUpper = name.upper()\n",
    "myNameUpper"
   ]
  },
  {
   "cell_type": "code",
   "execution_count": 4,
   "id": "547442a8-762e-4b4d-8e18-f9e3b75d6204",
   "metadata": {},
   "outputs": [],
   "source": [
    "def myFirstFunc():\n",
    "    print(\"Hello World!\")"
   ]
  },
  {
   "cell_type": "code",
   "execution_count": 5,
   "id": "a1be0a2b-bd8d-467e-85c7-33c35f639625",
   "metadata": {},
   "outputs": [
    {
     "name": "stdout",
     "output_type": "stream",
     "text": [
      "Hello World!\n"
     ]
    }
   ],
   "source": [
    "myFirstFunc()"
   ]
  },
  {
   "cell_type": "markdown",
   "id": "1588ba8c-8ec1-4e0b-8b55-130cce4dd225",
   "metadata": {},
   "source": [
    "### Input & Return"
   ]
  },
  {
   "cell_type": "code",
   "execution_count": 6,
   "id": "1999b0ac-3a95-4fdd-a10d-a7d81967bbb1",
   "metadata": {},
   "outputs": [],
   "source": [
    "def Hello(name):\n",
    "    print(name)\n",
    "    print(\"Hello\")"
   ]
  },
  {
   "cell_type": "code",
   "execution_count": 8,
   "id": "f5c8f31f-c8d0-4680-aea4-97d9e28b3868",
   "metadata": {},
   "outputs": [],
   "source": [
    "#Hello()"
   ]
  },
  {
   "cell_type": "code",
   "execution_count": 9,
   "id": "3be312a8-da12-42ea-a46f-95cad68b1a1d",
   "metadata": {},
   "outputs": [
    {
     "name": "stdout",
     "output_type": "stream",
     "text": [
      "DANYAL\n",
      "Hello\n"
     ]
    }
   ],
   "source": [
    "Hello(\"DANYAL\")"
   ]
  },
  {
   "cell_type": "code",
   "execution_count": 11,
   "id": "7cedc2da-ede4-4712-adb8-a0ff7033e864",
   "metadata": {},
   "outputs": [],
   "source": [
    "def Hello(name = \"Can\"):\n",
    "    print(name)\n",
    "    print(\"Hello\")"
   ]
  },
  {
   "cell_type": "code",
   "execution_count": 12,
   "id": "4666f624-358d-4bea-9aa6-5d564ee583f9",
   "metadata": {},
   "outputs": [
    {
     "name": "stdout",
     "output_type": "stream",
     "text": [
      "Can\n",
      "Hello\n"
     ]
    }
   ],
   "source": [
    "Hello()"
   ]
  },
  {
   "cell_type": "markdown",
   "id": "935a600f-e472-42de-b571-9386bcdedea8",
   "metadata": {},
   "source": [
    "### args & kwargs"
   ]
  },
  {
   "cell_type": "code",
   "execution_count": 16,
   "id": "1a05e670-39ba-4c07-aec5-a6b230fbad45",
   "metadata": {},
   "outputs": [],
   "source": [
    "def mySum(*args):\n",
    "    return sum(args)"
   ]
  },
  {
   "cell_type": "code",
   "execution_count": 17,
   "id": "824e6623-e805-4716-bca7-735d0e0f0aef",
   "metadata": {},
   "outputs": [
    {
     "data": {
      "text/plain": [
       "188"
      ]
     },
     "execution_count": 17,
     "metadata": {},
     "output_type": "execute_result"
    }
   ],
   "source": [
    "mySum(10,20,30,40,6,8,9,6,43,2,2,5,7)"
   ]
  },
  {
   "cell_type": "code",
   "execution_count": 22,
   "id": "6cda6a1e-8a77-4267-b8a1-4d70c03ceb53",
   "metadata": {},
   "outputs": [],
   "source": [
    "def makeDict(**kwargs):\n",
    "    return kwargs\n",
    "myDictionary = makeDict(banana = 1,apple = 2,pineapple = 3)"
   ]
  },
  {
   "cell_type": "code",
   "execution_count": 23,
   "id": "89169454-af5d-4d64-8cc9-f1accc58887a",
   "metadata": {},
   "outputs": [
    {
     "data": {
      "text/plain": [
       "dict"
      ]
     },
     "execution_count": 23,
     "metadata": {},
     "output_type": "execute_result"
    }
   ],
   "source": [
    "type(myDictionary)"
   ]
  }
 ],
 "metadata": {
  "kernelspec": {
   "display_name": "Python 3 (ipykernel)",
   "language": "python",
   "name": "python3"
  },
  "language_info": {
   "codemirror_mode": {
    "name": "ipython",
    "version": 3
   },
   "file_extension": ".py",
   "mimetype": "text/x-python",
   "name": "python",
   "nbconvert_exporter": "python",
   "pygments_lexer": "ipython3",
   "version": "3.9.12"
  }
 },
 "nbformat": 4,
 "nbformat_minor": 5
}
