{
 "cells": [
  {
   "cell_type": "code",
   "execution_count": 1,
   "id": "7504108a-c08f-462d-ac17-84e194824f09",
   "metadata": {},
   "outputs": [],
   "source": [
    "# doğru veya yanlış alır sadece 1 ve 0."
   ]
  },
  {
   "cell_type": "code",
   "execution_count": 2,
   "id": "ad941ca4-cbcd-487b-9910-72b07b607806",
   "metadata": {},
   "outputs": [],
   "source": [
    "benimBool = True"
   ]
  },
  {
   "cell_type": "code",
   "execution_count": 3,
   "id": "fd91f5fc-af5b-42fb-b5ca-7502fddd9ebb",
   "metadata": {},
   "outputs": [
    {
     "data": {
      "text/plain": [
       "True"
      ]
     },
     "execution_count": 3,
     "metadata": {},
     "output_type": "execute_result"
    }
   ],
   "source": [
    "benimBool"
   ]
  },
  {
   "cell_type": "code",
   "execution_count": 4,
   "id": "1014b3e4-421e-4674-9b33-dbb1020821db",
   "metadata": {},
   "outputs": [],
   "source": [
    "benimBool = False"
   ]
  },
  {
   "cell_type": "code",
   "execution_count": 5,
   "id": "6690cfe6-343a-43d9-b33f-ae3441d108ee",
   "metadata": {},
   "outputs": [
    {
     "data": {
      "text/plain": [
       "False"
      ]
     },
     "execution_count": 5,
     "metadata": {},
     "output_type": "execute_result"
    }
   ],
   "source": [
    "benimBool"
   ]
  },
  {
   "cell_type": "code",
   "execution_count": 7,
   "id": "3e2efb1b-33db-4a57-b880-71a1201f21ee",
   "metadata": {},
   "outputs": [
    {
     "data": {
      "text/plain": [
       "bool"
      ]
     },
     "execution_count": 7,
     "metadata": {},
     "output_type": "execute_result"
    }
   ],
   "source": [
    "type(benimBool)"
   ]
  },
  {
   "cell_type": "code",
   "execution_count": 8,
   "id": "2e1e743b-14b5-4e8e-9b62-690ab2f2d1b6",
   "metadata": {},
   "outputs": [
    {
     "data": {
      "text/plain": [
       "True"
      ]
     },
     "execution_count": 8,
     "metadata": {},
     "output_type": "execute_result"
    }
   ],
   "source": [
    "10 > 5 "
   ]
  },
  {
   "cell_type": "code",
   "execution_count": 9,
   "id": "05c48686-97ee-4c4a-81e3-58063f6ca5bf",
   "metadata": {},
   "outputs": [
    {
     "data": {
      "text/plain": [
       "False"
      ]
     },
     "execution_count": 9,
     "metadata": {},
     "output_type": "execute_result"
    }
   ],
   "source": [
    "10 < 5"
   ]
  },
  {
   "cell_type": "code",
   "execution_count": 10,
   "id": "287a6a8e-44bc-4066-bd51-949330871b81",
   "metadata": {},
   "outputs": [],
   "source": [
    "maaslar = [1000,2000,3000,4000,5000,6000]"
   ]
  },
  {
   "cell_type": "code",
   "execution_count": 11,
   "id": "96f1c7d7-d810-4ab3-9bb2-b26492be5038",
   "metadata": {},
   "outputs": [
    {
     "data": {
      "text/plain": [
       "6"
      ]
     },
     "execution_count": 11,
     "metadata": {},
     "output_type": "execute_result"
    }
   ],
   "source": [
    "len(maaslar)"
   ]
  },
  {
   "cell_type": "code",
   "execution_count": 13,
   "id": "ac709ec1-f724-461f-b507-15052f3933e1",
   "metadata": {},
   "outputs": [],
   "source": [
    "ort = sum(maaslar) / len(maaslar)"
   ]
  },
  {
   "cell_type": "code",
   "execution_count": 14,
   "id": "fed137d5-e8b0-41bd-9402-0339b8731ce0",
   "metadata": {},
   "outputs": [
    {
     "data": {
      "text/plain": [
       "3500.0"
      ]
     },
     "execution_count": 14,
     "metadata": {},
     "output_type": "execute_result"
    }
   ],
   "source": [
    "ort"
   ]
  },
  {
   "cell_type": "code",
   "execution_count": 15,
   "id": "29d3f063-c972-4f54-a71d-2713463ac9b6",
   "metadata": {},
   "outputs": [
    {
     "data": {
      "text/plain": [
       "True"
      ]
     },
     "execution_count": 15,
     "metadata": {},
     "output_type": "execute_result"
    }
   ],
   "source": [
    "maaslar[4] > ort"
   ]
  },
  {
   "cell_type": "code",
   "execution_count": 16,
   "id": "c83f3370-cb07-4eea-b674-21b2876e596c",
   "metadata": {},
   "outputs": [
    {
     "name": "stdin",
     "output_type": "stream",
     "text": [
      "Maaş bilgisi giriniz 6000\n"
     ]
    }
   ],
   "source": [
    "maas = input(\"Maaş bilgisi giriniz\")"
   ]
  },
  {
   "cell_type": "code",
   "execution_count": 18,
   "id": "587c1b2f-1370-4dcf-918e-5a889333ceb0",
   "metadata": {},
   "outputs": [
    {
     "data": {
      "text/plain": [
       "True"
      ]
     },
     "execution_count": 18,
     "metadata": {},
     "output_type": "execute_result"
    }
   ],
   "source": [
    "int(maas) > ort"
   ]
  },
  {
   "cell_type": "code",
   "execution_count": null,
   "id": "47d5b906-821e-42c3-a3d0-59b1eb771c65",
   "metadata": {},
   "outputs": [],
   "source": []
  },
  {
   "cell_type": "code",
   "execution_count": null,
   "id": "1a6fd058-112e-415a-9276-43a14df3c492",
   "metadata": {},
   "outputs": [],
   "source": []
  },
  {
   "cell_type": "code",
   "execution_count": null,
   "id": "6120c1ff-68d8-4cdc-9828-06901c6bd3de",
   "metadata": {},
   "outputs": [],
   "source": []
  },
  {
   "cell_type": "code",
   "execution_count": null,
   "id": "ff6c8e5f-8d49-4cf1-b813-d71e4726eeff",
   "metadata": {},
   "outputs": [],
   "source": []
  }
 ],
 "metadata": {
  "kernelspec": {
   "display_name": "Python 3 (ipykernel)",
   "language": "python",
   "name": "python3"
  },
  "language_info": {
   "codemirror_mode": {
    "name": "ipython",
    "version": 3
   },
   "file_extension": ".py",
   "mimetype": "text/x-python",
   "name": "python",
   "nbconvert_exporter": "python",
   "pygments_lexer": "ipython3",
   "version": "3.9.12"
  }
 },
 "nbformat": 4,
 "nbformat_minor": 5
}
