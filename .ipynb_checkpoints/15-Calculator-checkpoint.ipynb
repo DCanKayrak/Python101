{
 "cells": [
  {
   "cell_type": "markdown",
   "id": "d4c43d6e-e3ea-4278-a2a8-f711caa300d4",
   "metadata": {},
   "source": [
    "## Calculator App"
   ]
  },
  {
   "cell_type": "code",
   "execution_count": 5,
   "id": "ff0b94f0-a041-414c-9bde-0285c1cf6525",
   "metadata": {},
   "outputs": [],
   "source": [
    "def Calculate(x,y,islem):\n",
    "    if islem not in \"+-/*\":\n",
    "        return \"Lütfen düzgün bir işlem seçiniz.\"\n",
    "    \n",
    "    if islem == \"+\":\n",
    "        print(x + y)\n",
    "    if islem == \"-\":\n",
    "        print(x - y)\n",
    "    if islem == \"*\":\n",
    "        print(x * y)\n",
    "    if islem == \"/\":\n",
    "        print(x / y)"
   ]
  },
  {
   "cell_type": "code",
   "execution_count": 6,
   "id": "9e6a4ed6-45b5-4b36-82a0-6b9239cac08b",
   "metadata": {},
   "outputs": [
    {
     "name": "stdin",
     "output_type": "stream",
     "text": [
      "a 5\n",
      "b 5\n",
      "İşlem 5\n"
     ]
    },
    {
     "data": {
      "text/plain": [
       "'Lütfen düzgün bir işlem seçiniz.'"
      ]
     },
     "execution_count": 6,
     "metadata": {},
     "output_type": "execute_result"
    }
   ],
   "source": [
    "a = int(input(\"a\"))\n",
    "b = int(input(\"b\"))\n",
    "islem = input(\"İşlem\")\n",
    "Calculate(a,b,islem)"
   ]
  },
  {
   "cell_type": "code",
   "execution_count": null,
   "id": "4f7396ce-4be9-4e24-8274-286a56d3ec8f",
   "metadata": {},
   "outputs": [
    {
     "name": "stdin",
     "output_type": "stream",
     "text": [
      "a sa\n"
     ]
    },
    {
     "name": "stdout",
     "output_type": "stream",
     "text": [
      "Düzgün İşlem Yapsana ?\n"
     ]
    },
    {
     "name": "stdin",
     "output_type": "stream",
     "text": [
      "a da\n"
     ]
    },
    {
     "name": "stdout",
     "output_type": "stream",
     "text": [
      "Düzgün İşlem Yapsana ?\n"
     ]
    },
    {
     "name": "stdin",
     "output_type": "stream",
     "text": [
      "a s\n"
     ]
    },
    {
     "name": "stdout",
     "output_type": "stream",
     "text": [
      "Düzgün İşlem Yapsana ?\n"
     ]
    },
    {
     "name": "stdin",
     "output_type": "stream",
     "text": [
      "a 5\n",
      "b 6\n",
      "İşlem as\n",
      "a d\n"
     ]
    },
    {
     "name": "stdout",
     "output_type": "stream",
     "text": [
      "Düzgün İşlem Yapsana ?\n"
     ]
    },
    {
     "name": "stdin",
     "output_type": "stream",
     "text": [
      "a a\n"
     ]
    },
    {
     "name": "stdout",
     "output_type": "stream",
     "text": [
      "Düzgün İşlem Yapsana ?\n"
     ]
    },
    {
     "name": "stdin",
     "output_type": "stream",
     "text": [
      "a s\n"
     ]
    },
    {
     "name": "stdout",
     "output_type": "stream",
     "text": [
      "Düzgün İşlem Yapsana ?\n",
      "Düzgün İşlem Yapsana ?\n"
     ]
    },
    {
     "name": "stdin",
     "output_type": "stream",
     "text": [
      "a 3\n",
      "a 3\n"
     ]
    }
   ],
   "source": [
    "def Calculate(x,y,islem):\n",
    "    if islem not in \"+-/*\":\n",
    "        return \"Lütfen düzgün bir işlem seçiniz.\"\n",
    "    \n",
    "    if islem == \"+\":\n",
    "        print(x + y)\n",
    "    if islem == \"-\":\n",
    "        print(x - y)\n",
    "    if islem == \"*\":\n",
    "        print(x * y)\n",
    "    if islem == \"/\":\n",
    "        print(x / y)\n",
    "while(True):\n",
    "    try:\n",
    "        a = int(input(\"a\"))\n",
    "        b = int(input(\"b\"))\n",
    "        islem = input(\"İşlem\")\n",
    "        Calculate(a,b,islem)\n",
    "    except:\n",
    "        print( \"Düzgün İşlem Yapsana ?\")"
   ]
  },
  {
   "cell_type": "code",
   "execution_count": 9,
   "id": "6dd094e5-74c3-4c62-99e3-a7d43d0d1218",
   "metadata": {},
   "outputs": [
    {
     "name": "stdin",
     "output_type": "stream",
     "text": [
      "a 5\n",
      "b 5\n",
      "İşlem 5\n"
     ]
    },
    {
     "data": {
      "text/plain": [
       "'Lütfen düzgün bir işlem seçiniz.'"
      ]
     },
     "execution_count": 9,
     "metadata": {},
     "output_type": "execute_result"
    }
   ],
   "source": [
    "a = int(input(\"a\"))\n",
    "b = int(input(\"b\"))\n",
    "islem = input(\"İşlem\")\n",
    "Calculate(a,b,islem)"
   ]
  },
  {
   "cell_type": "code",
   "execution_count": 4,
   "id": "bfe78085-da8c-44d7-b3fc-77800327479b",
   "metadata": {},
   "outputs": [
    {
     "name": "stdin",
     "output_type": "stream",
     "text": [
      "a 1000\n",
      "b 2000\n",
      "İşlem +\n"
     ]
    },
    {
     "name": "stdout",
     "output_type": "stream",
     "text": [
      "3000\n"
     ]
    }
   ],
   "source": [
    "a = int(input(\"a\"))\n",
    "b = int(input(\"b\"))\n",
    "islem = input(\"İşlem\")\n",
    "Calculate(a,b,islem)"
   ]
  }
 ],
 "metadata": {
  "kernelspec": {
   "display_name": "Python 3 (ipykernel)",
   "language": "python",
   "name": "python3"
  },
  "language_info": {
   "codemirror_mode": {
    "name": "ipython",
    "version": 3
   },
   "file_extension": ".py",
   "mimetype": "text/x-python",
   "name": "python",
   "nbconvert_exporter": "python",
   "pygments_lexer": "ipython3",
   "version": "3.9.12"
  }
 },
 "nbformat": 4,
 "nbformat_minor": 5
}
