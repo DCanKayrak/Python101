{
 "cells": [
  {
   "cell_type": "markdown",
   "id": "e5d3d34f-3469-4ea6-b5d3-ea8ca17f5e5d",
   "metadata": {},
   "source": [
    "### < Try - Except - Else - Finally >"
   ]
  },
  {
   "cell_type": "code",
   "execution_count": 1,
   "id": "fe48da05-e2e9-44f3-a69c-33c5b16accd0",
   "metadata": {},
   "outputs": [
    {
     "name": "stdin",
     "output_type": "stream",
     "text": [
      "Give me a number asd\n"
     ]
    },
    {
     "name": "stdout",
     "output_type": "stream",
     "text": [
      "Oh Really ?\n",
      "Finally Called!\n"
     ]
    },
    {
     "name": "stdin",
     "output_type": "stream",
     "text": [
      "Give me a number h\n"
     ]
    },
    {
     "name": "stdout",
     "output_type": "stream",
     "text": [
      "Oh Really ?\n",
      "Finally Called!\n"
     ]
    },
    {
     "name": "stdin",
     "output_type": "stream",
     "text": [
      "Give me a number a\n"
     ]
    },
    {
     "name": "stdout",
     "output_type": "stream",
     "text": [
      "Oh Really ?\n",
      "Finally Called!\n"
     ]
    },
    {
     "name": "stdin",
     "output_type": "stream",
     "text": [
      "Give me a number .\n"
     ]
    },
    {
     "name": "stdout",
     "output_type": "stream",
     "text": [
      "Oh Really ?\n",
      "Finally Called!\n"
     ]
    },
    {
     "name": "stdin",
     "output_type": "stream",
     "text": [
      "Give me a number 3\n"
     ]
    },
    {
     "name": "stdout",
     "output_type": "stream",
     "text": [
      "Thx!\n",
      "Finally Called!\n"
     ]
    }
   ],
   "source": [
    "while True:\n",
    "    try:\n",
    "        number = int(input(\"Give me a number\"))\n",
    "    except:\n",
    "        print(\"Oh Really ?\")\n",
    "        continue\n",
    "    else:\n",
    "        print(\"Thx!\")\n",
    "        break\n",
    "    finally:\n",
    "        print(\"Finally Called!\")"
   ]
  },
  {
   "cell_type": "code",
   "execution_count": null,
   "id": "f9952a82-b71f-479a-9701-e306be074c94",
   "metadata": {},
   "outputs": [],
   "source": []
  },
  {
   "cell_type": "code",
   "execution_count": null,
   "id": "788b386a-78be-4499-8966-4739c78f179d",
   "metadata": {},
   "outputs": [],
   "source": []
  },
  {
   "cell_type": "code",
   "execution_count": null,
   "id": "7d8489b4-49dc-4f9e-b293-e3c83c7ed6bf",
   "metadata": {},
   "outputs": [],
   "source": []
  },
  {
   "cell_type": "code",
   "execution_count": null,
   "id": "cd91f276-e543-45b5-9896-82fb714b82bc",
   "metadata": {},
   "outputs": [],
   "source": []
  },
  {
   "cell_type": "code",
   "execution_count": null,
   "id": "5345ba11-93a6-4750-b075-6291fe5cf9a8",
   "metadata": {},
   "outputs": [],
   "source": []
  }
 ],
 "metadata": {
  "kernelspec": {
   "display_name": "Python 3 (ipykernel)",
   "language": "python",
   "name": "python3"
  },
  "language_info": {
   "codemirror_mode": {
    "name": "ipython",
    "version": 3
   },
   "file_extension": ".py",
   "mimetype": "text/x-python",
   "name": "python",
   "nbconvert_exporter": "python",
   "pygments_lexer": "ipython3",
   "version": "3.9.12"
  }
 },
 "nbformat": 4,
 "nbformat_minor": 5
}
