{
 "cells": [
  {
   "cell_type": "code",
   "execution_count": 1,
   "id": "c8f4ba78-c132-4a0a-8363-767a56c844a7",
   "metadata": {},
   "outputs": [],
   "source": [
    "x = 5"
   ]
  },
  {
   "cell_type": "code",
   "execution_count": 2,
   "id": "eb21fe06-5c17-4e06-be03-2eb87e5003df",
   "metadata": {},
   "outputs": [],
   "source": [
    "y = 4"
   ]
  },
  {
   "cell_type": "code",
   "execution_count": 3,
   "id": "5686cf97-e1bb-45ee-bf46-4dd8219140f5",
   "metadata": {},
   "outputs": [
    {
     "data": {
      "text/plain": [
       "20"
      ]
     },
     "execution_count": 3,
     "metadata": {},
     "output_type": "execute_result"
    }
   ],
   "source": [
    "x*y"
   ]
  },
  {
   "cell_type": "code",
   "execution_count": 4,
   "id": "0bdd0c94-56e5-4907-b82e-69c08514df42",
   "metadata": {},
   "outputs": [
    {
     "data": {
      "text/plain": [
       "5"
      ]
     },
     "execution_count": 4,
     "metadata": {},
     "output_type": "execute_result"
    }
   ],
   "source": [
    "x"
   ]
  },
  {
   "cell_type": "code",
   "execution_count": 5,
   "id": "8afb407f-39f5-4864-8302-f94cdb934c1a",
   "metadata": {},
   "outputs": [
    {
     "data": {
      "text/plain": [
       "24"
      ]
     },
     "execution_count": 5,
     "metadata": {},
     "output_type": "execute_result"
    }
   ],
   "source": [
    "x = 6\n",
    "x*y"
   ]
  },
  {
   "cell_type": "code",
   "execution_count": 7,
   "id": "4a5715c1-2307-40c9-9242-b1d1e0c1af3e",
   "metadata": {},
   "outputs": [
    {
     "data": {
      "text/plain": [
       "40"
      ]
     },
     "execution_count": 7,
     "metadata": {},
     "output_type": "execute_result"
    }
   ],
   "source": [
    "y*10"
   ]
  },
  {
   "cell_type": "markdown",
   "id": "7d1ba368-c8c7-4b1f-af2e-c1f4c808269c",
   "metadata": {},
   "source": [
    "## Integer"
   ]
  },
  {
   "cell_type": "code",
   "execution_count": 4,
   "id": "612264e5-6f21-4226-b33e-71b180f84053",
   "metadata": {},
   "outputs": [],
   "source": [
    "benimDegiskenim = 10\n",
    "benimDigerDegiskenim = 20"
   ]
  },
  {
   "cell_type": "code",
   "execution_count": 5,
   "id": "87f327b5-de8c-42f0-ab16-88d48f4b4ea2",
   "metadata": {},
   "outputs": [
    {
     "data": {
      "text/plain": [
       "30"
      ]
     },
     "execution_count": 5,
     "metadata": {},
     "output_type": "execute_result"
    }
   ],
   "source": [
    "benimDegiskenim + benimDigerDegiskenim"
   ]
  },
  {
   "cell_type": "code",
   "execution_count": 6,
   "id": "75f83da3-5330-4e22-8968-afefa40dc9c2",
   "metadata": {},
   "outputs": [
    {
     "data": {
      "text/plain": [
       "int"
      ]
     },
     "execution_count": 6,
     "metadata": {},
     "output_type": "execute_result"
    }
   ],
   "source": [
    "type(benimDegiskenim)"
   ]
  },
  {
   "cell_type": "code",
   "execution_count": 9,
   "id": "d8b98d1f-fedd-45be-b6dd-707de7bc8942",
   "metadata": {},
   "outputs": [],
   "source": [
    "sonuc = benimDigerDegiskenim / benimDegiskenim "
   ]
  },
  {
   "cell_type": "code",
   "execution_count": 10,
   "id": "1c1ef4fa-6e4d-4dd9-b803-1badbdfcba11",
   "metadata": {},
   "outputs": [
    {
     "data": {
      "text/plain": [
       "float"
      ]
     },
     "execution_count": 10,
     "metadata": {},
     "output_type": "execute_result"
    }
   ],
   "source": [
    "type(sonuc)"
   ]
  },
  {
   "cell_type": "code",
   "execution_count": 11,
   "id": "5c9b2a1a-bb75-484c-9653-ddc6de8c565a",
   "metadata": {},
   "outputs": [],
   "source": [
    "a = 3 \n",
    "b = 2"
   ]
  },
  {
   "cell_type": "code",
   "execution_count": 12,
   "id": "5afa69c5-9d42-4424-8153-47134c87baf8",
   "metadata": {},
   "outputs": [
    {
     "data": {
      "text/plain": [
       "1.5"
      ]
     },
     "execution_count": 12,
     "metadata": {},
     "output_type": "execute_result"
    }
   ],
   "source": [
    "a / b"
   ]
  },
  {
   "cell_type": "code",
   "execution_count": 13,
   "id": "689afd83-0060-49ab-97cc-0861220acae7",
   "metadata": {},
   "outputs": [],
   "source": [
    "pi = 3.14"
   ]
  },
  {
   "cell_type": "code",
   "execution_count": 14,
   "id": "7ae03ca3-8d7d-4636-a815-cd5c59248a3e",
   "metadata": {},
   "outputs": [
    {
     "data": {
      "text/plain": [
       "float"
      ]
     },
     "execution_count": 14,
     "metadata": {},
     "output_type": "execute_result"
    }
   ],
   "source": [
    "type(pi)"
   ]
  },
  {
   "cell_type": "code",
   "execution_count": 15,
   "id": "99d34350-1165-4412-aed6-ae0b3671fa0d",
   "metadata": {},
   "outputs": [],
   "source": [
    "a = 5"
   ]
  },
  {
   "cell_type": "code",
   "execution_count": 16,
   "id": "d8d984e2-9acb-4b64-967c-8ae864724c2d",
   "metadata": {},
   "outputs": [
    {
     "data": {
      "text/plain": [
       "int"
      ]
     },
     "execution_count": 16,
     "metadata": {},
     "output_type": "execute_result"
    }
   ],
   "source": [
    "type(a)"
   ]
  },
  {
   "cell_type": "code",
   "execution_count": 17,
   "id": "fd516f17-e5c0-48a2-980f-d98016b20fd9",
   "metadata": {},
   "outputs": [
    {
     "data": {
      "text/plain": [
       "1.592356687898089"
      ]
     },
     "execution_count": 17,
     "metadata": {},
     "output_type": "execute_result"
    }
   ],
   "source": [
    "a / pi"
   ]
  },
  {
   "cell_type": "code",
   "execution_count": 18,
   "id": "161e39a4-2de2-4209-b015-8bf8cf5d7041",
   "metadata": {},
   "outputs": [],
   "source": [
    "a = 5\n",
    "b = 4\n",
    "sonuc = a + b"
   ]
  },
  {
   "cell_type": "code",
   "execution_count": 19,
   "id": "d3930857-244d-462b-999c-5ed1350e53b7",
   "metadata": {},
   "outputs": [
    {
     "data": {
      "text/plain": [
       "int"
      ]
     },
     "execution_count": 19,
     "metadata": {},
     "output_type": "execute_result"
    }
   ],
   "source": [
    "type(sonuc)"
   ]
  },
  {
   "cell_type": "code",
   "execution_count": 20,
   "id": "8c9c3f92-3b31-48f6-810e-bce114f704ed",
   "metadata": {},
   "outputs": [],
   "source": [
    "## Matematiksel İşlemler"
   ]
  },
  {
   "cell_type": "code",
   "execution_count": 21,
   "id": "70ad7b22-c97e-4742-9e39-5da231073f06",
   "metadata": {},
   "outputs": [],
   "source": [
    "x = 5\n",
    "y = 3"
   ]
  },
  {
   "cell_type": "code",
   "execution_count": 23,
   "id": "350f2817-e428-4f75-96c7-5524f78e74aa",
   "metadata": {},
   "outputs": [
    {
     "data": {
      "text/plain": [
       "150"
      ]
     },
     "execution_count": 23,
     "metadata": {},
     "output_type": "execute_result"
    }
   ],
   "source": [
    "x * y * 10"
   ]
  },
  {
   "cell_type": "code",
   "execution_count": 24,
   "id": "f0e7d69f-3fbd-4061-a3b0-636d18869bee",
   "metadata": {},
   "outputs": [
    {
     "data": {
      "text/plain": [
       "625"
      ]
     },
     "execution_count": 24,
     "metadata": {},
     "output_type": "execute_result"
    }
   ],
   "source": [
    "x*x*x*x"
   ]
  },
  {
   "cell_type": "code",
   "execution_count": 25,
   "id": "9340c873-656b-45b9-989b-d28a635ebf6c",
   "metadata": {},
   "outputs": [
    {
     "data": {
      "text/plain": [
       "625"
      ]
     },
     "execution_count": 25,
     "metadata": {},
     "output_type": "execute_result"
    }
   ],
   "source": [
    "x ** 4"
   ]
  },
  {
   "cell_type": "code",
   "execution_count": 26,
   "id": "4a8ccc58-8c57-4840-8995-3e598573e255",
   "metadata": {},
   "outputs": [],
   "source": [
    "# Reminder -- Kalanı bulmak"
   ]
  },
  {
   "cell_type": "code",
   "execution_count": 27,
   "id": "47f71f5b-c8fe-4c54-9305-79f6cec87342",
   "metadata": {},
   "outputs": [
    {
     "data": {
      "text/plain": [
       "0"
      ]
     },
     "execution_count": 27,
     "metadata": {},
     "output_type": "execute_result"
    }
   ],
   "source": [
    "10 % 2"
   ]
  },
  {
   "cell_type": "code",
   "execution_count": 28,
   "id": "cceebbbd-22f9-4b2b-8814-168d8b3f78b4",
   "metadata": {},
   "outputs": [
    {
     "data": {
      "text/plain": [
       "1"
      ]
     },
     "execution_count": 28,
     "metadata": {},
     "output_type": "execute_result"
    }
   ],
   "source": [
    "11 % 2"
   ]
  },
  {
   "cell_type": "code",
   "execution_count": 29,
   "id": "161e02d7-fffe-4e1e-ba76-2a6a594adf7c",
   "metadata": {},
   "outputs": [
    {
     "data": {
      "text/plain": [
       "2"
      ]
     },
     "execution_count": 29,
     "metadata": {},
     "output_type": "execute_result"
    }
   ],
   "source": [
    "11 % 3"
   ]
  },
  {
   "cell_type": "code",
   "execution_count": 30,
   "id": "9b1bd251-8552-4cb4-8a7b-82dcc2f76b23",
   "metadata": {},
   "outputs": [],
   "source": [
    "kullanicinin_yasi = 10"
   ]
  },
  {
   "cell_type": "code",
   "execution_count": 31,
   "id": "ffc19216-61f3-4c6e-be16-be2163e7181f",
   "metadata": {},
   "outputs": [],
   "source": [
    "# camelCase snake_case"
   ]
  },
  {
   "cell_type": "code",
   "execution_count": 32,
   "id": "c79db097-4821-4538-9190-fdec62ee3cba",
   "metadata": {},
   "outputs": [
    {
     "data": {
      "text/plain": [
       "16.666666666666668"
      ]
     },
     "execution_count": 32,
     "metadata": {},
     "output_type": "execute_result"
    }
   ],
   "source": [
    "kullanicinin_yasi * 5 / 3"
   ]
  },
  {
   "cell_type": "code",
   "execution_count": 33,
   "id": "b1fd0cd5-b2f5-469c-bf39-fb4a06e4cabc",
   "metadata": {},
   "outputs": [
    {
     "data": {
      "text/plain": [
       "int"
      ]
     },
     "execution_count": 33,
     "metadata": {},
     "output_type": "execute_result"
    }
   ],
   "source": [
    "type(kullanicinin_yasi)"
   ]
  },
  {
   "cell_type": "code",
   "execution_count": 35,
   "id": "425250d2-384d-4e09-9439-b111329c01ed",
   "metadata": {},
   "outputs": [
    {
     "name": "stdin",
     "output_type": "stream",
     "text": [
      "Yaşı Giriniz 15\n"
     ]
    }
   ],
   "source": [
    "yas = input(\"Yaşı Giriniz\")"
   ]
  },
  {
   "cell_type": "code",
   "execution_count": 36,
   "id": "acbdbe34-fcc4-47a1-9d31-39fe1e1c5d6d",
   "metadata": {},
   "outputs": [
    {
     "data": {
      "text/plain": [
       "'15'"
      ]
     },
     "execution_count": 36,
     "metadata": {},
     "output_type": "execute_result"
    }
   ],
   "source": [
    "yas"
   ]
  },
  {
   "cell_type": "code",
   "execution_count": 37,
   "id": "3c31961a-a79e-4ecc-a5b5-6ca74287ad7f",
   "metadata": {},
   "outputs": [
    {
     "data": {
      "text/plain": [
       "str"
      ]
     },
     "execution_count": 37,
     "metadata": {},
     "output_type": "execute_result"
    }
   ],
   "source": [
    "type(yas)"
   ]
  },
  {
   "cell_type": "code",
   "execution_count": 38,
   "id": "d1cf359b-0abf-46f7-9c1b-229bdbdbd49b",
   "metadata": {},
   "outputs": [
    {
     "data": {
      "text/plain": [
       "'151515151515151515151515151515'"
      ]
     },
     "execution_count": 38,
     "metadata": {},
     "output_type": "execute_result"
    }
   ],
   "source": [
    "yas * 15"
   ]
  },
  {
   "cell_type": "markdown",
   "id": "d3e08923-aa2f-4632-8ae8-c088d2c63977",
   "metadata": {},
   "source": [
    "## String"
   ]
  },
  {
   "cell_type": "code",
   "execution_count": 39,
   "id": "51bdec54-352a-4597-a3a1-2433e6f133c4",
   "metadata": {},
   "outputs": [
    {
     "data": {
      "text/plain": [
       "'Merhaba Dünya'"
      ]
     },
     "execution_count": 39,
     "metadata": {},
     "output_type": "execute_result"
    }
   ],
   "source": [
    "\"Merhaba Dünya\""
   ]
  },
  {
   "cell_type": "code",
   "execution_count": 40,
   "id": "c8b275de-7a9a-443c-8f21-d0c148429463",
   "metadata": {},
   "outputs": [],
   "source": [
    "x = \"Merhaba Dünya\""
   ]
  },
  {
   "cell_type": "code",
   "execution_count": 41,
   "id": "c7ebff21-2e8d-4587-a4ad-5aaf80c7d288",
   "metadata": {},
   "outputs": [],
   "source": [
    "x = 10"
   ]
  },
  {
   "cell_type": "code",
   "execution_count": 42,
   "id": "7a6851ea-0e0e-463f-bd56-a15f098851d8",
   "metadata": {},
   "outputs": [],
   "source": [
    "x = 20.5"
   ]
  },
  {
   "cell_type": "code",
   "execution_count": 43,
   "id": "8309439a-38f8-4cb5-b874-594d8ea517e3",
   "metadata": {},
   "outputs": [],
   "source": [
    "x = \"hello\""
   ]
  },
  {
   "cell_type": "code",
   "execution_count": 44,
   "id": "3025725b-d71c-483b-b6cd-c8bc3bf976dc",
   "metadata": {},
   "outputs": [
    {
     "data": {
      "text/plain": [
       "str"
      ]
     },
     "execution_count": 44,
     "metadata": {},
     "output_type": "execute_result"
    }
   ],
   "source": [
    "type(x)"
   ]
  },
  {
   "cell_type": "code",
   "execution_count": 45,
   "id": "fb77eb1c-63e3-4e90-80ce-927ca0d10e16",
   "metadata": {},
   "outputs": [],
   "source": [
    "y = 'yeni_string'"
   ]
  },
  {
   "cell_type": "code",
   "execution_count": 46,
   "id": "604d6ad0-b127-4ff6-bbdc-9a29cea24093",
   "metadata": {},
   "outputs": [
    {
     "data": {
      "text/plain": [
       "str"
      ]
     },
     "execution_count": 46,
     "metadata": {},
     "output_type": "execute_result"
    }
   ],
   "source": [
    "type(y)"
   ]
  },
  {
   "cell_type": "code",
   "execution_count": 47,
   "id": "4b17f25b-bb2e-49b1-9de4-a950af627e55",
   "metadata": {},
   "outputs": [],
   "source": [
    "a = 5"
   ]
  },
  {
   "cell_type": "code",
   "execution_count": 48,
   "id": "972426f1-93a2-4808-8299-8f221bcfaa04",
   "metadata": {},
   "outputs": [
    {
     "data": {
      "text/plain": [
       "'Yeni_string'"
      ]
     },
     "execution_count": 48,
     "metadata": {},
     "output_type": "execute_result"
    }
   ],
   "source": [
    "y.capitalize()"
   ]
  },
  {
   "cell_type": "code",
   "execution_count": 49,
   "id": "50cba7da-7bfa-43f0-b6b7-4059f81f939d",
   "metadata": {},
   "outputs": [
    {
     "data": {
      "text/plain": [
       "['yeni_string']"
      ]
     },
     "execution_count": 49,
     "metadata": {},
     "output_type": "execute_result"
    }
   ],
   "source": [
    "y.split()"
   ]
  },
  {
   "cell_type": "code",
   "execution_count": 50,
   "id": "48572979-a824-4d53-bfb3-9e8e68c1915a",
   "metadata": {},
   "outputs": [],
   "source": [
    "y = \"hello world\""
   ]
  },
  {
   "cell_type": "code",
   "execution_count": 51,
   "id": "10023fbb-d3b9-4767-9109-8f0e630249dc",
   "metadata": {},
   "outputs": [
    {
     "data": {
      "text/plain": [
       "['hello', 'world']"
      ]
     },
     "execution_count": 51,
     "metadata": {},
     "output_type": "execute_result"
    }
   ],
   "source": [
    "y.split()"
   ]
  },
  {
   "cell_type": "code",
   "execution_count": 52,
   "id": "d073b307-f5e0-4e19-96bb-6d34b07a0296",
   "metadata": {},
   "outputs": [],
   "source": [
    "benimString = \"Danyal Can KAYRAK\""
   ]
  },
  {
   "cell_type": "code",
   "execution_count": 53,
   "id": "e97f15cc-0410-4881-b07c-5ada8cac8bbe",
   "metadata": {},
   "outputs": [
    {
     "data": {
      "text/plain": [
       "'Danyal Can KAYRAKhello world'"
      ]
     },
     "execution_count": 53,
     "metadata": {},
     "output_type": "execute_result"
    }
   ],
   "source": [
    "benimString + y"
   ]
  },
  {
   "cell_type": "code",
   "execution_count": 54,
   "id": "fe8db5fd-a4ce-4ba8-b2c7-8c3436971cb2",
   "metadata": {},
   "outputs": [
    {
     "data": {
      "text/plain": [
       "'Danyal Can KAYRAKDanyal Can KAYRAKDanyal Can KAYRAKDanyal Can KAYRAK'"
      ]
     },
     "execution_count": 54,
     "metadata": {},
     "output_type": "execute_result"
    }
   ],
   "source": [
    "benimString * 4"
   ]
  },
  {
   "cell_type": "code",
   "execution_count": 55,
   "id": "5616e957-a9fc-4f3b-845a-fe2a2ddb3f4f",
   "metadata": {},
   "outputs": [
    {
     "name": "stdin",
     "output_type": "stream",
     "text": [
      "Yaş 33\n"
     ]
    },
    {
     "data": {
      "text/plain": [
       "'33'"
      ]
     },
     "execution_count": 55,
     "metadata": {},
     "output_type": "execute_result"
    }
   ],
   "source": [
    "benimInput = input(\"Yaş\")\n",
    "benimInput"
   ]
  },
  {
   "cell_type": "code",
   "execution_count": 56,
   "id": "a42cb49b-86a4-4a44-9938-48b34ce5de89",
   "metadata": {},
   "outputs": [
    {
     "data": {
      "text/plain": [
       "str"
      ]
     },
     "execution_count": 56,
     "metadata": {},
     "output_type": "execute_result"
    }
   ],
   "source": [
    "type(benimInput)"
   ]
  },
  {
   "cell_type": "code",
   "execution_count": 59,
   "id": "62c14160-ddc2-45ed-9a7c-14494db11218",
   "metadata": {},
   "outputs": [],
   "source": [
    "benimIntInput = int(benimInput) "
   ]
  },
  {
   "cell_type": "code",
   "execution_count": 60,
   "id": "26f08d07-0e20-4f4a-a43b-8069e1dbba99",
   "metadata": {},
   "outputs": [
    {
     "data": {
      "text/plain": [
       "33"
      ]
     },
     "execution_count": 60,
     "metadata": {},
     "output_type": "execute_result"
    }
   ],
   "source": [
    "benimIntInput"
   ]
  },
  {
   "cell_type": "code",
   "execution_count": 61,
   "id": "78a305a3-2d65-4ae4-abbc-22b1c713614b",
   "metadata": {},
   "outputs": [
    {
     "data": {
      "text/plain": [
       "55.0"
      ]
     },
     "execution_count": 61,
     "metadata": {},
     "output_type": "execute_result"
    }
   ],
   "source": [
    "benimIntInput / 3 * 5"
   ]
  },
  {
   "cell_type": "code",
   "execution_count": 62,
   "id": "dac66f57-1665-470f-85aa-aeb284729548",
   "metadata": {},
   "outputs": [],
   "source": [
    "k = \"KAYRAK\""
   ]
  },
  {
   "cell_type": "code",
   "execution_count": 63,
   "id": "ea7ee6d5-c053-4253-b86e-312adb0cfd79",
   "metadata": {},
   "outputs": [
    {
     "data": {
      "text/plain": [
       "6"
      ]
     },
     "execution_count": 63,
     "metadata": {},
     "output_type": "execute_result"
    }
   ],
   "source": [
    "len(k)"
   ]
  },
  {
   "cell_type": "code",
   "execution_count": 64,
   "id": "3d74054e-374d-43c0-b9ac-9b1990c5a7dd",
   "metadata": {},
   "outputs": [
    {
     "name": "stdout",
     "output_type": "stream",
     "text": [
      "merhaba python\n"
     ]
    }
   ],
   "source": [
    "print(\"merhaba python\")"
   ]
  },
  {
   "cell_type": "code",
   "execution_count": 1,
   "id": "55273805-2ae7-4372-a9fc-97278231867d",
   "metadata": {},
   "outputs": [],
   "source": [
    "isimString = \"Danyal Can KAYRAK\""
   ]
  },
  {
   "cell_type": "code",
   "execution_count": 2,
   "id": "ea960ae8-e80f-4aca-8e9b-451877d1ff89",
   "metadata": {},
   "outputs": [
    {
     "data": {
      "text/plain": [
       "'Danyal Can KAYRAK'"
      ]
     },
     "execution_count": 2,
     "metadata": {},
     "output_type": "execute_result"
    }
   ],
   "source": [
    "isimString"
   ]
  },
  {
   "cell_type": "markdown",
   "id": "0a7331cd-7e17-4fe1-bea2-041012d27b1b",
   "metadata": {},
   "source": [
    "### Indexleme"
   ]
  },
  {
   "cell_type": "code",
   "execution_count": 3,
   "id": "8c3fa8eb-8b41-4815-9f92-815a3a06cad8",
   "metadata": {},
   "outputs": [
    {
     "data": {
      "text/plain": [
       "'D'"
      ]
     },
     "execution_count": 3,
     "metadata": {},
     "output_type": "execute_result"
    }
   ],
   "source": [
    "isimString[0]"
   ]
  },
  {
   "cell_type": "code",
   "execution_count": 4,
   "id": "7bd0c486-a2a2-4231-bf88-bd3c511faa8d",
   "metadata": {},
   "outputs": [
    {
     "data": {
      "text/plain": [
       "'C'"
      ]
     },
     "execution_count": 4,
     "metadata": {},
     "output_type": "execute_result"
    }
   ],
   "source": [
    "isimString[7]"
   ]
  },
  {
   "cell_type": "code",
   "execution_count": 5,
   "id": "e0184838-6ed8-497b-8369-54ebaf01b92c",
   "metadata": {},
   "outputs": [
    {
     "data": {
      "text/plain": [
       "'K'"
      ]
     },
     "execution_count": 5,
     "metadata": {},
     "output_type": "execute_result"
    }
   ],
   "source": [
    "isimString[11]"
   ]
  },
  {
   "cell_type": "code",
   "execution_count": 6,
   "id": "85499186-6f53-4859-9004-4c606b77a870",
   "metadata": {},
   "outputs": [
    {
     "data": {
      "text/plain": [
       "'K'"
      ]
     },
     "execution_count": 6,
     "metadata": {},
     "output_type": "execute_result"
    }
   ],
   "source": [
    "isimString[-1]"
   ]
  },
  {
   "cell_type": "code",
   "execution_count": 7,
   "id": "437aa763-7dbc-4e61-bdd8-f6a057696997",
   "metadata": {},
   "outputs": [
    {
     "data": {
      "text/plain": [
       "'R'"
      ]
     },
     "execution_count": 7,
     "metadata": {},
     "output_type": "execute_result"
    }
   ],
   "source": [
    "isimString[-3]"
   ]
  },
  {
   "cell_type": "code",
   "execution_count": 8,
   "id": "bc50b582-bcb2-419f-b0ba-ec33a530b068",
   "metadata": {},
   "outputs": [
    {
     "data": {
      "text/plain": [
       "'ln'"
      ]
     },
     "execution_count": 8,
     "metadata": {},
     "output_type": "execute_result"
    }
   ],
   "source": [
    "isimString[5]+isimString[9]"
   ]
  },
  {
   "cell_type": "code",
   "execution_count": 9,
   "id": "ea56b567-3e07-4fd8-af61-957eaf2fd894",
   "metadata": {},
   "outputs": [],
   "source": [
    "yeniString = \"0123456789\""
   ]
  },
  {
   "cell_type": "code",
   "execution_count": 10,
   "id": "2a6d9efa-5564-4618-82ce-fe15bd12e7db",
   "metadata": {},
   "outputs": [
    {
     "data": {
      "text/plain": [
       "'5'"
      ]
     },
     "execution_count": 10,
     "metadata": {},
     "output_type": "execute_result"
    }
   ],
   "source": [
    "yeniString[5]"
   ]
  },
  {
   "cell_type": "code",
   "execution_count": 12,
   "id": "d7ef2df2-e5bd-4f70-99be-8b92eef9fc6c",
   "metadata": {},
   "outputs": [
    {
     "data": {
      "text/plain": [
       "str"
      ]
     },
     "execution_count": 12,
     "metadata": {},
     "output_type": "execute_result"
    }
   ],
   "source": [
    "type(yeniString[5])"
   ]
  },
  {
   "cell_type": "code",
   "execution_count": 13,
   "id": "bc803216-bbbb-49f2-814e-b0a6cde3dfd3",
   "metadata": {},
   "outputs": [
    {
     "data": {
      "text/plain": [
       "'01'"
      ]
     },
     "execution_count": 13,
     "metadata": {},
     "output_type": "execute_result"
    }
   ],
   "source": [
    "yeniString[:2]"
   ]
  },
  {
   "cell_type": "markdown",
   "id": "7e1c5a59-7551-4c93-b394-d1e6fc9e8170",
   "metadata": {},
   "source": [
    "### Slicing"
   ]
  },
  {
   "cell_type": "code",
   "execution_count": 14,
   "id": "dc03edc8-a258-40fc-b260-0b025068f7d4",
   "metadata": {},
   "outputs": [],
   "source": [
    "veri = \"Selamlar\""
   ]
  },
  {
   "cell_type": "code",
   "execution_count": 20,
   "id": "e7f65d51-b474-402b-a8cd-eaa4e472b654",
   "metadata": {},
   "outputs": [
    {
     "data": {
      "text/plain": [
       "'Se'"
      ]
     },
     "execution_count": 20,
     "metadata": {},
     "output_type": "execute_result"
    }
   ],
   "source": [
    "veri[:2]"
   ]
  },
  {
   "cell_type": "code",
   "execution_count": 21,
   "id": "87bac289-035c-4f3b-bb5b-b33b516f7c0a",
   "metadata": {},
   "outputs": [
    {
     "data": {
      "text/plain": [
       "'ralmaleS'"
      ]
     },
     "execution_count": 21,
     "metadata": {},
     "output_type": "execute_result"
    }
   ],
   "source": [
    "veri[::-1]"
   ]
  },
  {
   "cell_type": "markdown",
   "id": "14048fcc-0782-46e8-b7f8-2a09a79e9092",
   "metadata": {},
   "source": [
    "## String Methodları"
   ]
  },
  {
   "cell_type": "code",
   "execution_count": 27,
   "id": "d146ae9d-8d40-4d69-a6c9-42c425b5e5cf",
   "metadata": {},
   "outputs": [],
   "source": [
    "isim = \"danyal\""
   ]
  },
  {
   "cell_type": "code",
   "execution_count": 28,
   "id": "430f648a-8177-4ecd-8080-15ebd42038d3",
   "metadata": {},
   "outputs": [
    {
     "data": {
      "text/plain": [
       "'Danyal'"
      ]
     },
     "execution_count": 28,
     "metadata": {},
     "output_type": "execute_result"
    }
   ],
   "source": [
    "isim.capitalize()"
   ]
  },
  {
   "cell_type": "code",
   "execution_count": 29,
   "id": "4f0336ef-e94d-48a7-83d1-3ff960efb169",
   "metadata": {},
   "outputs": [
    {
     "data": {
      "text/plain": [
       "'danyal'"
      ]
     },
     "execution_count": 29,
     "metadata": {},
     "output_type": "execute_result"
    }
   ],
   "source": [
    "isim"
   ]
  },
  {
   "cell_type": "code",
   "execution_count": 30,
   "id": "8e195153-eff9-4659-9e62-4c914314171e",
   "metadata": {},
   "outputs": [],
   "source": [
    "isim = isim.capitalize()"
   ]
  },
  {
   "cell_type": "code",
   "execution_count": 31,
   "id": "da495c1f-0232-40ac-9d10-ef5a316997aa",
   "metadata": {},
   "outputs": [
    {
     "data": {
      "text/plain": [
       "'Danyal'"
      ]
     },
     "execution_count": 31,
     "metadata": {},
     "output_type": "execute_result"
    }
   ],
   "source": [
    "isim"
   ]
  },
  {
   "cell_type": "code",
   "execution_count": 32,
   "id": "ebf2ef88-67d0-4a44-9347-e79ca8f0acc9",
   "metadata": {},
   "outputs": [],
   "source": [
    "tamisim = \"Danyal Can Kayrak\""
   ]
  },
  {
   "cell_type": "code",
   "execution_count": 34,
   "id": "bfc2edd9-7fb9-4388-9ce4-2d5cc41ffe26",
   "metadata": {},
   "outputs": [],
   "source": [
    "liste = tamisim.split()"
   ]
  },
  {
   "cell_type": "code",
   "execution_count": 35,
   "id": "4160474d-7d8f-4aa2-b585-ad2fd4d29f75",
   "metadata": {},
   "outputs": [
    {
     "data": {
      "text/plain": [
       "'Danyal'"
      ]
     },
     "execution_count": 35,
     "metadata": {},
     "output_type": "execute_result"
    }
   ],
   "source": [
    "liste[0]"
   ]
  },
  {
   "cell_type": "code",
   "execution_count": 36,
   "id": "f7662dc4-38db-48c8-9f71-8f58d416dae5",
   "metadata": {},
   "outputs": [
    {
     "data": {
      "text/plain": [
       "'DANYAL CAN KAYRAK'"
      ]
     },
     "execution_count": 36,
     "metadata": {},
     "output_type": "execute_result"
    }
   ],
   "source": [
    "tamisim.upper()"
   ]
  },
  {
   "cell_type": "code",
   "execution_count": 37,
   "id": "032d5eac-56df-4cfa-8ca1-b274c99a971d",
   "metadata": {},
   "outputs": [
    {
     "data": {
      "text/plain": [
       "'510'"
      ]
     },
     "execution_count": 37,
     "metadata": {},
     "output_type": "execute_result"
    }
   ],
   "source": [
    "i = \"5\"\n",
    "j = \"10\"\n",
    "i+j"
   ]
  }
 ],
 "metadata": {
  "kernelspec": {
   "display_name": "Python 3 (ipykernel)",
   "language": "python",
   "name": "python3"
  },
  "language_info": {
   "codemirror_mode": {
    "name": "ipython",
    "version": 3
   },
   "file_extension": ".py",
   "mimetype": "text/x-python",
   "name": "python",
   "nbconvert_exporter": "python",
   "pygments_lexer": "ipython3",
   "version": "3.9.12"
  }
 },
 "nbformat": 4,
 "nbformat_minor": 5
}
