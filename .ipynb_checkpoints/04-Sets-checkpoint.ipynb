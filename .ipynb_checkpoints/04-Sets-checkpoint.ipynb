{
 "cells": [
  {
   "cell_type": "code",
   "execution_count": 1,
   "id": "0e27f68f-8d76-47a6-aa48-c60d4a0b3cbe",
   "metadata": {},
   "outputs": [],
   "source": [
    "list = set([10,20,30,10])"
   ]
  },
  {
   "cell_type": "code",
   "execution_count": 2,
   "id": "93172e23-44d4-4a27-80ce-fe023275795f",
   "metadata": {},
   "outputs": [
    {
     "data": {
      "text/plain": [
       "{10, 20, 30}"
      ]
     },
     "execution_count": 2,
     "metadata": {},
     "output_type": "execute_result"
    }
   ],
   "source": [
    "list"
   ]
  },
  {
   "cell_type": "code",
   "execution_count": 3,
   "id": "f86dc826-9bf6-4e3b-abf3-243b00495cd8",
   "metadata": {},
   "outputs": [],
   "source": [
    "list2 = [10,20,30,10]"
   ]
  },
  {
   "cell_type": "code",
   "execution_count": 4,
   "id": "62fe767a-b239-45b7-a1f0-eef192e41082",
   "metadata": {},
   "outputs": [
    {
     "data": {
      "text/plain": [
       "[10, 20, 30, 10]"
      ]
     },
     "execution_count": 4,
     "metadata": {},
     "output_type": "execute_result"
    }
   ],
   "source": [
    "list2"
   ]
  },
  {
   "cell_type": "code",
   "execution_count": 5,
   "id": "ef1f9ce1-ee3e-4aa0-a106-6d98975ca5a9",
   "metadata": {},
   "outputs": [],
   "source": [
    "# görüldüğü üzere sette tekrarlı veri bulunmamaktadır."
   ]
  },
  {
   "cell_type": "code",
   "execution_count": 6,
   "id": "0db6dd85-528a-4b81-bb1f-490048c42efc",
   "metadata": {},
   "outputs": [],
   "source": [
    "list1 = set(list2)"
   ]
  },
  {
   "cell_type": "code",
   "execution_count": 7,
   "id": "27944052-73c2-4272-852f-3be3f19146fb",
   "metadata": {},
   "outputs": [
    {
     "data": {
      "text/plain": [
       "list"
      ]
     },
     "execution_count": 7,
     "metadata": {},
     "output_type": "execute_result"
    }
   ],
   "source": [
    "type(list2)"
   ]
  },
  {
   "cell_type": "code",
   "execution_count": 8,
   "id": "8e134a9a-5054-421d-ab06-b873b9177822",
   "metadata": {},
   "outputs": [
    {
     "data": {
      "text/plain": [
       "set"
      ]
     },
     "execution_count": 8,
     "metadata": {},
     "output_type": "execute_result"
    }
   ],
   "source": [
    "type(list1)"
   ]
  },
  {
   "cell_type": "code",
   "execution_count": 1,
   "id": "ea61c6d9-0b90-4886-a028-5520b567cc9b",
   "metadata": {},
   "outputs": [],
   "source": [
    "benimSet = {\"a\",\"b\",\"c\",\"d\"}"
   ]
  },
  {
   "cell_type": "code",
   "execution_count": 2,
   "id": "fc07a58e-d8de-4364-bd4e-fdb20c1ca70d",
   "metadata": {},
   "outputs": [
    {
     "data": {
      "text/plain": [
       "set"
      ]
     },
     "execution_count": 2,
     "metadata": {},
     "output_type": "execute_result"
    }
   ],
   "source": [
    "type(benimSet)"
   ]
  },
  {
   "cell_type": "code",
   "execution_count": 3,
   "id": "de0fe273-65cf-4e0a-b1eb-0008391da0ad",
   "metadata": {},
   "outputs": [],
   "source": [
    "bosListe = []"
   ]
  },
  {
   "cell_type": "code",
   "execution_count": 4,
   "id": "428896d1-36b5-4ef6-9141-3ecfffa643d9",
   "metadata": {},
   "outputs": [
    {
     "data": {
      "text/plain": [
       "list"
      ]
     },
     "execution_count": 4,
     "metadata": {},
     "output_type": "execute_result"
    }
   ],
   "source": [
    "type(bosListe)"
   ]
  },
  {
   "cell_type": "code",
   "execution_count": 5,
   "id": "3fd0119f-668d-40b2-aa59-c7d126cbc028",
   "metadata": {},
   "outputs": [],
   "source": [
    "bosListe.append(1)"
   ]
  },
  {
   "cell_type": "code",
   "execution_count": 6,
   "id": "e9aeb54a-5caa-4479-8c4e-c43c2e10c090",
   "metadata": {},
   "outputs": [
    {
     "data": {
      "text/plain": [
       "[1]"
      ]
     },
     "execution_count": 6,
     "metadata": {},
     "output_type": "execute_result"
    }
   ],
   "source": [
    "bosListe"
   ]
  },
  {
   "cell_type": "code",
   "execution_count": 7,
   "id": "1485ec0b-c676-4738-9117-e12ff0464006",
   "metadata": {},
   "outputs": [],
   "source": [
    "bosSet = {}"
   ]
  },
  {
   "cell_type": "code",
   "execution_count": 8,
   "id": "20f5657e-0b9c-4409-9dc2-d43fb522d146",
   "metadata": {},
   "outputs": [
    {
     "data": {
      "text/plain": [
       "dict"
      ]
     },
     "execution_count": 8,
     "metadata": {},
     "output_type": "execute_result"
    }
   ],
   "source": [
    "type(bosSet)"
   ]
  },
  {
   "cell_type": "code",
   "execution_count": 9,
   "id": "0769fe34-509b-4ba4-819a-b45f2773883e",
   "metadata": {},
   "outputs": [],
   "source": [
    "bosSet[\"anahtar\"] = 10"
   ]
  },
  {
   "cell_type": "code",
   "execution_count": 10,
   "id": "e2d9a4be-3406-4a8c-9791-795cd945e4d2",
   "metadata": {},
   "outputs": [
    {
     "data": {
      "text/plain": [
       "{'anahtar': 10}"
      ]
     },
     "execution_count": 10,
     "metadata": {},
     "output_type": "execute_result"
    }
   ],
   "source": [
    "bosSet"
   ]
  },
  {
   "cell_type": "code",
   "execution_count": 11,
   "id": "2c99877d-288b-4710-8305-98783ed2a26a",
   "metadata": {},
   "outputs": [],
   "source": [
    "benimBosSetim = set()"
   ]
  },
  {
   "cell_type": "code",
   "execution_count": 12,
   "id": "4de06536-384e-4abb-9337-4f441d00aa56",
   "metadata": {},
   "outputs": [
    {
     "data": {
      "text/plain": [
       "set()"
      ]
     },
     "execution_count": 12,
     "metadata": {},
     "output_type": "execute_result"
    }
   ],
   "source": [
    "benimBosSetim"
   ]
  },
  {
   "cell_type": "code",
   "execution_count": 13,
   "id": "4308377b-f4d4-4ca1-b955-89dda61a0c31",
   "metadata": {},
   "outputs": [
    {
     "data": {
      "text/plain": [
       "set"
      ]
     },
     "execution_count": 13,
     "metadata": {},
     "output_type": "execute_result"
    }
   ],
   "source": [
    "type(benimBosSetim)"
   ]
  },
  {
   "cell_type": "code",
   "execution_count": 14,
   "id": "709859b6-cf85-4d14-8b1d-350f9d7a7d9f",
   "metadata": {},
   "outputs": [],
   "source": [
    "benimBosSetim.add(10)"
   ]
  },
  {
   "cell_type": "code",
   "execution_count": 15,
   "id": "4a3b9d02-91ce-4967-afbb-fe34b005585c",
   "metadata": {},
   "outputs": [],
   "source": [
    "benimBosSetim.add(20)"
   ]
  },
  {
   "cell_type": "code",
   "execution_count": 16,
   "id": "39b63aec-8e5a-413c-b644-019cb2f5c153",
   "metadata": {},
   "outputs": [],
   "source": [
    "benimBosSetim.add(50)"
   ]
  },
  {
   "cell_type": "code",
   "execution_count": 17,
   "id": "35dc403c-ee4f-4bb4-b8bd-aa61930dc409",
   "metadata": {},
   "outputs": [
    {
     "data": {
      "text/plain": [
       "{10, 20, 50}"
      ]
     },
     "execution_count": 17,
     "metadata": {},
     "output_type": "execute_result"
    }
   ],
   "source": [
    "benimBosSetim"
   ]
  }
 ],
 "metadata": {
  "kernelspec": {
   "display_name": "Python 3 (ipykernel)",
   "language": "python",
   "name": "python3"
  },
  "language_info": {
   "codemirror_mode": {
    "name": "ipython",
    "version": 3
   },
   "file_extension": ".py",
   "mimetype": "text/x-python",
   "name": "python",
   "nbconvert_exporter": "python",
   "pygments_lexer": "ipython3",
   "version": "3.9.12"
  }
 },
 "nbformat": 4,
 "nbformat_minor": 5
}
