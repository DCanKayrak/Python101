{
 "cells": [
  {
   "cell_type": "code",
   "execution_count": 1,
   "id": "6d12b8be-3496-4dd4-9385-0400f5f68bb2",
   "metadata": {},
   "outputs": [],
   "source": [
    "myList = list()"
   ]
  },
  {
   "cell_type": "code",
   "execution_count": 2,
   "id": "f2f22a0c-5253-49b9-bc72-93377533c577",
   "metadata": {},
   "outputs": [
    {
     "data": {
      "text/plain": [
       "list"
      ]
     },
     "execution_count": 2,
     "metadata": {},
     "output_type": "execute_result"
    }
   ],
   "source": [
    "type(myList)"
   ]
  },
  {
   "cell_type": "code",
   "execution_count": 3,
   "id": "b7854d42-9bad-4f22-935d-217c6eaa2b95",
   "metadata": {},
   "outputs": [],
   "source": [
    "# instance & attribute"
   ]
  },
  {
   "cell_type": "code",
   "execution_count": 11,
   "id": "6594f21f-d8c2-442c-b363-06e9407e9f05",
   "metadata": {},
   "outputs": [],
   "source": [
    "class SuperKahraman():\n",
    "    def __init__(self,isim,yas,meslek):\n",
    "        print(\"init çağırıldı\")\n",
    "        self.isim = isim\n",
    "        self.yas = yas\n",
    "        self.meslek = meslek"
   ]
  },
  {
   "cell_type": "code",
   "execution_count": 13,
   "id": "efc0656b-1242-46a3-919a-4ebb1f5da8f9",
   "metadata": {},
   "outputs": [
    {
     "name": "stdout",
     "output_type": "stream",
     "text": [
      "init çağırıldı\n"
     ]
    },
    {
     "data": {
      "text/plain": [
       "'Superman'"
      ]
     },
     "execution_count": 13,
     "metadata": {},
     "output_type": "execute_result"
    }
   ],
   "source": [
    "superman = SuperKahraman(\"Superman\",30,\"Gazeteci\")\n",
    "superman.isim"
   ]
  },
  {
   "cell_type": "code",
   "execution_count": 14,
   "id": "fcf4873c-c035-470a-8a21-1905c4334f12",
   "metadata": {},
   "outputs": [
    {
     "data": {
      "text/plain": [
       "30"
      ]
     },
     "execution_count": 14,
     "metadata": {},
     "output_type": "execute_result"
    }
   ],
   "source": [
    "superman.yas"
   ]
  },
  {
   "cell_type": "code",
   "execution_count": 15,
   "id": "0c816370-004e-4c65-8638-55b79e7ffb5c",
   "metadata": {},
   "outputs": [
    {
     "data": {
      "text/plain": [
       "'Gazeteci'"
      ]
     },
     "execution_count": 15,
     "metadata": {},
     "output_type": "execute_result"
    }
   ],
   "source": [
    "superman.meslek"
   ]
  },
  {
   "cell_type": "code",
   "execution_count": 16,
   "id": "f428a3b2-b805-417e-81c5-effde38ffac2",
   "metadata": {},
   "outputs": [
    {
     "name": "stdout",
     "output_type": "stream",
     "text": [
      "init çağırıldı\n"
     ]
    }
   ],
   "source": [
    "batman = SuperKahraman(\"BruceWayne\",45,\"Batman\")"
   ]
  },
  {
   "cell_type": "code",
   "execution_count": 17,
   "id": "cda1b688-1845-4347-a7d3-491eac83d1ca",
   "metadata": {},
   "outputs": [
    {
     "data": {
      "text/plain": [
       "45"
      ]
     },
     "execution_count": 17,
     "metadata": {},
     "output_type": "execute_result"
    }
   ],
   "source": [
    "batman.yas"
   ]
  },
  {
   "cell_type": "code",
   "execution_count": 18,
   "id": "0e70ca97-a6ea-415a-b300-a597f45dfb14",
   "metadata": {},
   "outputs": [
    {
     "data": {
      "text/plain": [
       "'BruceWayne'"
      ]
     },
     "execution_count": 18,
     "metadata": {},
     "output_type": "execute_result"
    }
   ],
   "source": [
    "batman.isim"
   ]
  },
  {
   "cell_type": "code",
   "execution_count": 19,
   "id": "f5209374-f27f-47d7-b457-3647c8913eb2",
   "metadata": {},
   "outputs": [
    {
     "data": {
      "text/plain": [
       "'Batman'"
      ]
     },
     "execution_count": 19,
     "metadata": {},
     "output_type": "execute_result"
    }
   ],
   "source": [
    "batman.meslek"
   ]
  },
  {
   "cell_type": "code",
   "execution_count": 20,
   "id": "a649d180-793b-48fd-9b46-d8207b7ac4bf",
   "metadata": {},
   "outputs": [],
   "source": [
    "# Methods"
   ]
  },
  {
   "cell_type": "code",
   "execution_count": 23,
   "id": "eb4b4118-89cf-49c0-a911-d6a0543cf89a",
   "metadata": {},
   "outputs": [],
   "source": [
    "class SuperKahraman():\n",
    "    special_ability = \"Invisibilty\"\n",
    "    def __init__(self,isim,yas,meslek):\n",
    "        print(\"init çağırıldı\")\n",
    "        self.isim = isim\n",
    "        self.yas = yas\n",
    "        self.meslek = meslek\n",
    "    def ozelGuc(self):\n",
    "        print(f\"Özel güç çağırıldı : {self.meslek}\")"
   ]
  },
  {
   "cell_type": "code",
   "execution_count": 24,
   "id": "27052513-8f00-4d28-ab78-dbdd78ac2117",
   "metadata": {},
   "outputs": [
    {
     "name": "stdout",
     "output_type": "stream",
     "text": [
      "init çağırıldı\n"
     ]
    }
   ],
   "source": [
    "batman = SuperKahraman(\"BruceWayne\",45,\"Batman\")"
   ]
  },
  {
   "cell_type": "code",
   "execution_count": 25,
   "id": "53c74c6f-806c-4595-8e8d-4862b7574605",
   "metadata": {},
   "outputs": [
    {
     "name": "stdout",
     "output_type": "stream",
     "text": [
      "Özel güç çağırıldı : Batman\n"
     ]
    }
   ],
   "source": [
    "batman.ozelGuc()"
   ]
  },
  {
   "cell_type": "code",
   "execution_count": 26,
   "id": "c480f0d9-0ea3-44f5-b11a-01cb256976ec",
   "metadata": {},
   "outputs": [],
   "source": [
    "# Default values"
   ]
  },
  {
   "cell_type": "code",
   "execution_count": 31,
   "id": "7bf335b8-a406-4ee0-9c4e-6c9a9087c0f8",
   "metadata": {},
   "outputs": [],
   "source": [
    "class Dog():\n",
    "    yearMultiply = 7\n",
    "    \n",
    "    def __init__(self,yas = 3):\n",
    "        self.yas = yas\n",
    "    def insanYasiniHesapla(self):\n",
    "        return self.yas * self.yearMultiply"
   ]
  },
  {
   "cell_type": "code",
   "execution_count": 29,
   "id": "808bfd12-c5e3-4d23-83c0-462b6c81451b",
   "metadata": {},
   "outputs": [
    {
     "data": {
      "text/plain": [
       "3"
      ]
     },
     "execution_count": 29,
     "metadata": {},
     "output_type": "execute_result"
    }
   ],
   "source": [
    "Dog().yas"
   ]
  },
  {
   "cell_type": "code",
   "execution_count": 32,
   "id": "6e858ca8-44f2-4897-bed2-8851c71c7c47",
   "metadata": {},
   "outputs": [
    {
     "data": {
      "text/plain": [
       "21"
      ]
     },
     "execution_count": 32,
     "metadata": {},
     "output_type": "execute_result"
    }
   ],
   "source": [
    "Dog().insanYasiniHesapla()"
   ]
  },
  {
   "cell_type": "code",
   "execution_count": 1,
   "id": "a8db7676-4a20-4be0-ab48-fdf3aa37590f",
   "metadata": {},
   "outputs": [],
   "source": [
    "# inheritance"
   ]
  },
  {
   "cell_type": "code",
   "execution_count": 18,
   "id": "0f7bdda5-6266-4e6a-8b37-0f2d3a5eb545",
   "metadata": {},
   "outputs": [],
   "source": [
    "class Animal():\n",
    "    def __init__(self):\n",
    "        print(\"Animal Class Called!\")\n",
    "    def method1(self):\n",
    "        print(\"Animal -> Method1\")\n",
    "    def method2(self):\n",
    "        print(\"Animal -> Method2\")"
   ]
  },
  {
   "cell_type": "code",
   "execution_count": 19,
   "id": "ebdef6dd-24b6-451d-b583-4f349f001663",
   "metadata": {},
   "outputs": [
    {
     "name": "stdout",
     "output_type": "stream",
     "text": [
      "Animal Class Called!\n"
     ]
    }
   ],
   "source": [
    "animal = Animal()"
   ]
  },
  {
   "cell_type": "code",
   "execution_count": 20,
   "id": "9352ee2a-b166-4654-a38a-927a80be29b7",
   "metadata": {},
   "outputs": [
    {
     "name": "stdout",
     "output_type": "stream",
     "text": [
      "Animal -> Method1\n"
     ]
    }
   ],
   "source": [
    "animal.method1()"
   ]
  },
  {
   "cell_type": "code",
   "execution_count": 21,
   "id": "b3272bce-ddc7-4eb8-9ae8-3b2471a842e9",
   "metadata": {},
   "outputs": [
    {
     "name": "stdout",
     "output_type": "stream",
     "text": [
      "Animal -> Method2\n"
     ]
    }
   ],
   "source": [
    "animal.method2()"
   ]
  },
  {
   "cell_type": "code",
   "execution_count": 22,
   "id": "65b729c0-c56a-437b-bf41-cffe85755a36",
   "metadata": {},
   "outputs": [],
   "source": [
    "class Cat(Animal):\n",
    "    def __init__(self):\n",
    "        Animal.__init__(self)\n",
    "        print(\"Cat Init Called!\")\n",
    "    def method2(self):\n",
    "        print(\"Cat -> Method2\")"
   ]
  },
  {
   "cell_type": "code",
   "execution_count": null,
   "id": "4c1ae028-c8c2-452e-b760-ecc7c4499a1a",
   "metadata": {},
   "outputs": [],
   "source": []
  },
  {
   "cell_type": "code",
   "execution_count": null,
   "id": "fa03a3e2-9d37-4053-bffe-372730644374",
   "metadata": {},
   "outputs": [],
   "source": []
  },
  {
   "cell_type": "code",
   "execution_count": 23,
   "id": "94820ab8-fc07-4de4-bedd-de1add3555da",
   "metadata": {},
   "outputs": [
    {
     "name": "stdout",
     "output_type": "stream",
     "text": [
      "Animal Class Called!\n",
      "Cat Init Called!\n"
     ]
    }
   ],
   "source": [
    "cat = Cat()"
   ]
  },
  {
   "cell_type": "code",
   "execution_count": 24,
   "id": "abf8ec96-bfac-4e27-9090-757282982d2a",
   "metadata": {},
   "outputs": [
    {
     "name": "stdout",
     "output_type": "stream",
     "text": [
      "Animal -> Method1\n"
     ]
    }
   ],
   "source": [
    "cat.method1()"
   ]
  },
  {
   "cell_type": "code",
   "execution_count": 26,
   "id": "0800c5c8-1d18-4db9-9180-8081feec02bd",
   "metadata": {},
   "outputs": [
    {
     "name": "stdout",
     "output_type": "stream",
     "text": [
      "Cat -> Method2\n"
     ]
    }
   ],
   "source": [
    "cat.method2()"
   ]
  },
  {
   "cell_type": "code",
   "execution_count": 27,
   "id": "1ada9ace-933c-4ac9-9d67-adb013697ab7",
   "metadata": {},
   "outputs": [],
   "source": [
    "# polymorphism"
   ]
  },
  {
   "cell_type": "code",
   "execution_count": 29,
   "id": "e78d3b47-25eb-42f6-a1f6-8d01aead12b8",
   "metadata": {},
   "outputs": [],
   "source": [
    "class Apple():\n",
    "    def __init__(self):\n",
    "        print(\"Apple Called!\")\n",
    "    def getInfo(self):\n",
    "        print(\"Apple\")"
   ]
  },
  {
   "cell_type": "code",
   "execution_count": 30,
   "id": "cb08ff21-3aff-415a-8913-62a134a5b0cf",
   "metadata": {},
   "outputs": [],
   "source": [
    "class PineApple():\n",
    "    def __init__(self):\n",
    "        print(\"Pineapple Called!\")\n",
    "    def getInfo(self):\n",
    "        print(\"Pineapple\")"
   ]
  },
  {
   "cell_type": "code",
   "execution_count": 31,
   "id": "b1c2de7b-ccc7-4617-afb2-51a3a5029a6e",
   "metadata": {},
   "outputs": [
    {
     "name": "stdout",
     "output_type": "stream",
     "text": [
      "Apple Called!\n",
      "Pineapple Called!\n"
     ]
    }
   ],
   "source": [
    "apple = Apple()\n",
    "pineapple = PineApple()"
   ]
  },
  {
   "cell_type": "code",
   "execution_count": 32,
   "id": "fc0d6144-7083-4032-8aca-ada4d04dc2a1",
   "metadata": {},
   "outputs": [],
   "source": [
    "fruits = [apple,pineapple]"
   ]
  },
  {
   "cell_type": "code",
   "execution_count": 33,
   "id": "55f6e283-64b4-4e58-84ca-19a023c7f859",
   "metadata": {},
   "outputs": [
    {
     "name": "stdout",
     "output_type": "stream",
     "text": [
      "Apple\n",
      "Pineapple\n"
     ]
    }
   ],
   "source": [
    "for fruit in fruits:\n",
    "    fruit.getInfo()"
   ]
  },
  {
   "cell_type": "code",
   "execution_count": null,
   "id": "464db5fa-1cbe-4d7c-b72b-9b295cbda343",
   "metadata": {},
   "outputs": [],
   "source": []
  },
  {
   "cell_type": "code",
   "execution_count": null,
   "id": "6a0d3760-b899-4e52-8ba7-b945057fc862",
   "metadata": {},
   "outputs": [],
   "source": []
  }
 ],
 "metadata": {
  "kernelspec": {
   "display_name": "Python 3 (ipykernel)",
   "language": "python",
   "name": "python3"
  },
  "language_info": {
   "codemirror_mode": {
    "name": "ipython",
    "version": 3
   },
   "file_extension": ".py",
   "mimetype": "text/x-python",
   "name": "python",
   "nbconvert_exporter": "python",
   "pygments_lexer": "ipython3",
   "version": "3.9.12"
  }
 },
 "nbformat": 4,
 "nbformat_minor": 5
}
