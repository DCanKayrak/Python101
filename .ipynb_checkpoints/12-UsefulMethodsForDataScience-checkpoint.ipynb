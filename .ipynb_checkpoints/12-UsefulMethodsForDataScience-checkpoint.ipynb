{
 "cells": [
  {
   "cell_type": "markdown",
   "id": "173378dd-11cb-47e7-a36f-6eec203e5abe",
   "metadata": {},
   "source": [
    "# Range"
   ]
  },
  {
   "cell_type": "code",
   "execution_count": 1,
   "id": "a87db768-3b46-4a82-a37f-b53bf414a685",
   "metadata": {},
   "outputs": [
    {
     "data": {
      "text/plain": [
       "[0, 1, 2, 3, 4, 5, 6, 7, 8, 9, 10, 11, 12, 13, 14]"
      ]
     },
     "execution_count": 1,
     "metadata": {},
     "output_type": "execute_result"
    }
   ],
   "source": [
    "list(range(15))"
   ]
  },
  {
   "cell_type": "code",
   "execution_count": 2,
   "id": "fe556006-9661-462d-875e-aea28df33b07",
   "metadata": {},
   "outputs": [
    {
     "name": "stdout",
     "output_type": "stream",
     "text": [
      "0\n",
      "5\n",
      "10\n",
      "15\n",
      "20\n",
      "25\n",
      "30\n",
      "35\n",
      "40\n",
      "45\n",
      "50\n",
      "55\n",
      "60\n",
      "65\n",
      "70\n"
     ]
    }
   ],
   "source": [
    "for i in list(range(15)):\n",
    "    print(i * 5)"
   ]
  },
  {
   "cell_type": "code",
   "execution_count": 3,
   "id": "03c03ed3-cac0-449d-aa5c-29bb7a1dc8c0",
   "metadata": {},
   "outputs": [],
   "source": [
    "# range(start, stop, step)"
   ]
  },
  {
   "cell_type": "code",
   "execution_count": 4,
   "id": "1ff69ae8-af71-49e5-bc18-8dc87d975077",
   "metadata": {},
   "outputs": [
    {
     "data": {
      "text/plain": [
       "[3, 10, 17, 24, 31, 38, 45]"
      ]
     },
     "execution_count": 4,
     "metadata": {},
     "output_type": "execute_result"
    }
   ],
   "source": [
    "list(range(3,50,7))"
   ]
  },
  {
   "cell_type": "markdown",
   "id": "4c7f23ca-29f5-4a1d-81ac-380608565922",
   "metadata": {},
   "source": [
    "# enumerate"
   ]
  },
  {
   "cell_type": "code",
   "execution_count": 5,
   "id": "d380fca7-3ed6-4bbb-80d5-bf7e027174d2",
   "metadata": {},
   "outputs": [
    {
     "name": "stdout",
     "output_type": "stream",
     "text": [
      "Step => 1,Value =>0\n",
      "Step => 2,Value =>1\n",
      "Step => 3,Value =>2\n",
      "Step => 4,Value =>3\n",
      "Step => 5,Value =>4\n",
      "Step => 6,Value =>5\n",
      "Step => 7,Value =>6\n",
      "Step => 8,Value =>7\n",
      "Step => 9,Value =>8\n",
      "Step => 10,Value =>9\n",
      "Step => 11,Value =>10\n",
      "Step => 12,Value =>11\n",
      "Step => 13,Value =>12\n",
      "Step => 14,Value =>13\n",
      "Step => 15,Value =>14\n"
     ]
    }
   ],
   "source": [
    "step = 1\n",
    "for i in list(range(15)):\n",
    "    print(f\"Step => {step},Value =>{i}\")\n",
    "    step = step+1\n",
    "    i = i+1"
   ]
  },
  {
   "cell_type": "code",
   "execution_count": 6,
   "id": "6164bac7-fdb5-4e45-9e69-a53784c97cdb",
   "metadata": {},
   "outputs": [
    {
     "name": "stdout",
     "output_type": "stream",
     "text": [
      "(0, 0)\n",
      "(1, 1)\n",
      "(2, 2)\n",
      "(3, 3)\n",
      "(4, 4)\n",
      "(5, 5)\n",
      "(6, 6)\n",
      "(7, 7)\n",
      "(8, 8)\n",
      "(9, 9)\n",
      "(10, 10)\n",
      "(11, 11)\n",
      "(12, 12)\n",
      "(13, 13)\n",
      "(14, 14)\n"
     ]
    }
   ],
   "source": [
    "# with enumerate\n",
    "for i in enumerate(list(range(15))):\n",
    "    print(i)"
   ]
  },
  {
   "cell_type": "code",
   "execution_count": 7,
   "id": "013441d1-190e-4ff4-b8ac-30c3f2247dfa",
   "metadata": {},
   "outputs": [],
   "source": [
    "# enumerates returns tuple. "
   ]
  },
  {
   "cell_type": "code",
   "execution_count": 8,
   "id": "78f53b8f-2bc0-498d-af08-8c182529a38b",
   "metadata": {},
   "outputs": [
    {
     "name": "stdout",
     "output_type": "stream",
     "text": [
      "0\n",
      "1\n",
      "2\n",
      "3\n",
      "4\n",
      "5\n",
      "6\n",
      "7\n",
      "8\n",
      "9\n",
      "10\n",
      "11\n",
      "12\n",
      "13\n",
      "14\n"
     ]
    }
   ],
   "source": [
    "for (x,y) in enumerate(list(range(15))):\n",
    "    print(x)"
   ]
  },
  {
   "cell_type": "markdown",
   "id": "7a5a8350-dc9e-4b43-8575-34463f702b0b",
   "metadata": {},
   "source": [
    "# Random"
   ]
  },
  {
   "cell_type": "code",
   "execution_count": 11,
   "id": "ca48253b-45ca-48c7-b1d2-9e0705418e90",
   "metadata": {},
   "outputs": [],
   "source": [
    "from random import randint"
   ]
  },
  {
   "cell_type": "code",
   "execution_count": 13,
   "id": "023721f8-4a04-4789-9bff-ca5219329819",
   "metadata": {},
   "outputs": [
    {
     "data": {
      "text/plain": [
       "21"
      ]
     },
     "execution_count": 13,
     "metadata": {},
     "output_type": "execute_result"
    }
   ],
   "source": [
    "randint(0,100)"
   ]
  },
  {
   "cell_type": "code",
   "execution_count": 14,
   "id": "559b7c40-5188-465a-86e3-9f7b54e02295",
   "metadata": {},
   "outputs": [
    {
     "data": {
      "text/plain": [
       "7"
      ]
     },
     "execution_count": 14,
     "metadata": {},
     "output_type": "execute_result"
    }
   ],
   "source": [
    "randint(0,10)"
   ]
  },
  {
   "cell_type": "code",
   "execution_count": 18,
   "id": "272522a3-fced-4dde-97e9-4c418ac784ec",
   "metadata": {},
   "outputs": [
    {
     "data": {
      "text/plain": [
       "[0, 1, 2, 3, 4, 5, 6, 7, 8, 9]"
      ]
     },
     "execution_count": 18,
     "metadata": {},
     "output_type": "execute_result"
    }
   ],
   "source": [
    "myList = list(range(10))\n",
    "myList"
   ]
  },
  {
   "cell_type": "code",
   "execution_count": 19,
   "id": "dd0024f6-a2b0-4efd-9f49-fe6f0abcfce9",
   "metadata": {},
   "outputs": [
    {
     "data": {
      "text/plain": [
       "9"
      ]
     },
     "execution_count": 19,
     "metadata": {},
     "output_type": "execute_result"
    }
   ],
   "source": [
    "myList[randint(0,len(myList))]"
   ]
  },
  {
   "cell_type": "code",
   "execution_count": 20,
   "id": "39ee9753-6d16-4c36-9519-af05fa6eeb32",
   "metadata": {},
   "outputs": [
    {
     "data": {
      "text/plain": [
       "0"
      ]
     },
     "execution_count": 20,
     "metadata": {},
     "output_type": "execute_result"
    }
   ],
   "source": [
    "myList[randint(0,len(myList))]"
   ]
  },
  {
   "cell_type": "code",
   "execution_count": 21,
   "id": "41b1cea6-71a8-4209-9aa0-8466a84828a1",
   "metadata": {},
   "outputs": [
    {
     "data": {
      "text/plain": [
       "0"
      ]
     },
     "execution_count": 21,
     "metadata": {},
     "output_type": "execute_result"
    }
   ],
   "source": [
    "myList[randint(0,len(myList))]"
   ]
  },
  {
   "cell_type": "code",
   "execution_count": 22,
   "id": "404c09d0-5fb0-4348-bfb6-547db19f7955",
   "metadata": {},
   "outputs": [
    {
     "data": {
      "text/plain": [
       "5"
      ]
     },
     "execution_count": 22,
     "metadata": {},
     "output_type": "execute_result"
    }
   ],
   "source": [
    "myList[randint(0,len(myList))]"
   ]
  },
  {
   "cell_type": "code",
   "execution_count": 24,
   "id": "f2ce5f8e-7e49-41ed-9c2b-b60f3aa08090",
   "metadata": {},
   "outputs": [
    {
     "data": {
      "text/plain": [
       "1"
      ]
     },
     "execution_count": 24,
     "metadata": {},
     "output_type": "execute_result"
    }
   ],
   "source": [
    "myList[randint(0,len(myList)-1)]"
   ]
  },
  {
   "cell_type": "code",
   "execution_count": 25,
   "id": "125aa0d0-1354-4889-b9a8-fcc8867693ba",
   "metadata": {},
   "outputs": [
    {
     "data": {
      "text/plain": [
       "7"
      ]
     },
     "execution_count": 25,
     "metadata": {},
     "output_type": "execute_result"
    }
   ],
   "source": [
    "myList[randint(0,len(myList))]"
   ]
  },
  {
   "cell_type": "code",
   "execution_count": 26,
   "id": "1e347af2-4d12-42f8-a84e-f4d0a1e8cd26",
   "metadata": {},
   "outputs": [
    {
     "data": {
      "text/plain": [
       "5"
      ]
     },
     "execution_count": 26,
     "metadata": {},
     "output_type": "execute_result"
    }
   ],
   "source": [
    "myList[randint(0,len(myList)-1)]"
   ]
  },
  {
   "cell_type": "code",
   "execution_count": 28,
   "id": "f27c7868-bd98-4666-a2e4-b09ced6b5715",
   "metadata": {},
   "outputs": [],
   "source": [
    "# shuffling lists "
   ]
  },
  {
   "cell_type": "code",
   "execution_count": 29,
   "id": "27b6bba4-700c-4cd8-8aab-14c4a72cccc9",
   "metadata": {},
   "outputs": [],
   "source": [
    "from random import shuffle"
   ]
  },
  {
   "cell_type": "code",
   "execution_count": 30,
   "id": "41032919-7e51-4cf8-a19f-2ce207f39d19",
   "metadata": {},
   "outputs": [],
   "source": [
    "shuffle(myList)"
   ]
  },
  {
   "cell_type": "code",
   "execution_count": 31,
   "id": "cac452d8-2e28-4bb6-b30d-1378b9671a0a",
   "metadata": {},
   "outputs": [
    {
     "data": {
      "text/plain": [
       "[6, 5, 3, 1, 4, 2, 9, 8, 0, 7]"
      ]
     },
     "execution_count": 31,
     "metadata": {},
     "output_type": "execute_result"
    }
   ],
   "source": [
    "myList"
   ]
  },
  {
   "cell_type": "code",
   "execution_count": 32,
   "id": "830fdb8f-919d-4ac3-b728-4fcf8afac6c7",
   "metadata": {},
   "outputs": [
    {
     "data": {
      "text/plain": [
       "[3, 8, 7, 2, 1, 6, 0, 9, 5, 4]"
      ]
     },
     "execution_count": 32,
     "metadata": {},
     "output_type": "execute_result"
    }
   ],
   "source": [
    "shuffle(myList)\n",
    "myList"
   ]
  },
  {
   "cell_type": "markdown",
   "id": "4d567943-717f-4dcb-b7a9-631d4f69340c",
   "metadata": {},
   "source": [
    "# Zip"
   ]
  },
  {
   "cell_type": "code",
   "execution_count": 33,
   "id": "983d6351-63f8-4ba2-9592-f83bcc91ea55",
   "metadata": {},
   "outputs": [],
   "source": [
    "foodList = [\"banana\",\"apple\",\"pineapple\"]\n",
    "caloriList = [100,200,300]\n",
    "dayList = [\"Friday\",\"Saturday\",\"Monday\"]"
   ]
  },
  {
   "cell_type": "code",
   "execution_count": 34,
   "id": "b47f56bd-0fd3-497e-9a4c-78e9298f35aa",
   "metadata": {},
   "outputs": [],
   "source": [
    "listOfZipped = list(zip(foodList,caloriList,dayList))"
   ]
  },
  {
   "cell_type": "code",
   "execution_count": 35,
   "id": "c4f18b42-5d98-4954-92f9-901ba4f8873d",
   "metadata": {},
   "outputs": [
    {
     "data": {
      "text/plain": [
       "list"
      ]
     },
     "execution_count": 35,
     "metadata": {},
     "output_type": "execute_result"
    }
   ],
   "source": [
    "type(listOfZipped)"
   ]
  },
  {
   "cell_type": "code",
   "execution_count": 36,
   "id": "ff076544-14cb-498a-8ebe-617c9b2e5300",
   "metadata": {},
   "outputs": [
    {
     "data": {
      "text/plain": [
       "[('banana', 100, 'Friday'),\n",
       " ('apple', 200, 'Saturday'),\n",
       " ('pineapple', 300, 'Monday')]"
      ]
     },
     "execution_count": 36,
     "metadata": {},
     "output_type": "execute_result"
    }
   ],
   "source": [
    "listOfZipped"
   ]
  },
  {
   "cell_type": "code",
   "execution_count": 37,
   "id": "f00c2319-39be-4561-9fb5-0ed0044deb18",
   "metadata": {},
   "outputs": [
    {
     "name": "stdout",
     "output_type": "stream",
     "text": [
      "<class 'tuple'>\n",
      "<class 'tuple'>\n",
      "<class 'tuple'>\n"
     ]
    }
   ],
   "source": [
    "for item in listOfZipped:\n",
    "    print(type(item))"
   ]
  },
  {
   "cell_type": "markdown",
   "id": "8bfdba62-b271-4328-ba82-af2a1996acf4",
   "metadata": {},
   "source": [
    "# High Level Lists"
   ]
  },
  {
   "cell_type": "code",
   "execution_count": 38,
   "id": "af3e9c65-2e41-4a7b-8cdd-ad2084f572e1",
   "metadata": {},
   "outputs": [],
   "source": [
    "listExample = []\n",
    "name = \"DANYAL CAN KAYRAK\""
   ]
  },
  {
   "cell_type": "code",
   "execution_count": 39,
   "id": "0c49ca5e-673a-454e-9fe9-65afd06fc9e4",
   "metadata": {},
   "outputs": [],
   "source": [
    "for letter in name:\n",
    "    listExample.append(letter)"
   ]
  },
  {
   "cell_type": "code",
   "execution_count": 40,
   "id": "4778b8b5-4351-4403-9db1-26fc3e00cf0b",
   "metadata": {},
   "outputs": [
    {
     "data": {
      "text/plain": [
       "['D',\n",
       " 'A',\n",
       " 'N',\n",
       " 'Y',\n",
       " 'A',\n",
       " 'L',\n",
       " ' ',\n",
       " 'C',\n",
       " 'A',\n",
       " 'N',\n",
       " ' ',\n",
       " 'K',\n",
       " 'A',\n",
       " 'Y',\n",
       " 'R',\n",
       " 'A',\n",
       " 'K']"
      ]
     },
     "execution_count": 40,
     "metadata": {},
     "output_type": "execute_result"
    }
   ],
   "source": [
    "listExample"
   ]
  },
  {
   "cell_type": "code",
   "execution_count": 41,
   "id": "4b18676f-bba4-4a22-9f0a-a9078d38eaf7",
   "metadata": {},
   "outputs": [],
   "source": [
    "newString = \"DANYAL CAN\""
   ]
  },
  {
   "cell_type": "code",
   "execution_count": 42,
   "id": "e824888d-b20e-47e9-9912-28ff32166406",
   "metadata": {},
   "outputs": [],
   "source": [
    "newList = [item for item in newString]"
   ]
  },
  {
   "cell_type": "code",
   "execution_count": 43,
   "id": "3c365848-2d7a-4413-8bfe-119dfb48c03a",
   "metadata": {},
   "outputs": [
    {
     "data": {
      "text/plain": [
       "['D', 'A', 'N', 'Y', 'A', 'L', ' ', 'C', 'A', 'N']"
      ]
     },
     "execution_count": 43,
     "metadata": {},
     "output_type": "execute_result"
    }
   ],
   "source": [
    "newList"
   ]
  },
  {
   "cell_type": "code",
   "execution_count": 44,
   "id": "5d8f11aa-2c47-42de-972c-d5cd54645d45",
   "metadata": {},
   "outputs": [],
   "source": [
    "secondListExample = [num * 5 for num in list(range(5))]"
   ]
  },
  {
   "cell_type": "code",
   "execution_count": 45,
   "id": "f97492f7-3629-4d67-8387-e5bb4d72d5d9",
   "metadata": {},
   "outputs": [
    {
     "data": {
      "text/plain": [
       "[0, 5, 10, 15, 20]"
      ]
     },
     "execution_count": 45,
     "metadata": {},
     "output_type": "execute_result"
    }
   ],
   "source": [
    "secondListExample"
   ]
  },
  {
   "cell_type": "code",
   "execution_count": null,
   "id": "2a90f295-8c4f-4998-897f-84f113d4eb46",
   "metadata": {},
   "outputs": [],
   "source": []
  },
  {
   "cell_type": "code",
   "execution_count": null,
   "id": "88675577-0d48-447a-ac03-28214b0123ad",
   "metadata": {},
   "outputs": [],
   "source": []
  },
  {
   "cell_type": "code",
   "execution_count": null,
   "id": "5688d5ae-e0a4-4f00-bb78-f63651705a82",
   "metadata": {},
   "outputs": [],
   "source": []
  },
  {
   "cell_type": "code",
   "execution_count": null,
   "id": "b6d4b005-b828-48bd-b17b-32f691676ce2",
   "metadata": {},
   "outputs": [],
   "source": []
  },
  {
   "cell_type": "code",
   "execution_count": null,
   "id": "1e817609-5b12-4102-a195-299af4c02609",
   "metadata": {},
   "outputs": [],
   "source": []
  },
  {
   "cell_type": "code",
   "execution_count": null,
   "id": "cd9e997b-2f7b-4842-84a0-56e46fae83be",
   "metadata": {},
   "outputs": [],
   "source": []
  },
  {
   "cell_type": "code",
   "execution_count": null,
   "id": "9c440e90-89b3-4897-b33d-0e02ebede3dd",
   "metadata": {},
   "outputs": [],
   "source": []
  },
  {
   "cell_type": "code",
   "execution_count": null,
   "id": "8bc19a8a-7b4e-415f-911a-0f284c9071ab",
   "metadata": {},
   "outputs": [],
   "source": []
  }
 ],
 "metadata": {
  "kernelspec": {
   "display_name": "Python 3 (ipykernel)",
   "language": "python",
   "name": "python3"
  },
  "language_info": {
   "codemirror_mode": {
    "name": "ipython",
    "version": 3
   },
   "file_extension": ".py",
   "mimetype": "text/x-python",
   "name": "python",
   "nbconvert_exporter": "python",
   "pygments_lexer": "ipython3",
   "version": "3.9.12"
  }
 },
 "nbformat": 4,
 "nbformat_minor": 5
}
