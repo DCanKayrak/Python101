{
 "cells": [
  {
   "cell_type": "code",
   "execution_count": 1,
   "id": "e6bc059c-41f7-4aa7-8d3c-1cb05eff8aec",
   "metadata": {},
   "outputs": [],
   "source": [
    "import numpy as np"
   ]
  },
  {
   "cell_type": "code",
   "execution_count": 2,
   "id": "3cf96356-4701-4a67-857d-1413d446dbab",
   "metadata": {},
   "outputs": [
    {
     "data": {
      "text/plain": [
       "array([ 0,  1,  2,  3,  4,  5,  6,  7,  8,  9, 10, 11, 12, 13, 14, 15, 16,\n",
       "       17, 18, 19, 20, 21, 22, 23, 24, 25, 26, 27, 28, 29])"
      ]
     },
     "execution_count": 2,
     "metadata": {},
     "output_type": "execute_result"
    }
   ],
   "source": [
    "myList = np.arange(30)\n",
    "myList"
   ]
  },
  {
   "cell_type": "code",
   "execution_count": 3,
   "id": "be0c9bd6-1527-4845-ab36-2de6cd0a0806",
   "metadata": {},
   "outputs": [],
   "source": [
    "slicingList = myList[0:4]"
   ]
  },
  {
   "cell_type": "code",
   "execution_count": 4,
   "id": "e86f7e7b-e72f-4095-b3ca-df47c022cd7a",
   "metadata": {},
   "outputs": [
    {
     "data": {
      "text/plain": [
       "array([0, 1, 2, 3])"
      ]
     },
     "execution_count": 4,
     "metadata": {},
     "output_type": "execute_result"
    }
   ],
   "source": [
    "slicingList"
   ]
  },
  {
   "cell_type": "code",
   "execution_count": 5,
   "id": "0aba863d-b815-42fb-8e57-9d9b2d396cbe",
   "metadata": {},
   "outputs": [
    {
     "data": {
      "text/plain": [
       "array([999, 999, 999, 999])"
      ]
     },
     "execution_count": 5,
     "metadata": {},
     "output_type": "execute_result"
    }
   ],
   "source": [
    "slicingList[:] = 999\n",
    "slicingList"
   ]
  },
  {
   "cell_type": "code",
   "execution_count": 6,
   "id": "15bcafb3-2044-410a-8269-178a355e7b4d",
   "metadata": {},
   "outputs": [
    {
     "data": {
      "text/plain": [
       "array([999, 999, 999, 999,   4,   5,   6,   7,   8,   9,  10,  11,  12,\n",
       "        13,  14,  15,  16,  17,  18,  19,  20,  21,  22,  23,  24,  25,\n",
       "        26,  27,  28,  29])"
      ]
     },
     "execution_count": 6,
     "metadata": {},
     "output_type": "execute_result"
    }
   ],
   "source": [
    "myList"
   ]
  },
  {
   "cell_type": "code",
   "execution_count": 7,
   "id": "4af08f82-f962-4264-b82b-6fb2215ab053",
   "metadata": {},
   "outputs": [
    {
     "data": {
      "text/plain": [
       "array([ 0,  1,  2,  3,  4,  5,  6,  7,  8,  9, 10, 11, 12, 13, 14, 15, 16,\n",
       "       17, 18, 19, 20, 21, 22, 23, 24, 25, 26, 27, 28, 29])"
      ]
     },
     "execution_count": 7,
     "metadata": {},
     "output_type": "execute_result"
    }
   ],
   "source": [
    "ExList = np.arange(30)\n",
    "ExList"
   ]
  },
  {
   "cell_type": "code",
   "execution_count": 8,
   "id": "edfa3e50-61e4-4247-8d37-9df1ac2720a9",
   "metadata": {},
   "outputs": [],
   "source": [
    "npList = ExList.copy()"
   ]
  },
  {
   "cell_type": "code",
   "execution_count": 9,
   "id": "343eb31a-221a-4950-8760-47f5ff4d9ac8",
   "metadata": {},
   "outputs": [
    {
     "data": {
      "text/plain": [
       "array([ 0,  1,  2,  3,  4,  5,  6,  7,  8,  9, 10, 11, 12, 13, 14, 15, 16,\n",
       "       17, 18, 19, 20, 21, 22, 23, 24, 25, 26, 27, 28, 29])"
      ]
     },
     "execution_count": 9,
     "metadata": {},
     "output_type": "execute_result"
    }
   ],
   "source": [
    "npList"
   ]
  },
  {
   "cell_type": "code",
   "execution_count": 10,
   "id": "4020461d-a5c4-4c59-ab1f-1bc3f13c6cca",
   "metadata": {},
   "outputs": [],
   "source": [
    "npList[:] = 5"
   ]
  },
  {
   "cell_type": "code",
   "execution_count": 11,
   "id": "cf8199fe-d9a2-469d-b2c9-f33e20e4b76b",
   "metadata": {},
   "outputs": [
    {
     "data": {
      "text/plain": [
       "array([5, 5, 5, 5, 5, 5, 5, 5, 5, 5, 5, 5, 5, 5, 5, 5, 5, 5, 5, 5, 5, 5,\n",
       "       5, 5, 5, 5, 5, 5, 5, 5])"
      ]
     },
     "execution_count": 11,
     "metadata": {},
     "output_type": "execute_result"
    }
   ],
   "source": [
    "npList"
   ]
  },
  {
   "cell_type": "code",
   "execution_count": 12,
   "id": "de3b85e0-f546-447a-b6ca-bfd9ebd47237",
   "metadata": {},
   "outputs": [
    {
     "data": {
      "text/plain": [
       "array([ 0,  1,  2,  3,  4,  5,  6,  7,  8,  9, 10, 11, 12, 13, 14, 15, 16,\n",
       "       17, 18, 19, 20, 21, 22, 23, 24, 25, 26, 27, 28, 29])"
      ]
     },
     "execution_count": 12,
     "metadata": {},
     "output_type": "execute_result"
    }
   ],
   "source": [
    "ExList"
   ]
  },
  {
   "cell_type": "code",
   "execution_count": null,
   "id": "ab92d0c5-22bd-42e7-95cb-8ae75231d918",
   "metadata": {},
   "outputs": [],
   "source": []
  }
 ],
 "metadata": {
  "kernelspec": {
   "display_name": "Python 3 (ipykernel)",
   "language": "python",
   "name": "python3"
  },
  "language_info": {
   "codemirror_mode": {
    "name": "ipython",
    "version": 3
   },
   "file_extension": ".py",
   "mimetype": "text/x-python",
   "name": "python",
   "nbconvert_exporter": "python",
   "pygments_lexer": "ipython3",
   "version": "3.9.12"
  }
 },
 "nbformat": 4,
 "nbformat_minor": 5
}
