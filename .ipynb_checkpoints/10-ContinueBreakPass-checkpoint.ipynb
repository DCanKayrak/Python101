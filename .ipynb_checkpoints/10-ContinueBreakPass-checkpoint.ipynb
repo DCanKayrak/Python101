{
 "cells": [
  {
   "cell_type": "code",
   "execution_count": 1,
   "id": "920cc7fc-aac6-4cf1-b4ee-248378857f78",
   "metadata": {},
   "outputs": [],
   "source": [
    "myList = [1,4,67,87,5,3,2]"
   ]
  },
  {
   "cell_type": "code",
   "execution_count": 3,
   "id": "0ba06eb9-8aaa-461c-98ba-93753af90563",
   "metadata": {},
   "outputs": [
    {
     "name": "stdout",
     "output_type": "stream",
     "text": [
      "1\n",
      "67\n",
      "87\n",
      "5\n",
      "3\n"
     ]
    }
   ],
   "source": [
    "for item in myList:\n",
    "    if item %2 == 0:\n",
    "        continue\n",
    "    print(item)"
   ]
  },
  {
   "cell_type": "code",
   "execution_count": 4,
   "id": "f34a7df2-94ea-49a8-836c-a6ebf8977440",
   "metadata": {},
   "outputs": [
    {
     "name": "stdout",
     "output_type": "stream",
     "text": [
      "1\n",
      "4\n"
     ]
    }
   ],
   "source": [
    "for item in myList:\n",
    "    if item == 67:\n",
    "        break\n",
    "    print(item)"
   ]
  },
  {
   "cell_type": "code",
   "execution_count": null,
   "id": "d8fcf9f9-096a-48fd-b20a-4b3e1f0408cc",
   "metadata": {},
   "outputs": [],
   "source": [
    "# if you dont want to type anything you should type pass\n",
    "for item in myList:\n",
    "    pass"
   ]
  },
  {
   "cell_type": "code",
   "execution_count": null,
   "id": "d639cdf0-3e0e-412b-a119-2200bef6ac7d",
   "metadata": {},
   "outputs": [],
   "source": []
  }
 ],
 "metadata": {
  "kernelspec": {
   "display_name": "Python 3 (ipykernel)",
   "language": "python",
   "name": "python3"
  },
  "language_info": {
   "codemirror_mode": {
    "name": "ipython",
    "version": 3
   },
   "file_extension": ".py",
   "mimetype": "text/x-python",
   "name": "python",
   "nbconvert_exporter": "python",
   "pygments_lexer": "ipython3",
   "version": "3.9.12"
  }
 },
 "nbformat": 4,
 "nbformat_minor": 5
}
