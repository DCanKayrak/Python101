{
 "cells": [
  {
   "cell_type": "code",
   "execution_count": 1,
   "id": "a9105fe9-dc97-4c56-80b6-f12c4b3491d8",
   "metadata": {},
   "outputs": [],
   "source": [
    "liste = [1,2,3,4,5]"
   ]
  },
  {
   "cell_type": "code",
   "execution_count": 2,
   "id": "f14cb799-d83e-4603-86e9-7e9437103f5e",
   "metadata": {},
   "outputs": [
    {
     "data": {
      "text/plain": [
       "1"
      ]
     },
     "execution_count": 2,
     "metadata": {},
     "output_type": "execute_result"
    }
   ],
   "source": [
    "liste[0]"
   ]
  },
  {
   "cell_type": "code",
   "execution_count": 3,
   "id": "fbb79f89-eb08-4258-a5e8-05ab951cf0b4",
   "metadata": {},
   "outputs": [
    {
     "data": {
      "text/plain": [
       "list"
      ]
     },
     "execution_count": 3,
     "metadata": {},
     "output_type": "execute_result"
    }
   ],
   "source": [
    "type(liste)"
   ]
  },
  {
   "cell_type": "code",
   "execution_count": 4,
   "id": "7a0e74b4-4079-4949-9847-4596064f80f1",
   "metadata": {},
   "outputs": [],
   "source": [
    "# tuple veri tipleri de liste gibi çalışır tek farkı veriler değiştirilemez."
   ]
  },
  {
   "cell_type": "code",
   "execution_count": 5,
   "id": "c84d7e3d-1cfa-4e77-bb7b-4dbcaca81dbe",
   "metadata": {},
   "outputs": [],
   "source": [
    "t = (1,2,3,4,5)"
   ]
  },
  {
   "cell_type": "code",
   "execution_count": 6,
   "id": "af339a3a-2c3b-427e-be31-f00a534dd4b8",
   "metadata": {},
   "outputs": [
    {
     "data": {
      "text/plain": [
       "(1, 2, 3, 4, 5)"
      ]
     },
     "execution_count": 6,
     "metadata": {},
     "output_type": "execute_result"
    }
   ],
   "source": [
    "t"
   ]
  },
  {
   "cell_type": "code",
   "execution_count": 7,
   "id": "6fe19e06-94d3-4ad2-a4b7-1251e8933147",
   "metadata": {},
   "outputs": [
    {
     "data": {
      "text/plain": [
       "tuple"
      ]
     },
     "execution_count": 7,
     "metadata": {},
     "output_type": "execute_result"
    }
   ],
   "source": [
    "type(t)"
   ]
  },
  {
   "cell_type": "code",
   "execution_count": 8,
   "id": "7e6e44f0-31e0-4edd-afb2-9cdac1bb9006",
   "metadata": {},
   "outputs": [
    {
     "data": {
      "text/plain": [
       "1"
      ]
     },
     "execution_count": 8,
     "metadata": {},
     "output_type": "execute_result"
    }
   ],
   "source": [
    "t[0]"
   ]
  },
  {
   "cell_type": "code",
   "execution_count": 10,
   "id": "a1bda645-b296-486a-9042-c5922e16b87c",
   "metadata": {},
   "outputs": [],
   "source": [
    "# t[0] = 5 => TypeError verecektir."
   ]
  },
  {
   "cell_type": "code",
   "execution_count": 13,
   "id": "effd8b46-54e9-447a-b719-c8eac702f2ad",
   "metadata": {},
   "outputs": [],
   "source": [
    "a = tuple(liste)"
   ]
  },
  {
   "cell_type": "code",
   "execution_count": 18,
   "id": "8a2c2ebe-1ec8-44bd-a27e-2095144f7814",
   "metadata": {},
   "outputs": [
    {
     "data": {
      "text/plain": [
       "1"
      ]
     },
     "execution_count": 18,
     "metadata": {},
     "output_type": "execute_result"
    }
   ],
   "source": [
    "a\n",
    "a.count(2) # içerisinde parametreden kaç tane var ? "
   ]
  },
  {
   "cell_type": "code",
   "execution_count": 20,
   "id": "5acde0b8-5a38-4987-b029-43a09ea1236a",
   "metadata": {},
   "outputs": [
    {
     "data": {
      "text/plain": [
       "1"
      ]
     },
     "execution_count": 20,
     "metadata": {},
     "output_type": "execute_result"
    }
   ],
   "source": [
    "a.index(2) # parametre tuple da kaçıncı indexde ?"
   ]
  }
 ],
 "metadata": {
  "kernelspec": {
   "display_name": "Python 3 (ipykernel)",
   "language": "python",
   "name": "python3"
  },
  "language_info": {
   "codemirror_mode": {
    "name": "ipython",
    "version": 3
   },
   "file_extension": ".py",
   "mimetype": "text/x-python",
   "name": "python",
   "nbconvert_exporter": "python",
   "pygments_lexer": "ipython3",
   "version": "3.9.12"
  }
 },
 "nbformat": 4,
 "nbformat_minor": 5
}
