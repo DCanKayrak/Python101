{
 "cells": [
  {
   "cell_type": "code",
   "execution_count": 2,
   "id": "7d4ad516-6163-451d-8906-5b6335891260",
   "metadata": {},
   "outputs": [
    {
     "name": "stdout",
     "output_type": "stream",
     "text": [
      "0\n",
      "1\n",
      "2\n",
      "3\n",
      "4\n",
      "5\n",
      "6\n",
      "7\n",
      "8\n",
      "9\n"
     ]
    }
   ],
   "source": [
    "x = 0\n",
    "while x < 10:\n",
    "    print(x)\n",
    "    x = x + 1"
   ]
  },
  {
   "cell_type": "code",
   "execution_count": 7,
   "id": "37cfaba8-52d6-4673-a837-c4dee550ea7c",
   "metadata": {},
   "outputs": [
    {
     "name": "stdout",
     "output_type": "stream",
     "text": [
      "list contains : 3\n",
      "list contains : 3\n",
      "list contains : 3\n",
      "list not contains : 3\n"
     ]
    }
   ],
   "source": [
    "myList = [1,2,3,4,5]\n",
    "while 3 in myList:\n",
    "    print(\"list contains : 3\")\n",
    "    myList.pop()\n",
    "print(\"list not contains : 3\")"
   ]
  },
  {
   "cell_type": "code",
   "execution_count": 8,
   "id": "b90cf4bc-db3e-44f6-b9c5-3fa4de527835",
   "metadata": {},
   "outputs": [
    {
     "name": "stdout",
     "output_type": "stream",
     "text": [
      "0\n",
      "1\n",
      "2\n",
      "3\n"
     ]
    }
   ],
   "source": [
    "number = 0\n",
    "while number < 5:\n",
    "    if number == 4:\n",
    "        break\n",
    "    print(number)\n",
    "    number = number + 1"
   ]
  },
  {
   "cell_type": "code",
   "execution_count": 9,
   "id": "949b334e-5acb-4963-bdb2-5d97df689add",
   "metadata": {},
   "outputs": [
    {
     "name": "stdout",
     "output_type": "stream",
     "text": [
      "Var's value : 0\n",
      "Var's value : 1\n",
      "Var's value : 2\n",
      "Var's value : 3\n",
      "Var's value : 4\n",
      "Var's value : 5\n",
      "Var's value : 6\n",
      "Var's value : 7\n",
      "Var's value : 8\n",
      "Var's value : 9\n",
      "Var's value : 10\n",
      "Var's value : 11\n",
      "Var's value : 12\n",
      "Var's value : 13\n",
      "Var's value : 14\n"
     ]
    }
   ],
   "source": [
    "var = 0\n",
    "while var < 15:\n",
    "    print(f\"Var's value : {var}\")\n",
    "    var = var + 1"
   ]
  },
  {
   "cell_type": "code",
   "execution_count": null,
   "id": "f445efe2-4365-433a-a7e3-8caceaee8ead",
   "metadata": {},
   "outputs": [],
   "source": []
  },
  {
   "cell_type": "code",
   "execution_count": null,
   "id": "7b18a3b6-b521-4b7d-ac0d-165b94fc33b7",
   "metadata": {},
   "outputs": [],
   "source": []
  },
  {
   "cell_type": "code",
   "execution_count": null,
   "id": "999fda4d-9ead-4312-a892-7c3132b68e0b",
   "metadata": {},
   "outputs": [],
   "source": []
  },
  {
   "cell_type": "code",
   "execution_count": null,
   "id": "d0f6fe13-a6d6-4627-a93f-cb8dc18e2e1e",
   "metadata": {},
   "outputs": [],
   "source": []
  }
 ],
 "metadata": {
  "kernelspec": {
   "display_name": "Python 3 (ipykernel)",
   "language": "python",
   "name": "python3"
  },
  "language_info": {
   "codemirror_mode": {
    "name": "ipython",
    "version": 3
   },
   "file_extension": ".py",
   "mimetype": "text/x-python",
   "name": "python",
   "nbconvert_exporter": "python",
   "pygments_lexer": "ipython3",
   "version": "3.9.12"
  }
 },
 "nbformat": 4,
 "nbformat_minor": 5
}
