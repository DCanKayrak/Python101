{
 "cells": [
  {
   "cell_type": "markdown",
   "id": "3dde8ed9-76c7-4834-ad93-920eae578114",
   "metadata": {},
   "source": [
    "## str & len methods"
   ]
  },
  {
   "cell_type": "code",
   "execution_count": 1,
   "id": "9058ef1d-31c2-4c3c-9175-8450513c5d30",
   "metadata": {},
   "outputs": [],
   "source": [
    "class Fruit():\n",
    "    def __init__(self):\n",
    "        print(\"Fruit Called!\")"
   ]
  },
  {
   "cell_type": "code",
   "execution_count": 2,
   "id": "781a5a22-a739-4c65-91ac-d50f55b12a42",
   "metadata": {},
   "outputs": [
    {
     "name": "stdout",
     "output_type": "stream",
     "text": [
      "Fruit Called!\n"
     ]
    }
   ],
   "source": [
    "apple = Fruit()"
   ]
  },
  {
   "cell_type": "code",
   "execution_count": 4,
   "id": "c6b64a33-18ea-4949-aeed-c668cdef3965",
   "metadata": {},
   "outputs": [],
   "source": [
    "# len(apple) ==> Not Working"
   ]
  },
  {
   "cell_type": "code",
   "execution_count": 5,
   "id": "6a8c5ae7-bf7d-40df-a3f7-ecb5291e94d9",
   "metadata": {},
   "outputs": [],
   "source": [
    "# print(apple) ==> Not Working"
   ]
  },
  {
   "cell_type": "code",
   "execution_count": 6,
   "id": "284e2e56-b88e-40b5-b4cd-8cc8ed01a852",
   "metadata": {},
   "outputs": [],
   "source": [
    "myList = [1,2,3,4,5]"
   ]
  },
  {
   "cell_type": "code",
   "execution_count": 7,
   "id": "052ed32e-a6c1-415e-86c2-b3f99ec6663f",
   "metadata": {},
   "outputs": [
    {
     "name": "stdout",
     "output_type": "stream",
     "text": [
      "[1, 2, 3, 4, 5]\n"
     ]
    }
   ],
   "source": [
    "print(myList)"
   ]
  },
  {
   "cell_type": "code",
   "execution_count": 8,
   "id": "4d12d677-ac19-4a71-8f85-474a66f5c596",
   "metadata": {},
   "outputs": [
    {
     "data": {
      "text/plain": [
       "5"
      ]
     },
     "execution_count": 8,
     "metadata": {},
     "output_type": "execute_result"
    }
   ],
   "source": [
    "len(myList)"
   ]
  },
  {
   "cell_type": "code",
   "execution_count": 17,
   "id": "d52a16f9-26ac-4c42-90a8-a15c01e4955a",
   "metadata": {},
   "outputs": [],
   "source": [
    "class Fruit():\n",
    "    def __init__(self):\n",
    "        print(\"Fruit Called!\")\n",
    "    def __str__(self):\n",
    "        return \"It is fruit!\"\n",
    "    def __len__(self):\n",
    "        return 5"
   ]
  },
  {
   "cell_type": "code",
   "execution_count": 18,
   "id": "ce53dd15-2c54-4883-aec0-526f1a31f3bc",
   "metadata": {},
   "outputs": [
    {
     "name": "stdout",
     "output_type": "stream",
     "text": [
      "Fruit Called!\n"
     ]
    }
   ],
   "source": [
    "apple = Fruit()"
   ]
  },
  {
   "cell_type": "code",
   "execution_count": 19,
   "id": "9ae56752-3746-4466-a621-2a1dbf8ad0e5",
   "metadata": {},
   "outputs": [
    {
     "name": "stdout",
     "output_type": "stream",
     "text": [
      "It is fruit!\n"
     ]
    }
   ],
   "source": [
    "print(apple)"
   ]
  },
  {
   "cell_type": "code",
   "execution_count": 21,
   "id": "69626246-0bf3-4347-83ec-b45373c7ee09",
   "metadata": {},
   "outputs": [
    {
     "data": {
      "text/plain": [
       "5"
      ]
     },
     "execution_count": 21,
     "metadata": {},
     "output_type": "execute_result"
    }
   ],
   "source": [
    "len(apple)"
   ]
  }
 ],
 "metadata": {
  "kernelspec": {
   "display_name": "Python 3 (ipykernel)",
   "language": "python",
   "name": "python3"
  },
  "language_info": {
   "codemirror_mode": {
    "name": "ipython",
    "version": 3
   },
   "file_extension": ".py",
   "mimetype": "text/x-python",
   "name": "python",
   "nbconvert_exporter": "python",
   "pygments_lexer": "ipython3",
   "version": "3.9.12"
  }
 },
 "nbformat": 4,
 "nbformat_minor": 5
}
